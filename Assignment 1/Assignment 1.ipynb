{
 "cells": [
  {
   "cell_type": "markdown",
   "metadata": {},
   "source": [
    "# Assignment 1\n"
   ]
  },
  {
   "cell_type": "code",
   "execution_count": 177,
   "metadata": {
    "collapsed": true
   },
   "outputs": [],
   "source": [
    "import numpy as np\n",
    "np.random.seed(13) #TODO Check if this is used for sgd\n",
    "import keras.backend as K\n",
    "from keras.models import Sequential\n",
    "from keras.layers import Dense, Embedding, Reshape, Lambda\n",
    "from keras.utils import np_utils\n",
    "from keras.utils.data_utils import get_file\n",
    "from keras.preprocessing.text import Tokenizer\n",
    "from keras.utils.vis_utils import model_to_dot\n",
    "from keras.preprocessing import sequence\n",
    "from gensim.models import KeyedVectors\n",
    "from sklearn.manifold import TSNE\n",
    "from sklearn.metrics.pairwise import cosine_similarity\n",
    "from sklearn.neighbors import NearestNeighbors as nn\n",
    "from matplotlib import pylab\n",
    "from __future__ import division"
   ]
  },
  {
   "cell_type": "code",
   "execution_count": 178,
   "metadata": {
    "collapsed": true
   },
   "outputs": [],
   "source": [
    "# DO NOT Modify the lines in this cell\n",
    "path = 'alice.txt'\n",
    "corpus = open(path).readlines()[0:700]\n",
    "\n",
    "corpus = [sentence for sentence in corpus if sentence.count(\" \") >= 2]\n",
    "\n",
    "tokenizer = Tokenizer(filters='!\"#$%&()*+,-./:;<=>?@[\\\\]^_`{|}~\\t\\n'+\"'\")\n",
    "tokenizer.fit_on_texts(corpus)\n",
    "corpus = tokenizer.texts_to_sequences(corpus)\n",
    "nb_samples = sum(len(s) for s in corpus)\n",
    "V = len(tokenizer.word_index) + 1\n",
    "\n",
    "# Is this something they need to change?\n",
    "dim = 100\n",
    "window_size = 2 #use this window size for Skipgram, CBOW, and the model with the additional hidden layer\n",
    "window_size_corpus = 4 #use this window size for the co-occurrence matrix"
   ]
  },
  {
   "cell_type": "markdown",
   "metadata": {},
   "source": [
    "## Question 1\n",
    "\n",
    "### Co-occurrence Matrix\n",
    "Use the provided code to load the \"Alice in Wonderland\" text document. \n",
    "1. Implement the word-word co-occurrence matrix for “Alice in Wonderland”\n",
    "2. Normalize the words such that every value lies within a range of 0 and 1\n",
    "3. Compute the cosine distance between the given words:\n",
    "    - Alice \n",
    "    - Dinah\n",
    "    - Rabbit\n",
    "4. List the 5 closest words to 'Alice'. Discuss the results.\n",
    "5. Discuss what the main drawbacks are of a term-term co-occurence matrix solutions?\n"
   ]
  },
  {
   "cell_type": "code",
   "execution_count": 179,
   "metadata": {
    "collapsed": true
   },
   "outputs": [],
   "source": [
    "#create co-occurrence matrix\n",
    "\n",
    "np.set_printoptions(threshold=np.nan)\n",
    "coMatrix=np.zeros((V, V), np.int8)\n",
    "\n",
    "def processSentence(sentence):\n",
    "    # Run over the sentence from all words as a co-occurrence\n",
    "    for w1 in range(0, len(sentence)):\n",
    "        word1 = sentence[w1]\n",
    "        \n",
    "        # Set window size\n",
    "        window = []\n",
    "        for x in range(1, window_size_corpus+1):\n",
    "            window.append(w1+x)\n",
    "            window.append(w1-x)\n",
    "        \n",
    "        # Compare w1 to every w2 in the window size \n",
    "        for w2 in window:\n",
    "            if w2 >= 0 and w2 < len(sentence):\n",
    "                word2 = sentence[w2]\n",
    "                if(word1 != word2):\n",
    "                    coMatrix[word1][word2] += 1\n",
    "\n",
    "for sentence in corpus:\n",
    "    processSentence(sentence)\n",
    "\n",
    "# Normalize data to  be a percentage (value between 0 and 1, depending on the maximum value in the entire matrix).\n",
    "divMatrix = np.zeros((V,V))\n",
    "maximum = coMatrix.max()\n",
    "divMatrix.fill(maximum)\n",
    "coMatrix = np.divide(coMatrix, divMatrix)"
   ]
  },
  {
   "cell_type": "code",
   "execution_count": 180,
   "metadata": {},
   "outputs": [
    {
     "name": "stdout",
     "output_type": "stream",
     "text": [
      "Cosine similarity between Alice and Rabbit:\n",
      "[[0.47890931]]\n",
      "\n",
      "Cosine similarity between Alice and Dinah:\n",
      "[[0.39360011]]\n",
      "\n",
      "Cosine similarity between Dinah and Rabbit:\n",
      "[[0.29862324]]\n"
     ]
    }
   ],
   "source": [
    "#find cosine similarity to Alice, Dinah and Rabbit\n",
    "\n",
    "dictionary = tokenizer.word_index\n",
    "alice = dictionary['alice']\n",
    "rabbit = dictionary['rabbit']\n",
    "dinah = dictionary['dinah']\n",
    "\n",
    "print(\"Cosine similarity between Alice and Rabbit:\")\n",
    "print(cosine_similarity(coMatrix[alice].reshape(1, -1), coMatrix[rabbit].reshape(1, -1)))\n",
    "print(\"\\nCosine similarity between Alice and Dinah:\")\n",
    "print(cosine_similarity(coMatrix[alice].reshape(1, -1), coMatrix[dinah].reshape(1, -1)))\n",
    "print(\"\\nCosine similarity between Dinah and Rabbit:\")\n",
    "print(cosine_similarity(coMatrix[dinah].reshape(1, -1), coMatrix[rabbit].reshape(1, -1)))"
   ]
  },
  {
   "cell_type": "code",
   "execution_count": 181,
   "metadata": {},
   "outputs": [
    {
     "name": "stdout",
     "output_type": "stream",
     "text": [
      "alice\n",
      "her\n",
      "that\n",
      "herself\n",
      "for\n",
      "on\n"
     ]
    }
   ],
   "source": [
    "#find the closest words to Alice\n",
    "\n",
    "#Find nearest neighbors\n",
    "neighbors = nn(n_neighbors=6)\n",
    "neighbors.fit(coMatrix) \n",
    "similars = (neighbors.kneighbors(coMatrix[alice].reshape(1, -1))[1])[0]\n",
    "\n",
    "#translate ids back into words:\n",
    "for word in similars:\n",
    "    print(list(dictionary.keys())[list(dictionary.values()).index(word)])"
   ]
  },
  {
   "cell_type": "markdown",
   "metadata": {},
   "source": [
    "# 1.4 Discussion of the five closest words to Alice:\n",
    "The five closest words contain in our opinion two general groups. The so referred to as 'filler' words, containing the words \"that\", \"for\", and \"on\", and the 'referal' words, containing the words \"her\", and \"herself\". \n",
    "\n",
    "The filler words contain words which are very common in the English language and do not have any semantic meaning. The corpus contained the entirety of the 'Alice in Wonderland' book, including words such as that, for, on, the, a, etc., which means that these common words will be more present in the book. Especially when comparing it to words with semantic meaning, which will not be present in almost every sentence as opposed to such filler words. It is not a surprise that these filler words are among the closest neighbors to Alice, but unfortunately there's not a lot which can be learned from their presence. It is probably better to eliminate filler words such as these from the corpus before performing comparison tasks such as these. \n",
    "\n",
    "The referal words contain the words her, and herself. These words are also very common in the English language, but are slightly different as they are used to refer to a person or used as a possesive indication. Both her, and herself are used to refer to female people, which in this case will most often have been used to refer to Alice, or items belonging to Alice. Not much can be learned from this, apart from gender. In other cases, it is probably better to elimate these kinds of words from the corpus as well."
   ]
  },
  {
   "cell_type": "markdown",
   "metadata": {},
   "source": [
    "# 1.5 Discussion of the drawbacks of a term-term co-occurrence matrix solutions:\n",
    "\n",
    "The main drawbacks of a term-term co-occurence matrix are that the matrices will be sparse, the matrices will be very large, and it is not very useful for many tasks. \n",
    "\n",
    "The matrix of a term-term co-occurrence matrix solution will be very sparse, in other words, it will contain a lot of zeroes compared to the amount of usefull data (useful data is anything between 0 and 1 NOT including 0 in our case). This spacious data will be a drain on a system as its operations and memory are wasted on the zeros, especially if standard operations made for dense matrices are used. It also makes it difficult for someone to visually inspect and explore the data during analysis, requiring them to completely rely on the operations done by the computer.\n",
    "\n",
    "Due to the large amount of words in any usefull corpus, the matrix of this co-occurrence matrix solutions will also be very large. This will result in requiring a lot of memory for the matrix, difficulty with visually inspecting and exploring the data, and making it necessary to rely on operations and algorithms to process the data correct.\n",
    "\n",
    "A term-term co-occurrence matrix solution is useful for comparing words, but is not very useful for a general inspection or exploration of a document."
   ]
  },
  {
   "cell_type": "code",
   "execution_count": 182,
   "metadata": {},
   "outputs": [],
   "source": [
    "#Save your all the vector representations of your word embeddings in this way\n",
    "#Change when necessary the sizes of the vocabulary/embedding dimension\n",
    "f = open('vectors_co_occurrence.txt',\"w\")\n",
    "\n",
    "# Write all the words in the file\n",
    "f.write(\" \".join([str(V-1),str(V-1)]))\n",
    "f.write(\"\\n\")\n",
    "\n",
    "#vectors = your word co-occurrence matrix\n",
    "vectors = coMatrix[:,1:]\n",
    "for word, i in tokenizer.word_index.items():    \n",
    "    f.write(word)\n",
    "    f.write(\" \")\n",
    "    f.write(\" \".join(map(str, list(vectors[i,:]))))\n",
    "    f.write(\"\\n\")\n",
    "f.close()"
   ]
  },
  {
   "cell_type": "code",
   "execution_count": 183,
   "metadata": {
    "collapsed": true
   },
   "outputs": [],
   "source": [
    "#reopen your file as follows\n",
    "\n",
    "co_occurrence = KeyedVectors.load_word2vec_format('./vectors_co_occurrence.txt', binary=False)"
   ]
  },
  {
   "cell_type": "markdown",
   "metadata": {},
   "source": [
    "## Question 2\n",
    "\n",
    "### Word embeddings\n",
    "Build embeddings with a keras implementation where the embedding vector is of length 50, 150 and 300. Use the Alice in Wonderland text book for training.\n",
    "1. Using the CBOW model\n",
    "2. Using Skipgram model\n",
    "3. Add extra hidden dense layer to CBow and Skipgram implementations. Choose an activation function for that layer and justify your answer.\n",
    "4. Analyze the four different word embeddings\n",
    "    - Implement your own function to perform the analogy task with. Do not use existing libraries for this task such as Gensim. Your function should be able to answer whether an anaology as in the example given in the pdf-file is true.\n",
    "    - Compare the performance on the analogy task between the word embeddings that you have trained in 2.1, 2.2 and 2.3.  \n",
    "    - Visualize your results and interpret your results\n",
    "5. Use the word co-occurence matrix from Question 1. Compare the performance on the analogy task with the performance of your trained word embeddings.  \n",
    "6. Discuss:\n",
    "    - What are the main advantages of CBOW and Skipgram?\n",
    "    - What is the advantage of negative sampling?\n",
    "    - What are the main drawbacks of CBOW and Skipgram?\n",
    "7. Load pre-trained embeddings on large corpuses (see the pdf file). You only have to consider the word embeddings with an embedding size of 300\n",
    "    - Compare performance on the analogy task with your own trained embeddings from \"Alice in Wonderland\". You can limit yourself to the vocabulary of Alice in Wonderland. Visualize the pre-trained word embeddings and compare these with the results of your own trained word embeddings. \n"
   ]
  },
  {
   "cell_type": "code",
   "execution_count": 36,
   "metadata": {
    "collapsed": true
   },
   "outputs": [],
   "source": [
    "#prepare data for cbow\n",
    "\n",
    "def generate_data(corpus, window_size, V):\n",
    "    maxlen = window_size*2\n",
    "    for words in corpus:\n",
    "        L = len(words)\n",
    "        for index, word in enumerate(words):\n",
    "            contexts = []\n",
    "            labels   = []            \n",
    "            s = index - window_size\n",
    "            e = index + window_size + 1\n",
    "            \n",
    "            contexts.append([words[i] for i in range(s, e) if 0 <= i < L and i != index])\n",
    "            labels.append(word)\n",
    "\n",
    "            x = sequence.pad_sequences(contexts, maxlen=maxlen)\n",
    "            y = np_utils.to_categorical(labels, V)\n",
    "            yield (x, y)"
   ]
  },
  {
   "cell_type": "code",
   "execution_count": 37,
   "metadata": {
    "collapsed": true
   },
   "outputs": [],
   "source": [
    "#create CBOW model\n",
    "dim=50\n",
    "cbow50 = Sequential()\n",
    "cbow50.add(Embedding(input_dim=V, output_dim=dim, input_length=window_size*2))\n",
    "cbow50.add(Lambda(lambda x: K.mean(x, axis=1), output_shape=(dim,)))\n",
    "cbow50.add(Dense(V, activation='softmax'))\n",
    "\n",
    "dim=150\n",
    "cbow150 = Sequential()\n",
    "cbow150.add(Embedding(input_dim=V, output_dim=dim, input_length=window_size*2))\n",
    "cbow150.add(Lambda(lambda x: K.mean(x, axis=1), output_shape=(dim,)))\n",
    "cbow150.add(Dense(V, activation='softmax'))\n",
    "\n",
    "dim=300\n",
    "cbow300 = Sequential()\n",
    "cbow300.add(Embedding(input_dim=V, output_dim=dim, input_length=window_size*2))\n",
    "cbow300.add(Lambda(lambda x: K.mean(x, axis=1), output_shape=(dim,)))\n",
    "cbow300.add(Dense(V, activation='softmax'))"
   ]
  },
  {
   "cell_type": "code",
   "execution_count": 38,
   "metadata": {
    "collapsed": true
   },
   "outputs": [],
   "source": [
    "#define loss function\n",
    "loss='categorical_crossentropy'"
   ]
  },
  {
   "cell_type": "code",
   "execution_count": 39,
   "metadata": {},
   "outputs": [
    {
     "name": "stdout",
     "output_type": "stream",
     "text": [
      "0 41686.856939315796\n",
      "1 39117.07975804806\n",
      "2 38908.93960213661\n"
     ]
    }
   ],
   "source": [
    "#train cbow50 model\n",
    "cbow50.compile(loss=loss, optimizer='adadelta')\n",
    "\n",
    "for ite in range(3):\n",
    "    loss = 0.\n",
    "    for x, y in generate_data(corpus, window_size, V):\n",
    "        loss += cbow50.train_on_batch(x, y)\n",
    "\n",
    "    print(ite, loss)\n",
    "    \n",
    "    \n",
    "f = open('cbow_50_vectors.txt' ,'w')\n",
    "f.write('{} {}\\n'.format(V-1, 50))\n",
    "vectors = cbow50.get_weights()[0]\n",
    "for word, i in tokenizer.word_index.items():\n",
    "    str_vec = ' '.join(map(str, list(vectors[i, :])))\n",
    "    f.write('{} {}\\n'.format(word, str_vec))\n",
    "f.close()"
   ]
  },
  {
   "cell_type": "code",
   "execution_count": 40,
   "metadata": {},
   "outputs": [
    {
     "name": "stdout",
     "output_type": "stream",
     "text": [
      "0 41624.23085522652\n",
      "1 38758.48308968544\n",
      "2 38354.18330681324\n"
     ]
    }
   ],
   "source": [
    "#train cbow150 model\n",
    "loss='categorical_crossentropy'\n",
    "cbow150.compile(loss=loss, optimizer='adadelta')\n",
    "\n",
    "for ite in range(3):\n",
    "    loss = 0.\n",
    "    for x, y in generate_data(corpus, window_size, V):\n",
    "        loss += cbow150.train_on_batch(x, y)\n",
    "\n",
    "    print(ite, loss)\n",
    "    \n",
    "    \n",
    "f = open('cbow_150_vectors.txt' ,'w')\n",
    "f.write('{} {}\\n'.format(V-1, 150))\n",
    "vectors = cbow150.get_weights()[0]\n",
    "for word, i in tokenizer.word_index.items():\n",
    "    str_vec = ' '.join(map(str, list(vectors[i, :])))\n",
    "    f.write('{} {}\\n'.format(word, str_vec))\n",
    "f.close()"
   ]
  },
  {
   "cell_type": "code",
   "execution_count": 41,
   "metadata": {},
   "outputs": [
    {
     "name": "stdout",
     "output_type": "stream",
     "text": [
      "0 41559.90414094925\n",
      "1 38492.52104020119\n",
      "2 37942.09509307146\n"
     ]
    }
   ],
   "source": [
    "#train cbow300 model\n",
    "loss='categorical_crossentropy'\n",
    "cbow300.compile(loss=loss, optimizer='adadelta')\n",
    "\n",
    "for ite in range(3):\n",
    "    loss = 0.\n",
    "    for x, y in generate_data(corpus, window_size, V):\n",
    "        loss += cbow300.train_on_batch(x, y)\n",
    "\n",
    "    print(ite, loss)\n",
    "    \n",
    "f = open('cbow_300_vectors.txt' ,'w')\n",
    "f.write('{} {}\\n'.format(V-1, 300))\n",
    "vectors = cbow300.get_weights()[0]\n",
    "for word, i in tokenizer.word_index.items():\n",
    "    str_vec = ' '.join(map(str, list(vectors[i, :])))\n",
    "    f.write('{} {}\\n'.format(word, str_vec))\n",
    "f.close()"
   ]
  },
  {
   "cell_type": "code",
   "execution_count": 42,
   "metadata": {
    "collapsed": true
   },
   "outputs": [],
   "source": [
    "#prepare data for Skipgram\n",
    "\n",
    "def generate_data_skipgram(corpus, window_size, V):\n",
    "    maxlen = window_size*2\n",
    "    all_in = []\n",
    "    all_out = []\n",
    "    for words in corpus:\n",
    "        L = len(words)\n",
    "        for index, word in enumerate(words):\n",
    "            p = index - window_size\n",
    "            n = index + window_size + 1\n",
    "                    \n",
    "            in_words = []\n",
    "            labels = []\n",
    "            for i in range(p, n):\n",
    "                if i != index and 0 <= i < L:\n",
    "                    in_words.append([word])\n",
    "                    labels.append(words[i])\n",
    "            if in_words != []:\n",
    "                all_in.append(np.array(in_words,dtype=np.int32))\n",
    "                all_out.append(np_utils.to_categorical(labels, V))\n",
    "    return (all_in,all_out)\n",
    "\n",
    "#get x and y's for data\n",
    "x,y = generate_data_skipgram(corpus,window_size,V)\n",
    "\n",
    "#save the preprocessed data of Skipgram\n",
    "f = open('data_skipgram.txt' ,'w')\n",
    "\n",
    "for inputs, outcome in zip(x,y):\n",
    "    inputs = np.concatenate(inputs)\n",
    "    f.write(\" \".join(map(str, list(inputs))))\n",
    "    f.write(\",\")\n",
    "    outcome = np.concatenate(outcome)\n",
    "    f.write(\" \".join(map(str,list(outcome))))\n",
    "    f.write(\"\\n\")\n",
    "f.close()"
   ]
  },
  {
   "cell_type": "code",
   "execution_count": 43,
   "metadata": {
    "collapsed": true
   },
   "outputs": [],
   "source": [
    "#load the preprocessed Skipgram data\n",
    "def generate_data_skipgram_from_file():\n",
    "    f = open('data_skipgram.txt' ,'r')\n",
    "    for row in f:\n",
    "        inputs,outputs = row.split(\",\")\n",
    "        inputs = np.fromstring(inputs, dtype=int, sep=' ')\n",
    "        inputs = np.asarray(np.split(inputs, len(inputs)))\n",
    "        outputs = np.fromstring(outputs, dtype=float, sep=' ')\n",
    "        outputs = np.asarray(np.split(outputs, len(inputs)))\n",
    "        yield (inputs,outputs)"
   ]
  },
  {
   "cell_type": "code",
   "execution_count": 44,
   "metadata": {
    "collapsed": true
   },
   "outputs": [],
   "source": [
    "#create Skipgram model\n",
    "dim=50\n",
    "skipgram50 = Sequential()\n",
    "skipgram50.add(Embedding(input_dim=V, output_dim=dim, embeddings_initializer='glorot_uniform', input_length=1))\n",
    "skipgram50.add(Reshape((dim, )))\n",
    "skipgram50.add(Dense(input_dim=dim, units=V, kernel_initializer='uniform', activation='softmax'))\n",
    "\n",
    "dim=150\n",
    "skipgram150 = Sequential()\n",
    "skipgram150.add(Embedding(input_dim=V, output_dim=dim, embeddings_initializer='glorot_uniform', input_length=1))\n",
    "skipgram150.add(Reshape((dim, )))\n",
    "skipgram150.add(Dense(input_dim=dim, units=V, kernel_initializer='uniform', activation='softmax'))\n",
    "\n",
    "dim=300\n",
    "skipgram300 = Sequential()\n",
    "skipgram300.add(Embedding(input_dim=V, output_dim=dim, embeddings_initializer='glorot_uniform', input_length=1))\n",
    "skipgram300.add(Reshape((dim, )))\n",
    "skipgram300.add(Dense(input_dim=dim, units=V, kernel_initializer='uniform', activation='softmax'))"
   ]
  },
  {
   "cell_type": "code",
   "execution_count": 45,
   "metadata": {
    "collapsed": true
   },
   "outputs": [],
   "source": [
    "#define loss function for Skipgram"
   ]
  },
  {
   "cell_type": "code",
   "execution_count": 46,
   "metadata": {},
   "outputs": [
    {
     "name": "stdout",
     "output_type": "stream",
     "text": [
      "0 41271.78884887695\n",
      "1 39101.341372966766\n",
      "2 39265.00240945816\n"
     ]
    }
   ],
   "source": [
    "#train Skipgram50 model\n",
    "\n",
    "skipgram50.compile(loss='categorical_crossentropy', optimizer='adadelta')\n",
    "\n",
    "for ite in range(3):\n",
    "    loss = 0.\n",
    "    for x, y in generate_data_skipgram_from_file():\n",
    "        loss += skipgram50.train_on_batch(x, y)\n",
    "\n",
    "    print(ite, loss)\n",
    "    \n",
    "f = open('skipgram_50_vectors.txt' ,'w')\n",
    "f.write('{} {}\\n'.format(V-1, 50))\n",
    "vectors = skipgram50.get_weights()[0]\n",
    "for word, i in tokenizer.word_index.items():\n",
    "    str_vec = ' '.join(map(str, list(vectors[i, :])))\n",
    "    f.write('{} {}\\n'.format(word, str_vec))\n",
    "f.close()"
   ]
  },
  {
   "cell_type": "code",
   "execution_count": 47,
   "metadata": {},
   "outputs": [
    {
     "name": "stdout",
     "output_type": "stream",
     "text": [
      "0 41215.38952541351\n",
      "1 38922.67157101631\n",
      "2 38985.02361166477\n"
     ]
    }
   ],
   "source": [
    "#train Skipgram150 model\n",
    "loss='categorical_crossentropy'\n",
    "skipgram150.compile(loss=loss, optimizer='adadelta')\n",
    "\n",
    "for ite in range(3):\n",
    "    loss = 0.\n",
    "    for x, y in generate_data_skipgram_from_file():\n",
    "        loss += skipgram150.train_on_batch(x, y)\n",
    "\n",
    "    print(ite, loss)\n",
    "    \n",
    "f = open('skipgram_150_vectors.txt' ,'w')\n",
    "f.write('{} {}\\n'.format(V-1, 150))\n",
    "vectors = skipgram150.get_weights()[0]\n",
    "for word, i in tokenizer.word_index.items():\n",
    "    str_vec = ' '.join(map(str, list(vectors[i, :])))\n",
    "    f.write('{} {}\\n'.format(word, str_vec))\n",
    "f.close()"
   ]
  },
  {
   "cell_type": "code",
   "execution_count": 48,
   "metadata": {},
   "outputs": [
    {
     "name": "stdout",
     "output_type": "stream",
     "text": [
      "0 41158.67087030411\n",
      "1 38737.37133550644\n",
      "2 38703.309982299805\n"
     ]
    }
   ],
   "source": [
    "#train Skipgram300 model\n",
    "loss='categorical_crossentropy'\n",
    "skipgram300.compile(loss=loss, optimizer='adadelta')\n",
    "\n",
    "for ite in range(3):\n",
    "    loss = 0.\n",
    "    for x, y in generate_data_skipgram_from_file():\n",
    "        loss += skipgram300.train_on_batch(x, y)\n",
    "\n",
    "    print(ite, loss)\n",
    "    \n",
    "f = open('skipgram_300_vectors.txt' ,'w')\n",
    "f.write('{} {}\\n'.format(V-1, 300))\n",
    "vectors = skipgram300.get_weights()[0]\n",
    "for word, i in tokenizer.word_index.items():\n",
    "    str_vec = ' '.join(map(str, list(vectors[i, :])))\n",
    "    f.write('{} {}\\n'.format(word, str_vec))\n",
    "f.close()"
   ]
  },
  {
   "cell_type": "markdown",
   "metadata": {},
   "source": [
    "# 2.3 Add an extra hidden dense layer to the CBOW and Skipgram implementations. Choose an activation function for that layer and justify your answer.\n",
    "\n",
    "We chose to add an extra layer before the final dense layer in all of the models. Because it is an intermediate layer, using the Rectified Linear Unit activation function made most sense. ReLU in practice means that the neuron only passes on relevant signals and in general seems to give a good approximation."
   ]
  },
  {
   "cell_type": "code",
   "execution_count": 63,
   "metadata": {
    "collapsed": true
   },
   "outputs": [],
   "source": [
    "#create CBOW model with additional dense layer\n",
    "dim=50\n",
    "cbow50h = Sequential()\n",
    "cbow50h.add(Embedding(input_dim=V, output_dim=dim, input_length=window_size*2))\n",
    "cbow50h.add(Lambda(lambda x: K.mean(x, axis=1), output_shape=(dim,)))\n",
    "cbow50h.add(Dense(V, activation='relu'))\n",
    "cbow50h.add(Dense(V, activation='softmax'))\n",
    "\n",
    "dim=150\n",
    "cbow150h = Sequential()\n",
    "cbow150h.add(Embedding(input_dim=V, output_dim=dim, input_length=window_size*2))\n",
    "cbow150h.add(Lambda(lambda x: K.mean(x, axis=1), output_shape=(dim,)))\n",
    "cbow150h.add(Dense(V, activation='relu'))\n",
    "cbow150h.add(Dense(V, activation='softmax'))\n",
    "\n",
    "dim=300\n",
    "cbow300h = Sequential()\n",
    "cbow300h.add(Embedding(input_dim=V, output_dim=dim, input_length=window_size*2))\n",
    "cbow300h.add(Lambda(lambda x: K.mean(x, axis=1), output_shape=(dim,)))\n",
    "cbow300h.add(Dense(V, activation='relu'))\n",
    "cbow300h.add(Dense(V, activation='softmax'))"
   ]
  },
  {
   "cell_type": "code",
   "execution_count": 64,
   "metadata": {
    "collapsed": true
   },
   "outputs": [],
   "source": [
    "#define loss function for CBOW + dense\n"
   ]
  },
  {
   "cell_type": "code",
   "execution_count": 66,
   "metadata": {},
   "outputs": [
    {
     "name": "stdout",
     "output_type": "stream",
     "text": [
      "0 38203.86327829957\n",
      "1 38013.09641942382\n",
      "2 37855.625559709966\n"
     ]
    }
   ],
   "source": [
    "#train model for CBOW + dense\n",
    "loss='categorical_crossentropy'\n",
    "cbow50h.compile(loss=loss, optimizer='adadelta')\n",
    "\n",
    "for ite in range(3):\n",
    "    loss = 0.\n",
    "    for x, y in generate_data(corpus, window_size, V):\n",
    "        loss += cbow50h.train_on_batch(x, y)\n",
    "\n",
    "    print(ite, loss)\n",
    "    \n",
    "f = open('cbowh_50_vectors.txt' ,'w')\n",
    "f.write('{} {}\\n'.format(V-1, 50))\n",
    "vectors = cbow50h.get_weights()[0]\n",
    "for word, i in tokenizer.word_index.items():\n",
    "    str_vec = ' '.join(map(str, list(vectors[i, :])))\n",
    "    f.write('{} {}\\n'.format(word, str_vec))\n",
    "f.close()\n",
    "\n"
   ]
  },
  {
   "cell_type": "code",
   "execution_count": 67,
   "metadata": {},
   "outputs": [
    {
     "name": "stdout",
     "output_type": "stream",
     "text": [
      "0 39556.89970886707\n",
      "1 38192.07329599559\n",
      "2 37617.63297378272\n"
     ]
    }
   ],
   "source": [
    "loss='categorical_crossentropy'\n",
    "cbow150h.compile(loss=loss, optimizer='adadelta')\n",
    "\n",
    "for ite in range(3):\n",
    "    loss = 0.\n",
    "    for x, y in generate_data(corpus, window_size, V):\n",
    "        loss += cbow150h.train_on_batch(x, y)\n",
    "\n",
    "    print(ite, loss)\n",
    "    \n",
    "f = open('cbowh_150_vectors.txt' ,'w')\n",
    "f.write('{} {}\\n'.format(V-1, 150))\n",
    "vectors = cbow150h.get_weights()[0]\n",
    "for word, i in tokenizer.word_index.items():\n",
    "    str_vec = ' '.join(map(str, list(vectors[i, :])))\n",
    "    f.write('{} {}\\n'.format(word, str_vec))\n",
    "f.close()"
   ]
  },
  {
   "cell_type": "code",
   "execution_count": 69,
   "metadata": {},
   "outputs": [
    {
     "name": "stdout",
     "output_type": "stream",
     "text": [
      "0 37681.00657823682\n",
      "1 37109.283381693065\n",
      "2 36645.58560779132\n"
     ]
    }
   ],
   "source": [
    "loss='categorical_crossentropy'\n",
    "cbow300h.compile(loss=loss, optimizer='adadelta')\n",
    "\n",
    "for ite in range(3):\n",
    "    loss = 0.\n",
    "    for x, y in generate_data(corpus, window_size, V):\n",
    "        loss += cbow300h.train_on_batch(x, y)\n",
    "\n",
    "    print(ite, loss)\n",
    "    \n",
    "f = open('cbowh_300_vectors.txt' ,'w')\n",
    "f.write('{} {}\\n'.format(V-1, 300))\n",
    "vectors = cbow300h.get_weights()[0]\n",
    "for word, i in tokenizer.word_index.items():\n",
    "    str_vec = ' '.join(map(str, list(vectors[i, :])))\n",
    "    f.write('{} {}\\n'.format(word, str_vec))\n",
    "f.close()"
   ]
  },
  {
   "cell_type": "code",
   "execution_count": 142,
   "metadata": {
    "collapsed": true
   },
   "outputs": [],
   "source": [
    "#create Skipgram with additional dense layer\n",
    "from keras.layers import Dropout\n",
    "\n",
    "dropout_rate = 0.2\n",
    "dim=50\n",
    "skipgram50h = Sequential()\n",
    "skipgram50h.add(Embedding(input_dim=V, output_dim=dim, embeddings_initializer='glorot_uniform', input_length=1))\n",
    "skipgram50h.add(Reshape((dim, )))\n",
    "skipgram50h.add(Dense(units=V, activation='relu'))\n",
    "skipgram50h.add(Dense(units=V, kernel_initializer='uniform', activation='softmax'))\n",
    "\n",
    "dim=150\n",
    "skipgram150h = Sequential()\n",
    "skipgram150h.add(Embedding(input_dim=V, output_dim=dim, embeddings_initializer='glorot_uniform', input_length=1))\n",
    "skipgram150h.add(Reshape((dim, )))\n",
    "skipgram150h.add(Dense(units=V, activation='relu'))\n",
    "skipgram150h.add(Dense(units=V, kernel_initializer='uniform', activation='softmax'))\n",
    "\n",
    "dim=300\n",
    "skipgram300h = Sequential()\n",
    "skipgram300h.add(Embedding(input_dim=V, output_dim=dim, embeddings_initializer='glorot_uniform', input_length=1))\n",
    "skipgram300h.add(Reshape((dim, )))\n",
    "skipgram300h.add(Dense(units=V, activation='relu'))\n",
    "skipgram300h.add(Dense(units=V, kernel_initializer='uniform', activation='softmax'))"
   ]
  },
  {
   "cell_type": "code",
   "execution_count": 143,
   "metadata": {
    "collapsed": true
   },
   "outputs": [],
   "source": [
    "#define loss function for Skipgram + dense\n"
   ]
  },
  {
   "cell_type": "code",
   "execution_count": 144,
   "metadata": {},
   "outputs": [
    {
     "name": "stdout",
     "output_type": "stream",
     "text": [
      "0 38556.30892801285\n",
      "1 38284.277649879456\n",
      "2 38160.48908627033\n"
     ]
    }
   ],
   "source": [
    "#train model for Skipgram + dense\n",
    "skipgram50h.compile(loss='categorical_crossentropy', optimizer='adadelta')\n",
    "\n",
    "for ite in range(3):\n",
    "    loss = 0.\n",
    "    for x, y in generate_data_skipgram_from_file():\n",
    "        loss += skipgram50h.train_on_batch(x, y)\n",
    "\n",
    "    print(ite, loss)\n",
    "    \n",
    "f = open('skipgramh_50_vectors.txt' ,'w')\n",
    "f.write('{} {}\\n'.format(V-1, 50))\n",
    "vectors = skipgram50h.get_weights()[0]\n",
    "for word, i in tokenizer.word_index.items():\n",
    "    str_vec = ' '.join(map(str, list(vectors[i, :])))\n",
    "    f.write('{} {}\\n'.format(word, str_vec))\n",
    "f.close()"
   ]
  },
  {
   "cell_type": "code",
   "execution_count": 145,
   "metadata": {},
   "outputs": [
    {
     "name": "stdout",
     "output_type": "stream",
     "text": [
      "0 38524.81856560707\n",
      "1 38182.9237254858\n",
      "2 38044.449105620384\n"
     ]
    }
   ],
   "source": [
    "loss='categorical_crossentropy'\n",
    "skipgram150h.compile(loss=loss, optimizer='adadelta')\n",
    "\n",
    "for ite in range(3):\n",
    "    loss = 0.\n",
    "    for x, y in generate_data_skipgram_from_file():\n",
    "        loss += skipgram150h.train_on_batch(x, y)\n",
    "\n",
    "    print(ite, loss)\n",
    "    \n",
    "f = open('skipgramh_150_vectors.txt' ,'w')\n",
    "f.write('{} {}\\n'.format(V-1, 150))\n",
    "vectors = skipgram150h.get_weights()[0]\n",
    "for word, i in tokenizer.word_index.items():\n",
    "    str_vec = ' '.join(map(str, list(vectors[i, :])))\n",
    "    f.write('{} {}\\n'.format(word, str_vec))\n",
    "f.close()"
   ]
  },
  {
   "cell_type": "code",
   "execution_count": 146,
   "metadata": {},
   "outputs": [
    {
     "name": "stdout",
     "output_type": "stream",
     "text": [
      "0 38556.01204943657\n",
      "1 38273.90782046318\n",
      "2 38062.221319675446\n"
     ]
    }
   ],
   "source": [
    "loss='categorical_crossentropy'\n",
    "skipgram300h.compile(loss=loss, optimizer='adadelta')\n",
    "\n",
    "for ite in range(3):\n",
    "    loss = 0.\n",
    "    for x, y in generate_data_skipgram_from_file():\n",
    "        loss += skipgram300h.train_on_batch(x, y)\n",
    "\n",
    "    print(ite, loss)\n",
    "    \n",
    "f = open('skipgramh_300_vectors.txt' ,'w')\n",
    "f.write('{} {}\\n'.format(V-1, 300))\n",
    "vectors = skipgram300h.get_weights()[0]\n",
    "for word, i in tokenizer.word_index.items():\n",
    "    str_vec = ' '.join(map(str, list(vectors[i, :])))\n",
    "    f.write('{} {}\\n'.format(word, str_vec))\n",
    "f.close()"
   ]
  },
  {
   "cell_type": "markdown",
   "metadata": {},
   "source": [
    "# 4. Analyze the four different word embeddings through your own analogy function"
   ]
  },
  {
   "cell_type": "code",
   "execution_count": 199,
   "metadata": {},
   "outputs": [
    {
     "name": "stdout",
     "output_type": "stream",
     "text": [
      "-0.2980165991132072 -0.20327956860411506 -0.11952502487146552\n",
      "0.10905394763760211 -0.01361964239572564 -0.028799639720151007\n",
      "0.0669543422656621 -0.08060258112348465 -0.031504496879157455\n",
      "0.04876081221864342 -0.14485312389165422 0.038133865161932595\n"
     ]
    }
   ],
   "source": [
    "#Implement your own analogy function\n",
    "\n",
    "from math import *\n",
    "from math import sqrt\n",
    "\n",
    "def dot(v1, v2):\n",
    "    return sum(x*y for x, y in zip(v1, v2))\n",
    "\n",
    "def length(v1):\n",
    "    return sqrt(dot(v1, v1))\n",
    "\n",
    "def calculate_analogy(v1, v2, v3, v4):\n",
    "    #Calculate v1 -v2 + v4 to compare to v3\n",
    "    lhs_intermed = map(float.__sub__, v1, v2)\n",
    "    lhs = list(map(float.__add__, lhs_intermed, v4))\n",
    "    rhs = v3\n",
    "    #Calculate normalized cosine similarity between the two sides of the equation\n",
    "    return dot(lhs, rhs) / (length(lhs) * length(rhs))\n",
    "\n",
    "# options: cbow_50, cbow_150, cbow_300, cbowh_50, cbowh_150, cbowh_300\n",
    "# skipgram_50, skipgram_150, skipgram_300, skipgramh_50, skipgramh_150, skipgramh_300\n",
    "def retrieve_analogy(word1, word2, word3, word4, db):\n",
    "    filename = ''+db+'_vectors.txt'\n",
    "    vectorDict = {}\n",
    "    f = open(filename, 'r')\n",
    "    for line in f:\n",
    "        word, vector = line.partition(\" \")[::2]\n",
    "        vectorDict[word.strip()] = [float(v) for v in vector.split(\" \")]\n",
    "    vector1 = vectorDict[word1]\n",
    "    vector2 = vectorDict[word2]\n",
    "    vector3 = vectorDict[word3]\n",
    "    vector4 = vectorDict[word4]\n",
    "    return calculate_analogy(vector1, vector2, vector3, vector4)\n",
    "\n",
    "word1 = \"cat\"\n",
    "word2 = \"cats\"\n",
    "word3 = \"dog\"\n",
    "word4 = \"dogs\"\n",
    "\n",
    "cbow50_similarity = retrieve_analogy(word1, word2, word3, word4, \"cbow_50\")\n",
    "cbow150_similarity = retrieve_analogy(word1, word2, word3, word4, \"cbow_150\")\n",
    "cbow300_similarity = retrieve_analogy(word1, word2, word3, word4, \"cbow_300\")\n",
    "print(cbow50_similarity, cbow150_similarity, cbow300_similarity)\n",
    "\n",
    "cbow50h_similarity = retrieve_analogy(word1, word2, word3, word4, \"cbowh_50\")\n",
    "cbow150h_similarity = retrieve_analogy(word1, word2, word3, word4, \"cbowh_150\")\n",
    "cbow300h_similarity = retrieve_analogy(word1, word2, word3, word4, \"cbowh_300\")\n",
    "print(cbow50h_similarity, cbow150h_similarity, cbow300h_similarity)\n",
    "\n",
    "skipgram50_similarity = retrieve_analogy(word1, word2, word3, word4, \"skipgram_50\")\n",
    "skipgram150_similarity = retrieve_analogy(word1, word2, word3, word4, \"skipgram_150\")\n",
    "skipgram300_similarity = retrieve_analogy(word1, word2, word3, word4, \"skipgram_300\")\n",
    "print(skipgram50_similarity, skipgram150_similarity, skipgram300_similarity)\n",
    "\n",
    "skipgram50h_similarity = retrieve_analogy(word1, word2, word3, word4, \"skipgramh_50\")\n",
    "skipgram150h_similarity = retrieve_analogy(word1, word2, word3, word4, \"skipgramh_150\")\n",
    "skipgram300h_similarity = retrieve_analogy(word1, word2, word3, word4, \"skipgramh_300\")\n",
    "print(skipgram50h_similarity, skipgram150h_similarity, skipgram300h_similarity)"
   ]
  },
  {
   "cell_type": "code",
   "execution_count": 221,
   "metadata": {},
   "outputs": [
    {
     "name": "stdout",
     "output_type": "stream",
     "text": [
      "[[-0.2980165991132072, -0.20327956860411506, -0.11952502487146552], [0.10905394763760211, -0.01361964239572564, -0.028799639720151007], [0.0669543422656621, -0.08060258112348465, -0.031504496879157455], [0.04876081221864342, -0.14485312389165422, 0.038133865161932595]]\n"
     ]
    }
   ],
   "source": [
    "#Create a 2D array of the results of the previous question\n",
    "row1 = [cbow50_similarity, cbow150_similarity, cbow300_similarity]\n",
    "row2 = [cbow50h_similarity, cbow150h_similarity, cbow300h_similarity]\n",
    "row3 = [skipgram50_similarity, skipgram150_similarity, skipgram300_similarity]\n",
    "row4 = [skipgram50h_similarity, skipgram150h_similarity, skipgram300h_similarity]\n",
    "\n",
    "mappingArray = []\n",
    "mappingArray.append(row1)\n",
    "mappingArray.append(row2)\n",
    "mappingArray.append(row3)\n",
    "mappingArray.append(row4)\n",
    "print(mappingArray)"
   ]
  },
  {
   "cell_type": "markdown",
   "metadata": {},
   "source": [
    "Comparison performance:"
   ]
  },
  {
   "cell_type": "code",
   "execution_count": 222,
   "metadata": {},
   "outputs": [
    {
     "data": {
      "image/png": "[encoded data removed]",
      "text/plain": [
       "<matplotlib.figure.Figure at 0x12c9979e8>"
      ]
     },
     "metadata": {},
     "output_type": "display_data"
    }
   ],
   "source": [
    "#Visualization results trained word embeddings\n",
    "%matplotlib inline\n",
    "\n",
    "import numpy as np\n",
    "import seaborn as sns\n",
    "\n",
    "names = [\"cbow\", \"cbow+\", \"skipgram\", \"skipgram+\"]\n",
    "sizes = [\"50\", \"150\", \"300\"]\n",
    "ax = sns.heatmap(mappingArray,  annot=True,  yticklabels=names, xticklabels=sizes)"
   ]
  },
  {
   "cell_type": "markdown",
   "metadata": {},
   "source": [
    "# 4.c Interpretation results of the visualization\n",
    "\n",
    "When looking at the heatmap of the results, they seem all over the place. However, there are some insights to be found. First of all, when looking at the average cosine similarity, the SkipGram models seem to perform well, retrieving mostly positive values. \n",
    "\n",
    "Another thing that jumps out is that almost all values are negative, except for those belonging to the embedding vectors of length 50. As cosine similarity does not depend on the size of the vector, this finding is not explained by such a factor. However, we do know that with a smaller embedding vector, more information is encoded in each dimension. This means that, depending on the other words in the vocabulary, a lower dimension could mean higher similarity measures. \n",
    "\n",
    "Important to notice is the fact that all measures are very close to zero, which means that either the model or the source does not show signals to support the analogy as calculated above.\n"
   ]
  },
  {
   "cell_type": "markdown",
   "metadata": {},
   "source": [
    "# 5 Compare the results of the trained word embeddings with the word-word co-occurrence matrix\n",
    "\n",
    "Surprisingly, on the analogy we chose, the co-occurence matrix vectors were not similar at all, as is reflected in the cosine similarity. We have checked multiple times whether this was correct, but as vector 3 contains many zeroes, the dot product returns a zero for this analogy. Given the other values that we have retrieved so far, this does not seem strange at all. It looks like the corpus was not big enough to train these semantics as required. "
   ]
  },
  {
   "cell_type": "code",
   "execution_count": 223,
   "metadata": {},
   "outputs": [],
   "source": [
    "dictionary = tokenizer.word_index\n",
    "\n",
    "v1 = coMatrix[dictionary[word1]]\n",
    "v2 = coMatrix[dictionary[word2]]\n",
    "v3 = coMatrix[dictionary[word3]]\n",
    "v4 = coMatrix[dictionary[word4]]\n",
    "\n",
    "distance = calculate_analogy(v1, v2, v3, v4)"
   ]
  },
  {
   "cell_type": "code",
   "execution_count": 224,
   "metadata": {
    "collapsed": true
   },
   "outputs": [],
   "source": [
    "# Add the same measure three times in order to easily add it to the heatmap\n",
    "mappingArray.append([distance, distance, distance])\n",
    "names.append(\"co-occurence\")"
   ]
  },
  {
   "cell_type": "code",
   "execution_count": 225,
   "metadata": {},
   "outputs": [
    {
     "data": {
      "image/png": "[encoded data removed]",
      "text/plain": [
       "<matplotlib.figure.Figure at 0x13b5be2e8>"
      ]
     },
     "metadata": {},
     "output_type": "display_data"
    }
   ],
   "source": [
    "ax = sns.heatmap(mappingArray, annot=True, yticklabels=names, xticklabels=sizes)"
   ]
  },
  {
   "cell_type": "markdown",
   "metadata": {},
   "source": [
    "# 6 Discussion of the advantages of CBOW and Skipgram, the advantages of negative sampling and drawbacks of CBOW and Skipgram\n",
    "\n",
    "**Advantages of CBOW and Skipgram:** \n",
    "\n",
    "CBOW and Skipgram have a number of advantages. CBOW and Skipgram have a lower internal complexity compared to older models, which means that it can be trained on a lot more data much more efficiently. The models also have the ability to complete more complex similarity tasks, e.g. being able to denote a similarity between *big*, *bigger* and *small*, *smaller*. The models also are able to represent very subtle semantic relationships, compared to other models. \n",
    "\n",
    "**Advantages of negative sampling:**\n",
    "\n",
    "A disadvantage of CBOW and Skipgram with word processing is the hugh amount of weights which need to be updated every single run while training. Negative sampling allows more efficient training of a model, due to the significantly reduced amount of weights which are updated every run. \n",
    "\n",
    "If Subsampling was applied to frequent words, before applying negative sampling, not only reduces the computational burden of training, but also improves the quality of the resulting word vectors.\n",
    "\n",
    "**Drawbacks of CBOW and Skipgram:**\n",
    "\n",
    "One drawback of CBOW and Skipgram is that words with multiple meaning can only be interpreted once. Which means it will only interpet all meanings at the same time, which would not provide a good representation for words with multiple meanings.\n",
    "\n",
    "Another drawback of CBOW and Skipgram is that the models only look at words and the window around it, but not to the order of the words within the window. The order of words can be important as meanings can change depending on it, such as *race horse*, and *horse race*. Two words which have a different semantic meaning, but will be treated as the same thing by CBOW and Skipgram.\n",
    "\n",
    "Depending on the size of the corpus, there can be an extremely large number of weights to be altered during trainnig, especially if dropout or negative sampling is not used."
   ]
  },
  {
   "cell_type": "markdown",
   "metadata": {},
   "source": [
    "# 7 Compare performance of your models with the pre-trained embeddings"
   ]
  },
  {
   "cell_type": "code",
   "execution_count": 226,
   "metadata": {},
   "outputs": [],
   "source": [
    "#load pretrained word embeddings of word2vec\n",
    "\n",
    "path_word2vec = 'GoogleNews-vectors-negative300.bin'\n",
    "\n",
    "word2vec = KeyedVectors.load_word2vec_format(path_word2vec, binary=True)"
   ]
  },
  {
   "cell_type": "code",
   "execution_count": 227,
   "metadata": {},
   "outputs": [],
   "source": [
    "# Add word2vec similarity to heatmap:\n",
    "\n",
    "v1 = word2vec[word1]\n",
    "v2 = word2vec[word2]\n",
    "v3 = word2vec[word3]\n",
    "v4 = word2vec[word4]\n",
    "\n",
    "def numpy_calculate_analogy(v1, v2, v3, v4):\n",
    "    #Calculate v1 -v2 + v4 to compare to v3\n",
    "    lhs_intermed = v1 - v2\n",
    "    lhs = lhs_intermed + v4\n",
    "    rhs = v3\n",
    "    #Calculate normalized cosine similarity between the two sides of the equation\n",
    "    return dot(lhs, rhs) / (length(lhs) * length(rhs))\n",
    "\n",
    "distance = numpy_calculate_analogy(v1, v2, v3, v4)"
   ]
  },
  {
   "cell_type": "code",
   "execution_count": 228,
   "metadata": {
    "collapsed": true
   },
   "outputs": [],
   "source": [
    "# Add everything to the appropriate arrays\n",
    "mappingArray.append([distance, distance, distance])\n",
    "names.append(\"word2vec\")"
   ]
  },
  {
   "cell_type": "code",
   "execution_count": 229,
   "metadata": {},
   "outputs": [
    {
     "data": {
      "image/png": "[encoded data removed]",
      "text/plain": [
       "<matplotlib.figure.Figure at 0x12ab1eeb8>"
      ]
     },
     "metadata": {},
     "output_type": "display_data"
    }
   ],
   "source": [
    "# Create a new heatmap\n",
    "ax = sns.heatmap(mappingArray, annot=True, yticklabels=names, xticklabels=sizes)"
   ]
  },
  {
   "cell_type": "code",
   "execution_count": 146,
   "metadata": {},
   "outputs": [],
   "source": [
    "#load pretraind word embeddings of Glove\n",
    "import gensim\n",
    "\n",
    "path = \"glove.6B/glove.6B.300d.txt\"\n",
    "\n",
    "#convert GloVe into word2vec format\n",
    "gensim.scripts.glove2word2vec.get_glove_info(path)\n",
    "gensim.scripts.glove2word2vec.glove2word2vec(path, \"glove_converted.txt\")\n",
    "\n",
    "glove = KeyedVectors.load_word2vec_format(\"glove_converted.txt\", binary=False)"
   ]
  },
  {
   "cell_type": "code",
   "execution_count": 230,
   "metadata": {
    "collapsed": true
   },
   "outputs": [],
   "source": [
    "# Add word2vec similarity to heatmap:\n",
    "\n",
    "v1 = glove[word1]\n",
    "v2 = glove[word2]\n",
    "v3 = glove[word3]\n",
    "v4 = glove[word4]\n",
    "\n",
    "distance = numpy_calculate_analogy(v1, v2, v3, v4)"
   ]
  },
  {
   "cell_type": "code",
   "execution_count": 231,
   "metadata": {
    "collapsed": true
   },
   "outputs": [],
   "source": [
    "# Add everything to the appropriate arrays\n",
    "mappingArray.append([distance, distance, distance])\n",
    "names.append(\"glove\")"
   ]
  },
  {
   "cell_type": "code",
   "execution_count": 232,
   "metadata": {},
   "outputs": [
    {
     "data": {
      "image/png": "[encoded data removed]",
      "text/plain": [
       "<matplotlib.figure.Figure at 0x2f5e7de48>"
      ]
     },
     "metadata": {},
     "output_type": "display_data"
    }
   ],
   "source": [
    "# Create a new heatmap\n",
    "ax = sns.heatmap(mappingArray, annot=True, yticklabels=names, xticklabels=sizes)"
   ]
  },
  {
   "cell_type": "markdown",
   "metadata": {
    "collapsed": true
   },
   "source": [
    "After the addition of the Word2Vec and GloVe embeddings, the entire mapping has become completely skewed. The similarities measured in this embedding between the four words is much higher than the figures we have previously seen. As cosine similarity has a maximum value of 1, these corpora show us that the problem was not in the analogy but actually due to the size of the Alice in Wonderland corpus. \n",
    "\n",
    "We can also reason the other way around. We knew that the analogy was correct, and actually very strong. The fact that both Word2Vec and GloVe return such high similarity measures shows us that it has been trained on a lot of data and is very powerful. \n",
    "\n",
    "It actually is not even fair to compare our self-trained models here, as they did not even get a chance to grow powerful in the limited amount of time, with the limited amount of computation power available. However, this does show what a good word embedding can do and what a powerful tool it is. \n"
   ]
  }
 ],
 "metadata": {
  "kernelspec": {
   "display_name": "Python 3",
   "language": "python",
   "name": "python3"
  },
  "language_info": {
   "codemirror_mode": {
    "name": "ipython",
    "version": 3
   },
   "file_extension": ".py",
   "mimetype": "text/x-python",
   "name": "python",
   "nbconvert_exporter": "python",
   "pygments_lexer": "ipython3",
   "version": "3.6.1"
  }
 },
 "nbformat": 4,
 "nbformat_minor": 2
}
