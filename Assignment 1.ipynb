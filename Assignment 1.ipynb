{
 "cells": [
  {
   "cell_type": "markdown",
   "metadata": {},
   "source": [
    "# Assignment 1\n"
   ]
  },
  {
   "cell_type": "code",
   "execution_count": 34,
   "metadata": {},
   "outputs": [],
   "source": [
    "import numpy as np\n",
    "np.random.seed(13) #TODO Check if this is used for sgd\n",
    "import keras.backend as K\n",
    "from keras.models import Sequential\n",
    "from keras.layers import Dense, Embedding, Reshape, Lambda\n",
    "from keras.utils import np_utils\n",
    "from keras.utils.data_utils import get_file\n",
    "from keras.preprocessing.text import Tokenizer\n",
    "from keras.utils.vis_utils import model_to_dot\n",
    "from keras.preprocessing import sequence\n",
    "from gensim.models import KeyedVectors\n",
    "from sklearn.manifold import TSNE\n",
    "from sklearn.metrics.pairwise import cosine_similarity\n",
    "from sklearn.neighbors import NearestNeighbors as nn\n",
    "from matplotlib import pylab\n",
    "from __future__ import division"
   ]
  },
  {
   "cell_type": "code",
   "execution_count": 35,
   "metadata": {
    "collapsed": true
   },
   "outputs": [],
   "source": [
    "# DO NOT Modify the lines in this cell\n",
    "path = 'alice.txt'\n",
    "corpus = open(path).readlines()[0:700]\n",
    "\n",
    "corpus = [sentence for sentence in corpus if sentence.count(\" \") >= 2]\n",
    "\n",
    "tokenizer = Tokenizer(filters='!\"#$%&()*+,-./:;<=>?@[\\\\]^_`{|}~\\t\\n'+\"'\")\n",
    "tokenizer.fit_on_texts(corpus)\n",
    "corpus = tokenizer.texts_to_sequences(corpus)\n",
    "nb_samples = sum(len(s) for s in corpus)\n",
    "V = len(tokenizer.word_index) + 1\n",
    "\n",
    "# Is this something they need to change?\n",
    "dim = 100\n",
    "window_size = 2 #use this window size for Skipgram, CBOW, and the model with the additional hidden layer\n",
    "window_size_corpus = 4 #use this window size for the co-occurrence matrix"
   ]
  },
  {
   "cell_type": "markdown",
   "metadata": {},
   "source": [
    "## Question 1\n",
    "\n",
    "### Co-occurrence Matrix\n",
    "Use the provided code to load the \"Alice in Wonderland\" text document. \n",
    "1. Implement the word-word co-occurrence matrix for “Alice in Wonderland”\n",
    "2. Normalize the words such that every value lies within a range of 0 and 1\n",
    "3. Compute the cosine distance between the given words:\n",
    "    - Alice \n",
    "    - Dinah\n",
    "    - Rabbit\n",
    "4. List the 5 closest words to 'Alice'. Discuss the results.\n",
    "5. Discuss what the main drawbacks are of a term-term co-occurence matrix solutions?\n"
   ]
  },
  {
   "cell_type": "code",
   "execution_count": 46,
   "metadata": {
    "collapsed": true
   },
   "outputs": [],
   "source": [
    "#create co-occurrence matrix"
   ]
  },
  {
   "cell_type": "code",
   "execution_count": 47,
   "metadata": {
    "collapsed": true
   },
   "outputs": [],
   "source": [
    "#find cosine similarity to Alice, Dinah and Rabbit"
   ]
  },
  {
   "cell_type": "code",
   "execution_count": 48,
   "metadata": {
    "collapsed": true
   },
   "outputs": [],
   "source": [
    "#find the closest words to Alice"
   ]
  },
  {
   "cell_type": "markdown",
   "metadata": {},
   "source": [
    "Discussion of the drawbacks:"
   ]
  },
  {
   "cell_type": "code",
   "execution_count": 32,
   "metadata": {},
   "outputs": [
    {
     "ename": "NameError",
     "evalue": "name 'V' is not defined",
     "output_type": "error",
     "traceback": [
      "\u001b[0;31m---------------------------------------------------------------------------\u001b[0m",
      "\u001b[0;31mNameError\u001b[0m                                 Traceback (most recent call last)",
      "\u001b[0;32m<ipython-input-32-92a61d193894>\u001b[0m in \u001b[0;36m<module>\u001b[0;34m()\u001b[0m\n\u001b[1;32m      3\u001b[0m \u001b[0;34m\u001b[0m\u001b[0m\n\u001b[1;32m      4\u001b[0m \u001b[0mf\u001b[0m \u001b[0;34m=\u001b[0m \u001b[0mopen\u001b[0m\u001b[0;34m(\u001b[0m\u001b[0;34m'vectors_co_occurrence.txt'\u001b[0m\u001b[0;34m,\u001b[0m\u001b[0;34m\"w\"\u001b[0m\u001b[0;34m)\u001b[0m\u001b[0;34m\u001b[0m\u001b[0m\n\u001b[0;32m----> 5\u001b[0;31m \u001b[0mf\u001b[0m\u001b[0;34m.\u001b[0m\u001b[0mwrite\u001b[0m\u001b[0;34m(\u001b[0m\u001b[0;34m\" \"\u001b[0m\u001b[0;34m.\u001b[0m\u001b[0mjoin\u001b[0m\u001b[0;34m(\u001b[0m\u001b[0;34m[\u001b[0m\u001b[0mstr\u001b[0m\u001b[0;34m(\u001b[0m\u001b[0mV\u001b[0m\u001b[0;34m-\u001b[0m\u001b[0;36m1\u001b[0m\u001b[0;34m)\u001b[0m\u001b[0;34m,\u001b[0m\u001b[0mstr\u001b[0m\u001b[0;34m(\u001b[0m\u001b[0mV\u001b[0m\u001b[0;34m-\u001b[0m\u001b[0;36m1\u001b[0m\u001b[0;34m)\u001b[0m\u001b[0;34m]\u001b[0m\u001b[0;34m)\u001b[0m\u001b[0;34m)\u001b[0m\u001b[0;34m\u001b[0m\u001b[0m\n\u001b[0m\u001b[1;32m      6\u001b[0m \u001b[0mf\u001b[0m\u001b[0;34m.\u001b[0m\u001b[0mwrite\u001b[0m\u001b[0;34m(\u001b[0m\u001b[0;34m\"\\n\"\u001b[0m\u001b[0;34m)\u001b[0m\u001b[0;34m\u001b[0m\u001b[0m\n\u001b[1;32m      7\u001b[0m \u001b[0;34m\u001b[0m\u001b[0m\n",
      "\u001b[0;31mNameError\u001b[0m: name 'V' is not defined"
     ]
    }
   ],
   "source": [
    "#Save your all the vector representations of your word embeddings in this way\n",
    "#Change when necessary the sizes of the vocabulary/embedding dimension\n",
    "\n",
    "f = open('vectors_co_occurrence.txt',\"w\")\n",
    "f.write(\" \".join([str(V-1),str(V-1)]))\n",
    "f.write(\"\\n\")\n",
    "\n",
    "#vectors = your word co-occurrence matrix\n",
    "vectors = []\n",
    "for word, i in tokenizer.word_index.items():    \n",
    "    f.write(word)\n",
    "    f.write(\" \")\n",
    "    f.write(\" \".join(map(str, list(vectors[i,:]))))\n",
    "    f.write(\"\\n\")\n",
    "f.close()"
   ]
  },
  {
   "cell_type": "code",
   "execution_count": null,
   "metadata": {
    "collapsed": true
   },
   "outputs": [],
   "source": [
    "#reopen your file as follows\n",
    "\n",
    "co_occurrence = KeyedVectors.load_word2vec_format('./vectors_co_occurrence.txt', binary=False)"
   ]
  },
  {
   "cell_type": "markdown",
   "metadata": {},
   "source": [
    "## Question 2\n",
    "\n",
    "### Word embeddings\n",
    "Build embeddings with a keras implementation where the embedding vector is of length 50, 150 and 300. Use the Alice in Wonderland text book for training.\n",
    "1. Using the CBOW model\n",
    "2. Using Skipgram model\n",
    "3. Add extra hidden dense layer to CBow and Skipgram implementations. Choose an activation function for that layer and justify your answer.\n",
    "4. Analyze the four different word embeddings\n",
    "    - Implement your own function to perform the analogy task with. Do not use existing libraries for this task such as Gensim. Your function should be able to answer whether an anaology as in the example given in the pdf-file is true.\n",
    "    - Compare the performance on the analogy task between the word embeddings that you have trained in 2.1, 2.2 and 2.3.  \n",
    "    - Visualize your results and interpret your results\n",
    "5. Use the word co-occurence matrix from Question 1. Compare the performance on the analogy task with the performance of your trained word embeddings.  \n",
    "6. Discuss:\n",
    "    - What are the main advantages of CBOW and Skipgram?\n",
    "    - What is the advantage of negative sampling?\n",
    "    - What are the main drawbacks of CBOW and Skipgram?\n",
    "7. Load pre-trained embeddings on large corpuses (see the pdf file). You only have to consider the word embeddings with an embedding size of 300\n",
    "    - Compare performance on the analogy task with your own trained embeddings from \"Alice in Wonderland\". You can limit yourself to the vocabulary of Alice in Wonderland. Visualize the pre-trained word embeddings and compare these with the results of your own trained word embeddings. \n"
   ]
  },
  {
   "cell_type": "code",
   "execution_count": 36,
   "metadata": {
    "collapsed": true
   },
   "outputs": [],
   "source": [
    "#prepare data for cbow\n",
    "\n",
    "def generate_data(corpus, window_size, V):\n",
    "    maxlen = window_size*2\n",
    "    for words in corpus:\n",
    "        L = len(words)\n",
    "        for index, word in enumerate(words):\n",
    "            contexts = []\n",
    "            labels   = []            \n",
    "            s = index - window_size\n",
    "            e = index + window_size + 1\n",
    "            \n",
    "            contexts.append([words[i] for i in range(s, e) if 0 <= i < L and i != index])\n",
    "            labels.append(word)\n",
    "\n",
    "            x = sequence.pad_sequences(contexts, maxlen=maxlen)\n",
    "            y = np_utils.to_categorical(labels, V)\n",
    "            yield (x, y)"
   ]
  },
  {
   "cell_type": "code",
   "execution_count": 37,
   "metadata": {},
   "outputs": [],
   "source": [
    "#create CBOW model\n",
    "dim=50\n",
    "cbow50 = Sequential()\n",
    "cbow50.add(Embedding(input_dim=V, output_dim=dim, input_length=window_size*2))\n",
    "cbow50.add(Lambda(lambda x: K.mean(x, axis=1), output_shape=(dim,)))\n",
    "cbow50.add(Dense(V, activation='softmax'))\n",
    "\n",
    "dim=150\n",
    "cbow150 = Sequential()\n",
    "cbow150.add(Embedding(input_dim=V, output_dim=dim, input_length=window_size*2))\n",
    "cbow150.add(Lambda(lambda x: K.mean(x, axis=1), output_shape=(dim,)))\n",
    "cbow150.add(Dense(V, activation='softmax'))\n",
    "\n",
    "dim=300\n",
    "cbow300 = Sequential()\n",
    "cbow300.add(Embedding(input_dim=V, output_dim=dim, input_length=window_size*2))\n",
    "cbow300.add(Lambda(lambda x: K.mean(x, axis=1), output_shape=(dim,)))\n",
    "cbow300.add(Dense(V, activation='softmax'))"
   ]
  },
  {
   "cell_type": "code",
   "execution_count": 38,
   "metadata": {
    "collapsed": true
   },
   "outputs": [],
   "source": [
    "#define loss function\n",
    "loss='categorical_crossentropy'"
   ]
  },
  {
   "cell_type": "code",
   "execution_count": 39,
   "metadata": {},
   "outputs": [
    {
     "name": "stdout",
     "output_type": "stream",
     "text": [
      "0 41686.856939315796\n",
      "1 39117.07975804806\n",
      "2 38908.93960213661\n"
     ]
    }
   ],
   "source": [
    "#train cbow50 model\n",
    "cbow50.compile(loss=loss, optimizer='adadelta')\n",
    "\n",
    "for ite in range(3):\n",
    "    loss = 0.\n",
    "    for x, y in generate_data(corpus, window_size, V):\n",
    "        loss += cbow50.train_on_batch(x, y)\n",
    "\n",
    "    print(ite, loss)\n",
    "    \n",
    "    \n",
    "f = open('cbow_50_vectors.txt' ,'w')\n",
    "f.write('{} {}\\n'.format(V-1, 50))\n",
    "vectors = cbow50.get_weights()[0]\n",
    "for word, i in tokenizer.word_index.items():\n",
    "    str_vec = ' '.join(map(str, list(vectors[i, :])))\n",
    "    f.write('{} {}\\n'.format(word, str_vec))\n",
    "f.close()"
   ]
  },
  {
   "cell_type": "code",
   "execution_count": 40,
   "metadata": {},
   "outputs": [
    {
     "name": "stdout",
     "output_type": "stream",
     "text": [
      "0 41624.23085522652\n",
      "1 38758.48308968544\n",
      "2 38354.18330681324\n"
     ]
    }
   ],
   "source": [
    "#train cbow150 model\n",
    "loss='categorical_crossentropy'\n",
    "cbow150.compile(loss=loss, optimizer='adadelta')\n",
    "\n",
    "for ite in range(3):\n",
    "    loss = 0.\n",
    "    for x, y in generate_data(corpus, window_size, V):\n",
    "        loss += cbow150.train_on_batch(x, y)\n",
    "\n",
    "    print(ite, loss)\n",
    "    \n",
    "    \n",
    "f = open('cbow_150_vectors.txt' ,'w')\n",
    "f.write('{} {}\\n'.format(V-1, 150))\n",
    "vectors = cbow150.get_weights()[0]\n",
    "for word, i in tokenizer.word_index.items():\n",
    "    str_vec = ' '.join(map(str, list(vectors[i, :])))\n",
    "    f.write('{} {}\\n'.format(word, str_vec))\n",
    "f.close()"
   ]
  },
  {
   "cell_type": "code",
   "execution_count": 41,
   "metadata": {},
   "outputs": [
    {
     "name": "stdout",
     "output_type": "stream",
     "text": [
      "0 41559.90414094925\n",
      "1 38492.52104020119\n",
      "2 37942.09509307146\n"
     ]
    }
   ],
   "source": [
    "#train cbow300 model\n",
    "loss='categorical_crossentropy'\n",
    "cbow300.compile(loss=loss, optimizer='adadelta')\n",
    "\n",
    "for ite in range(3):\n",
    "    loss = 0.\n",
    "    for x, y in generate_data(corpus, window_size, V):\n",
    "        loss += cbow300.train_on_batch(x, y)\n",
    "\n",
    "    print(ite, loss)\n",
    "    \n",
    "f = open('cbow_300_vectors.txt' ,'w')\n",
    "f.write('{} {}\\n'.format(V-1, 300))\n",
    "vectors = cbow300.get_weights()[0]\n",
    "for word, i in tokenizer.word_index.items():\n",
    "    str_vec = ' '.join(map(str, list(vectors[i, :])))\n",
    "    f.write('{} {}\\n'.format(word, str_vec))\n",
    "f.close()"
   ]
  },
  {
   "cell_type": "code",
   "execution_count": 42,
   "metadata": {
    "collapsed": true
   },
   "outputs": [],
   "source": [
    "#prepare data for Skipgram\n",
    "\n",
    "def generate_data_skipgram(corpus, window_size, V):\n",
    "    maxlen = window_size*2\n",
    "    all_in = []\n",
    "    all_out = []\n",
    "    for words in corpus:\n",
    "        L = len(words)\n",
    "        for index, word in enumerate(words):\n",
    "            p = index - window_size\n",
    "            n = index + window_size + 1\n",
    "                    \n",
    "            in_words = []\n",
    "            labels = []\n",
    "            for i in range(p, n):\n",
    "                if i != index and 0 <= i < L:\n",
    "                    in_words.append([word])\n",
    "                    labels.append(words[i])\n",
    "            if in_words != []:\n",
    "                all_in.append(np.array(in_words,dtype=np.int32))\n",
    "                all_out.append(np_utils.to_categorical(labels, V))\n",
    "    return (all_in,all_out)\n",
    "\n",
    "#get x and y's for data\n",
    "x,y = generate_data_skipgram(corpus,window_size,V)\n",
    "\n",
    "#save the preprocessed data of Skipgram\n",
    "f = open('data_skipgram.txt' ,'w')\n",
    "\n",
    "for inputs, outcome in zip(x,y):\n",
    "    inputs = np.concatenate(inputs)\n",
    "    f.write(\" \".join(map(str, list(inputs))))\n",
    "    f.write(\",\")\n",
    "    outcome = np.concatenate(outcome)\n",
    "    f.write(\" \".join(map(str,list(outcome))))\n",
    "    f.write(\"\\n\")\n",
    "f.close()"
   ]
  },
  {
   "cell_type": "code",
   "execution_count": 43,
   "metadata": {
    "collapsed": true
   },
   "outputs": [],
   "source": [
    "#load the preprocessed Skipgram data\n",
    "def generate_data_skipgram_from_file():\n",
    "    f = open('data_skipgram.txt' ,'r')\n",
    "    for row in f:\n",
    "        inputs,outputs = row.split(\",\")\n",
    "        inputs = np.fromstring(inputs, dtype=int, sep=' ')\n",
    "        inputs = np.asarray(np.split(inputs, len(inputs)))\n",
    "        outputs = np.fromstring(outputs, dtype=float, sep=' ')\n",
    "        outputs = np.asarray(np.split(outputs, len(inputs)))\n",
    "        yield (inputs,outputs)"
   ]
  },
  {
   "cell_type": "code",
   "execution_count": 44,
   "metadata": {
    "collapsed": true
   },
   "outputs": [],
   "source": [
    "#create Skipgram model\n",
    "dim=50\n",
    "skipgram50 = Sequential()\n",
    "skipgram50.add(Embedding(input_dim=V, output_dim=dim, embeddings_initializer='glorot_uniform', input_length=1))\n",
    "skipgram50.add(Reshape((dim, )))\n",
    "skipgram50.add(Dense(input_dim=dim, units=V, kernel_initializer='uniform', activation='softmax'))\n",
    "\n",
    "dim=150\n",
    "skipgram150 = Sequential()\n",
    "skipgram150.add(Embedding(input_dim=V, output_dim=dim, embeddings_initializer='glorot_uniform', input_length=1))\n",
    "skipgram150.add(Reshape((dim, )))\n",
    "skipgram150.add(Dense(input_dim=dim, units=V, kernel_initializer='uniform', activation='softmax'))\n",
    "\n",
    "dim=300\n",
    "skipgram300 = Sequential()\n",
    "skipgram300.add(Embedding(input_dim=V, output_dim=dim, embeddings_initializer='glorot_uniform', input_length=1))\n",
    "skipgram300.add(Reshape((dim, )))\n",
    "skipgram300.add(Dense(input_dim=dim, units=V, kernel_initializer='uniform', activation='softmax'))"
   ]
  },
  {
   "cell_type": "code",
   "execution_count": 45,
   "metadata": {
    "collapsed": true
   },
   "outputs": [],
   "source": [
    "#define loss function for Skipgram"
   ]
  },
  {
   "cell_type": "code",
   "execution_count": 46,
   "metadata": {},
   "outputs": [
    {
     "name": "stdout",
     "output_type": "stream",
     "text": [
      "0 41271.78884887695\n",
      "1 39101.341372966766\n",
      "2 39265.00240945816\n"
     ]
    }
   ],
   "source": [
    "#train Skipgram50 model\n",
    "\n",
    "skipgram50.compile(loss='categorical_crossentropy', optimizer='adadelta')\n",
    "\n",
    "for ite in range(3):\n",
    "    loss = 0.\n",
    "    for x, y in generate_data_skipgram_from_file():\n",
    "        loss += skipgram50.train_on_batch(x, y)\n",
    "\n",
    "    print(ite, loss)\n",
    "    \n",
    "f = open('skipgram_50_vectors.txt' ,'w')\n",
    "f.write('{} {}\\n'.format(V-1, 50))\n",
    "vectors = skipgram50.get_weights()[0]\n",
    "for word, i in tokenizer.word_index.items():\n",
    "    str_vec = ' '.join(map(str, list(vectors[i, :])))\n",
    "    f.write('{} {}\\n'.format(word, str_vec))\n",
    "f.close()"
   ]
  },
  {
   "cell_type": "code",
   "execution_count": 47,
   "metadata": {},
   "outputs": [
    {
     "name": "stdout",
     "output_type": "stream",
     "text": [
      "0 41215.38952541351\n",
      "1 38922.67157101631\n",
      "2 38985.02361166477\n"
     ]
    }
   ],
   "source": [
    "#train Skipgram150 model\n",
    "loss='categorical_crossentropy'\n",
    "skipgram150.compile(loss=loss, optimizer='adadelta')\n",
    "\n",
    "for ite in range(3):\n",
    "    loss = 0.\n",
    "    for x, y in generate_data_skipgram_from_file():\n",
    "        loss += skipgram150.train_on_batch(x, y)\n",
    "\n",
    "    print(ite, loss)\n",
    "    \n",
    "f = open('skipgram_150_vectors.txt' ,'w')\n",
    "f.write('{} {}\\n'.format(V-1, 150))\n",
    "vectors = skipgram150.get_weights()[0]\n",
    "for word, i in tokenizer.word_index.items():\n",
    "    str_vec = ' '.join(map(str, list(vectors[i, :])))\n",
    "    f.write('{} {}\\n'.format(word, str_vec))\n",
    "f.close()"
   ]
  },
  {
   "cell_type": "code",
   "execution_count": 48,
   "metadata": {},
   "outputs": [
    {
     "name": "stdout",
     "output_type": "stream",
     "text": [
      "0 41158.67087030411\n",
      "1 38737.37133550644\n",
      "2 38703.309982299805\n"
     ]
    }
   ],
   "source": [
    "#train Skipgram300 model\n",
    "loss='categorical_crossentropy'\n",
    "skipgram300.compile(loss=loss, optimizer='adadelta')\n",
    "\n",
    "for ite in range(3):\n",
    "    loss = 0.\n",
    "    for x, y in generate_data_skipgram_from_file():\n",
    "        loss += skipgram300.train_on_batch(x, y)\n",
    "\n",
    "    print(ite, loss)\n",
    "    \n",
    "f = open('skipgram_300_vectors.txt' ,'w')\n",
    "f.write('{} {}\\n'.format(V-1, 300))\n",
    "vectors = skipgram300.get_weights()[0]\n",
    "for word, i in tokenizer.word_index.items():\n",
    "    str_vec = ' '.join(map(str, list(vectors[i, :])))\n",
    "    f.write('{} {}\\n'.format(word, str_vec))\n",
    "f.close()"
   ]
  },
  {
   "cell_type": "code",
   "execution_count": 63,
   "metadata": {
    "collapsed": true
   },
   "outputs": [],
   "source": [
    "#create CBOW model with additional dense layer\n",
    "dim=50\n",
    "cbow50h = Sequential()\n",
    "cbow50h.add(Embedding(input_dim=V, output_dim=dim, input_length=window_size*2))\n",
    "cbow50h.add(Lambda(lambda x: K.mean(x, axis=1), output_shape=(dim,)))\n",
    "cbow50h.add(Dense(V, activation='relu'))\n",
    "cbow50h.add(Dense(V, activation='softmax'))\n",
    "\n",
    "dim=150\n",
    "cbow150h = Sequential()\n",
    "cbow150h.add(Embedding(input_dim=V, output_dim=dim, input_length=window_size*2))\n",
    "cbow150h.add(Lambda(lambda x: K.mean(x, axis=1), output_shape=(dim,)))\n",
    "cbow150h.add(Dense(V, activation='relu'))\n",
    "cbow150h.add(Dense(V, activation='softmax'))\n",
    "\n",
    "dim=300\n",
    "cbow300h = Sequential()\n",
    "cbow300h.add(Embedding(input_dim=V, output_dim=dim, input_length=window_size*2))\n",
    "cbow300h.add(Lambda(lambda x: K.mean(x, axis=1), output_shape=(dim,)))\n",
    "cbow300h.add(Dense(V, activation='relu'))\n",
    "cbow300h.add(Dense(V, activation='softmax'))"
   ]
  },
  {
   "cell_type": "code",
   "execution_count": 64,
   "metadata": {
    "collapsed": true
   },
   "outputs": [],
   "source": [
    "#define loss function for CBOW + dense\n"
   ]
  },
  {
   "cell_type": "code",
   "execution_count": 66,
   "metadata": {},
   "outputs": [
    {
     "name": "stdout",
     "output_type": "stream",
     "text": [
      "0 38203.86327829957\n",
      "1 38013.09641942382\n",
      "2 37855.625559709966\n"
     ]
    }
   ],
   "source": [
    "#train model for CBOW + dense\n",
    "loss='categorical_crossentropy'\n",
    "cbow50h.compile(loss=loss, optimizer='adadelta')\n",
    "\n",
    "for ite in range(3):\n",
    "    loss = 0.\n",
    "    for x, y in generate_data(corpus, window_size, V):\n",
    "        loss += cbow50h.train_on_batch(x, y)\n",
    "\n",
    "    print(ite, loss)\n",
    "    \n",
    "f = open('cbowh_50_vectors.txt' ,'w')\n",
    "f.write('{} {}\\n'.format(V-1, 50))\n",
    "vectors = cbow50h.get_weights()[0]\n",
    "for word, i in tokenizer.word_index.items():\n",
    "    str_vec = ' '.join(map(str, list(vectors[i, :])))\n",
    "    f.write('{} {}\\n'.format(word, str_vec))\n",
    "f.close()\n",
    "\n"
   ]
  },
  {
   "cell_type": "code",
   "execution_count": 67,
   "metadata": {},
   "outputs": [
    {
     "name": "stdout",
     "output_type": "stream",
     "text": [
      "0 39556.89970886707\n",
      "1 38192.07329599559\n",
      "2 37617.63297378272\n"
     ]
    }
   ],
   "source": [
    "loss='categorical_crossentropy'\n",
    "cbow150h.compile(loss=loss, optimizer='adadelta')\n",
    "\n",
    "for ite in range(3):\n",
    "    loss = 0.\n",
    "    for x, y in generate_data(corpus, window_size, V):\n",
    "        loss += cbow150h.train_on_batch(x, y)\n",
    "\n",
    "    print(ite, loss)\n",
    "    \n",
    "f = open('cbowh_150_vectors.txt' ,'w')\n",
    "f.write('{} {}\\n'.format(V-1, 150))\n",
    "vectors = cbow150h.get_weights()[0]\n",
    "for word, i in tokenizer.word_index.items():\n",
    "    str_vec = ' '.join(map(str, list(vectors[i, :])))\n",
    "    f.write('{} {}\\n'.format(word, str_vec))\n",
    "f.close()"
   ]
  },
  {
   "cell_type": "code",
   "execution_count": 69,
   "metadata": {},
   "outputs": [
    {
     "name": "stdout",
     "output_type": "stream",
     "text": [
      "0 37681.00657823682\n",
      "1 37109.283381693065\n",
      "2 36645.58560779132\n"
     ]
    }
   ],
   "source": [
    "loss='categorical_crossentropy'\n",
    "cbow300h.compile(loss=loss, optimizer='adadelta')\n",
    "\n",
    "for ite in range(3):\n",
    "    loss = 0.\n",
    "    for x, y in generate_data(corpus, window_size, V):\n",
    "        loss += cbow300h.train_on_batch(x, y)\n",
    "\n",
    "    print(ite, loss)\n",
    "    \n",
    "f = open('cbowh_300_vectors.txt' ,'w')\n",
    "f.write('{} {}\\n'.format(V-1, 300))\n",
    "vectors = cbow300h.get_weights()[0]\n",
    "for word, i in tokenizer.word_index.items():\n",
    "    str_vec = ' '.join(map(str, list(vectors[i, :])))\n",
    "    f.write('{} {}\\n'.format(word, str_vec))\n",
    "f.close()"
   ]
  },
  {
   "cell_type": "code",
   "execution_count": 142,
   "metadata": {
    "collapsed": true
   },
   "outputs": [],
   "source": [
    "#create Skipgram with additional dense layer\n",
    "from keras.layers import Dropout\n",
    "\n",
    "dropout_rate = 0.2\n",
    "dim=50\n",
    "skipgram50h = Sequential()\n",
    "skipgram50h.add(Embedding(input_dim=V, output_dim=dim, embeddings_initializer='glorot_uniform', input_length=1))\n",
    "skipgram50h.add(Reshape((dim, )))\n",
    "skipgram50h.add(Dense(units=V, activation='relu'))\n",
    "skipgram50h.add(Dense(units=V, kernel_initializer='uniform', activation='softmax'))\n",
    "# dim=50\n",
    "# skipgram50h = Sequential()\n",
    "# skipgram50h.add(Embedding(input_dim=V, output_dim=dim, embeddings_initializer='glorot_uniform', input_length=1))\n",
    "# skipgram50h.add(Dense(dim, activation='relu'))\n",
    "# skipgram50h.add(Dense(dim, kernel_initializer='uniform', activation='softmax'))\n",
    "\n",
    "dim=150\n",
    "skipgram150h = Sequential()\n",
    "skipgram150h.add(Embedding(input_dim=V, output_dim=dim, embeddings_initializer='glorot_uniform', input_length=1))\n",
    "skipgram150h.add(Reshape((dim, )))\n",
    "skipgram150h.add(Dense(units=V, activation='relu'))\n",
    "skipgram150h.add(Dense(units=V, kernel_initializer='uniform', activation='softmax'))\n",
    "\n",
    "dim=300\n",
    "skipgram300h = Sequential()\n",
    "skipgram300h.add(Embedding(input_dim=V, output_dim=dim, embeddings_initializer='glorot_uniform', input_length=1))\n",
    "skipgram300h.add(Reshape((dim, )))\n",
    "skipgram300h.add(Dense(units=V, activation='relu'))\n",
    "skipgram300h.add(Dense(units=V, kernel_initializer='uniform', activation='softmax'))"
   ]
  },
  {
   "cell_type": "code",
   "execution_count": 143,
   "metadata": {
    "collapsed": true
   },
   "outputs": [],
   "source": [
    "#define loss function for Skipgram + dense\n"
   ]
  },
  {
   "cell_type": "code",
   "execution_count": 144,
   "metadata": {},
   "outputs": [
    {
     "name": "stdout",
     "output_type": "stream",
     "text": [
      "0 38556.30892801285\n",
      "1 38284.277649879456\n",
      "2 38160.48908627033\n"
     ]
    }
   ],
   "source": [
    "#train model for Skipgram + dense\n",
    "skipgram50h.compile(loss='categorical_crossentropy', optimizer='adadelta')\n",
    "\n",
    "for ite in range(3):\n",
    "    loss = 0.\n",
    "    for x, y in generate_data_skipgram_from_file():\n",
    "        loss += skipgram50h.train_on_batch(x, y)\n",
    "\n",
    "    print(ite, loss)\n",
    "    \n",
    "f = open('skipgramh_50_vectors.txt' ,'w')\n",
    "f.write('{} {}\\n'.format(V-1, 50))\n",
    "vectors = skipgram50h.get_weights()[0]\n",
    "for word, i in tokenizer.word_index.items():\n",
    "    str_vec = ' '.join(map(str, list(vectors[i, :])))\n",
    "    f.write('{} {}\\n'.format(word, str_vec))\n",
    "f.close()"
   ]
  },
  {
   "cell_type": "code",
   "execution_count": 145,
   "metadata": {},
   "outputs": [
    {
     "name": "stdout",
     "output_type": "stream",
     "text": [
      "0 38524.81856560707\n",
      "1 38182.9237254858\n",
      "2 38044.449105620384\n"
     ]
    }
   ],
   "source": [
    "loss='categorical_crossentropy'\n",
    "skipgram150h.compile(loss=loss, optimizer='adadelta')\n",
    "\n",
    "for ite in range(3):\n",
    "    loss = 0.\n",
    "    for x, y in generate_data_skipgram_from_file():\n",
    "        loss += skipgram150h.train_on_batch(x, y)\n",
    "\n",
    "    print(ite, loss)\n",
    "    \n",
    "f = open('skipgramh_150_vectors.txt' ,'w')\n",
    "f.write('{} {}\\n'.format(V-1, 150))\n",
    "vectors = skipgram150h.get_weights()[0]\n",
    "for word, i in tokenizer.word_index.items():\n",
    "    str_vec = ' '.join(map(str, list(vectors[i, :])))\n",
    "    f.write('{} {}\\n'.format(word, str_vec))\n",
    "f.close()"
   ]
  },
  {
   "cell_type": "code",
   "execution_count": 146,
   "metadata": {},
   "outputs": [
    {
     "name": "stdout",
     "output_type": "stream",
     "text": [
      "0 38556.01204943657\n",
      "1 38273.90782046318\n",
      "2 38062.221319675446\n"
     ]
    }
   ],
   "source": [
    "loss='categorical_crossentropy'\n",
    "skipgram300h.compile(loss=loss, optimizer='adadelta')\n",
    "\n",
    "for ite in range(3):\n",
    "    loss = 0.\n",
    "    for x, y in generate_data_skipgram_from_file():\n",
    "        loss += skipgram300h.train_on_batch(x, y)\n",
    "\n",
    "    print(ite, loss)\n",
    "    \n",
    "f = open('skipgramh_300_vectors.txt' ,'w')\n",
    "f.write('{} {}\\n'.format(V-1, 300))\n",
    "vectors = skipgram300h.get_weights()[0]\n",
    "for word, i in tokenizer.word_index.items():\n",
    "    str_vec = ' '.join(map(str, list(vectors[i, :])))\n",
    "    f.write('{} {}\\n'.format(word, str_vec))\n",
    "f.close()"
   ]
  },
  {
   "cell_type": "code",
   "execution_count": 49,
   "metadata": {},
   "outputs": [
    {
     "name": "stdout",
     "output_type": "stream",
     "text": [
      "0.4399814051504332 0.6700274476836526 1.0137254515416014\n",
      "0.45211010872788465 0.7508679510302093 1.1153392875008725\n",
      "0.539148724970009 0.9515944692008453 1.245625942920956\n",
      "0.549228284260227 0.9984298874741127 1.259030344350032\n"
     ]
    }
   ],
   "source": [
    "#Implement your own analogy function\n",
    "\n",
    "from math import *\n",
    "\n",
    "#options: cbow_50, cbow_150, cbow_300, cbowh_50, cbowh_150, cbowh_300\n",
    "# skipgram_50, skipgram_150, skipgram_300, skipgramh_50, skipgramh_150, skipgramh_300\n",
    "def measure_analogy(word1, word2, word3, word4, db):\n",
    "    filename = ''+db+'_vectors.txt'\n",
    "    vectorDict = {}\n",
    "    f = open(filename, 'r')\n",
    "    for line in f:\n",
    "        word, vector = line.partition(\" \")[::2]\n",
    "        vectorDict[word.strip()] = [float(v) for v in vector.split(\" \")]\n",
    "    vector1 = vectorDict[word1]\n",
    "    vector2 = vectorDict[word2]\n",
    "    vector3 = vectorDict[word3]\n",
    "    vector4 = vectorDict[word4]\n",
    "    #Calculate v1 -v2 + v4 to compare to v3\n",
    "    lhs_intermed = map(float.__sub__, vector1, vector2)\n",
    "    lhs = list(map(float.__add__, lhs_intermed, vector4))\n",
    "    rhs = vector3\n",
    "    #Calculate Euclidian distance between the two sides of the equation\n",
    "    dist = sqrt(sum(pow(a-b,2) for a, b in zip(lhs, rhs)))\n",
    "    return dist\n",
    "\n",
    "cbow50_similarity = measure_analogy(\"girl\", \"child\", \"circle\", \"shape\", \"cbow_50\")\n",
    "cbow150_similarity = measure_analogy(\"girl\", \"child\", \"circle\", \"shape\", \"cbow_150\")\n",
    "cbow300_similarity = measure_analogy(\"girl\", \"child\", \"circle\", \"shape\", \"cbow_300\")\n",
    "print(cbow50_similarity, cbow150_similarity, cbow300_similarity)\n",
    "\n",
    "cbow50h_similarity = measure_analogy(\"girl\", \"child\", \"circle\", \"shape\", \"cbowh_50\")\n",
    "cbow150h_similarity = measure_analogy(\"girl\", \"child\", \"circle\", \"shape\", \"cbowh_150\")\n",
    "cbow300h_similarity = measure_analogy(\"girl\", \"child\", \"circle\", \"shape\", \"cbowh_300\")\n",
    "print(cbow50h_similarity, cbow150h_similarity, cbow300h_similarity)\n",
    "\n",
    "skipgram50_similarity = measure_analogy(\"girl\", \"child\", \"circle\", \"shape\", \"skipgram_50\")\n",
    "skipgram150_similarity = measure_analogy(\"girl\", \"child\", \"circle\", \"shape\", \"skipgram_150\")\n",
    "skipgram300_similarity = measure_analogy(\"girl\", \"child\", \"circle\", \"shape\", \"skipgram_300\")\n",
    "print(skipgram50_similarity, skipgram150_similarity, skipgram300_similarity)\n",
    "\n",
    "skipgram50h_similarity = measure_analogy(\"girl\", \"child\", \"circle\", \"shape\", \"skipgramh_50\")\n",
    "skipgram150h_similarity = measure_analogy(\"girl\", \"child\", \"circle\", \"shape\", \"skipgramh_150\")\n",
    "skipgram300h_similarity = measure_analogy(\"girl\", \"child\", \"circle\", \"shape\", \"skipgramh_300\")\n",
    "print(skipgram50h_similarity, skipgram150h_similarity, skipgram300h_similarity)"
   ]
  },
  {
   "cell_type": "code",
   "execution_count": 52,
   "metadata": {},
   "outputs": [
    {
     "name": "stdout",
     "output_type": "stream",
     "text": [
      "[[0.4399814051504332, 0.6700274476836526, 1.0137254515416014], [0.45211010872788465, 0.7508679510302093, 1.1153392875008725], [0.539148724970009, 0.9515944692008453, 1.245625942920956], [0.549228284260227, 0.9984298874741127, 1.259030344350032]]\n"
     ]
    }
   ],
   "source": [
    "#Create a 2D array of the results of the previous question\n",
    "row1 = [cbow50_similarity, cbow150_similarity, cbow300_similarity]\n",
    "row2 = [cbow50h_similarity, cbow150h_similarity, cbow300h_similarity]\n",
    "row3 = [skipgram50_similarity, skipgram150_similarity, skipgram300_similarity]\n",
    "row4 = [skipgram50h_similarity, skipgram150h_similarity, skipgram300h_similarity]\n",
    "\n",
    "mappingArray = []\n",
    "mappingArray.append(row1)\n",
    "mappingArray.append(row2)\n",
    "mappingArray.append(row3)\n",
    "mappingArray.append(row4)\n",
    "print(mappingArray)"
   ]
  },
  {
   "cell_type": "markdown",
   "metadata": {},
   "source": [
    "Comparison performance:"
   ]
  },
  {
   "cell_type": "code",
   "execution_count": 57,
   "metadata": {},
   "outputs": [
    {
     "data": {
      "image/png": "[encoded data removed]",
      "text/plain": [
       "<matplotlib.figure.Figure at 0x12a360208>"
      ]
     },
     "metadata": {},
     "output_type": "display_data"
    }
   ],
   "source": [
    "#Visualization results trained word embeddings\n",
    "%matplotlib inline\n",
    "\n",
    "import numpy as np\n",
    "import seaborn as sns\n",
    "\n",
    "ax = sns.heatmap(mappingArray,  annot=True)"
   ]
  },
  {
   "cell_type": "markdown",
   "metadata": {},
   "source": [
    "# 4. Interpretation results of the visualization\n",
    "\n",
    "As the analogy function that we created is based on Euclidian distance, the lower the value, the better the semantic relationships have been conserved. From the heatmap we can see that the distances are the lowest for CBOW without extra hidden layer. The relationships within a model between any two embedding sizes seem to be almost linear, regardless of the model you are looking at. \n",
    "\n",
    "Another thing that jumps out is that the Skipgram models of embedding vector size 50 seem to find similar values to the CBOW models with embedding size 150. A similar effect is seen between CBOW 300 and Skipgram 150. \n",
    "\n",
    "It is important to note however, that all distances seem relatively small anyway. In fact, the characteristic that some models find higher distances does not mean that these models are less accurate. It may well be the case that the \"true\" analogy value of the analogy chosen in the previous question is closer to a value of 1, as found by the models with larger embedding vectors."
   ]
  },
  {
   "cell_type": "markdown",
   "metadata": {},
   "source": [
    "# 5 Compare the results of the trained word embeddings with the word-word co-occurrence matrix\n",
    "\n",
    "Code can be found below."
   ]
  },
  {
   "cell_type": "code",
   "execution_count": null,
   "metadata": {
    "collapsed": true
   },
   "outputs": [],
   "source": []
  },
  {
   "cell_type": "markdown",
   "metadata": {},
   "source": [
    "Discussion of the advantages of CBOW and Skipgram, the advantages of negative sampling and drawbacks of CBOW and Skipgram"
   ]
  },
  {
   "cell_type": "code",
   "execution_count": 149,
   "metadata": {},
   "outputs": [
    {
     "ename": "ValueError",
     "evalue": "not enough values to unpack (expected 2, got 0)",
     "output_type": "error",
     "traceback": [
      "\u001b[0;31m---------------------------------------------------------------------------\u001b[0m",
      "\u001b[0;31mValueError\u001b[0m                                Traceback (most recent call last)",
      "\u001b[0;32m<ipython-input-149-fb43d3f3a300>\u001b[0m in \u001b[0;36m<module>\u001b[0;34m()\u001b[0m\n\u001b[1;32m      3\u001b[0m \u001b[0mpath_word2vec\u001b[0m \u001b[0;34m=\u001b[0m \u001b[0;34m\"your path /GoogleNews-vectors-negative300.bin\"\u001b[0m\u001b[0;34m\u001b[0m\u001b[0m\n\u001b[1;32m      4\u001b[0m \u001b[0;34m\u001b[0m\u001b[0m\n\u001b[0;32m----> 5\u001b[0;31m \u001b[0mword2vec\u001b[0m \u001b[0;34m=\u001b[0m \u001b[0mKeyedVectors\u001b[0m\u001b[0;34m.\u001b[0m\u001b[0mload_word2vec_format\u001b[0m\u001b[0;34m(\u001b[0m\u001b[0mpath\u001b[0m\u001b[0;34m,\u001b[0m \u001b[0mbinary\u001b[0m\u001b[0;34m=\u001b[0m\u001b[0;32mTrue\u001b[0m\u001b[0;34m)\u001b[0m\u001b[0;34m\u001b[0m\u001b[0m\n\u001b[0m",
      "\u001b[0;32m/Users/daphne/anaconda/lib/python3.6/site-packages/gensim/models/keyedvectors.py\u001b[0m in \u001b[0;36mload_word2vec_format\u001b[0;34m(cls, fname, fvocab, binary, encoding, unicode_errors, limit, datatype)\u001b[0m\n\u001b[1;32m   1001\u001b[0m         return _load_word2vec_format(\n\u001b[1;32m   1002\u001b[0m             \u001b[0mWord2VecKeyedVectors\u001b[0m\u001b[0;34m,\u001b[0m \u001b[0mfname\u001b[0m\u001b[0;34m,\u001b[0m \u001b[0mfvocab\u001b[0m\u001b[0;34m=\u001b[0m\u001b[0mfvocab\u001b[0m\u001b[0;34m,\u001b[0m \u001b[0mbinary\u001b[0m\u001b[0;34m=\u001b[0m\u001b[0mbinary\u001b[0m\u001b[0;34m,\u001b[0m \u001b[0mencoding\u001b[0m\u001b[0;34m=\u001b[0m\u001b[0mencoding\u001b[0m\u001b[0;34m,\u001b[0m \u001b[0municode_errors\u001b[0m\u001b[0;34m=\u001b[0m\u001b[0municode_errors\u001b[0m\u001b[0;34m,\u001b[0m\u001b[0;34m\u001b[0m\u001b[0m\n\u001b[0;32m-> 1003\u001b[0;31m             limit=limit, datatype=datatype)\n\u001b[0m\u001b[1;32m   1004\u001b[0m \u001b[0;34m\u001b[0m\u001b[0m\n\u001b[1;32m   1005\u001b[0m     \u001b[0;32mdef\u001b[0m \u001b[0mget_keras_embedding\u001b[0m\u001b[0;34m(\u001b[0m\u001b[0mself\u001b[0m\u001b[0;34m,\u001b[0m \u001b[0mtrain_embeddings\u001b[0m\u001b[0;34m=\u001b[0m\u001b[0;32mFalse\u001b[0m\u001b[0;34m)\u001b[0m\u001b[0;34m:\u001b[0m\u001b[0;34m\u001b[0m\u001b[0m\n",
      "\u001b[0;32m/Users/daphne/anaconda/lib/python3.6/site-packages/gensim/models/utils_any2vec.py\u001b[0m in \u001b[0;36m_load_word2vec_format\u001b[0;34m(cls, fname, fvocab, binary, encoding, unicode_errors, limit, datatype)\u001b[0m\n\u001b[1;32m    167\u001b[0m     \u001b[0;32mwith\u001b[0m \u001b[0mutils\u001b[0m\u001b[0;34m.\u001b[0m\u001b[0msmart_open\u001b[0m\u001b[0;34m(\u001b[0m\u001b[0mfname\u001b[0m\u001b[0;34m)\u001b[0m \u001b[0;32mas\u001b[0m \u001b[0mfin\u001b[0m\u001b[0;34m:\u001b[0m\u001b[0;34m\u001b[0m\u001b[0m\n\u001b[1;32m    168\u001b[0m         \u001b[0mheader\u001b[0m \u001b[0;34m=\u001b[0m \u001b[0mutils\u001b[0m\u001b[0;34m.\u001b[0m\u001b[0mto_unicode\u001b[0m\u001b[0;34m(\u001b[0m\u001b[0mfin\u001b[0m\u001b[0;34m.\u001b[0m\u001b[0mreadline\u001b[0m\u001b[0;34m(\u001b[0m\u001b[0;34m)\u001b[0m\u001b[0;34m,\u001b[0m \u001b[0mencoding\u001b[0m\u001b[0;34m=\u001b[0m\u001b[0mencoding\u001b[0m\u001b[0;34m)\u001b[0m\u001b[0;34m\u001b[0m\u001b[0m\n\u001b[0;32m--> 169\u001b[0;31m         \u001b[0mvocab_size\u001b[0m\u001b[0;34m,\u001b[0m \u001b[0mvector_size\u001b[0m \u001b[0;34m=\u001b[0m \u001b[0;34m(\u001b[0m\u001b[0mint\u001b[0m\u001b[0;34m(\u001b[0m\u001b[0mx\u001b[0m\u001b[0;34m)\u001b[0m \u001b[0;32mfor\u001b[0m \u001b[0mx\u001b[0m \u001b[0;32min\u001b[0m \u001b[0mheader\u001b[0m\u001b[0;34m.\u001b[0m\u001b[0msplit\u001b[0m\u001b[0;34m(\u001b[0m\u001b[0;34m)\u001b[0m\u001b[0;34m)\u001b[0m  \u001b[0;31m# throws for invalid file format\u001b[0m\u001b[0;34m\u001b[0m\u001b[0m\n\u001b[0m\u001b[1;32m    170\u001b[0m         \u001b[0;32mif\u001b[0m \u001b[0mlimit\u001b[0m\u001b[0;34m:\u001b[0m\u001b[0;34m\u001b[0m\u001b[0m\n\u001b[1;32m    171\u001b[0m             \u001b[0mvocab_size\u001b[0m \u001b[0;34m=\u001b[0m \u001b[0mmin\u001b[0m\u001b[0;34m(\u001b[0m\u001b[0mvocab_size\u001b[0m\u001b[0;34m,\u001b[0m \u001b[0mlimit\u001b[0m\u001b[0;34m)\u001b[0m\u001b[0;34m\u001b[0m\u001b[0m\n",
      "\u001b[0;31mValueError\u001b[0m: not enough values to unpack (expected 2, got 0)"
     ]
    }
   ],
   "source": [
    "#load pretrained word embeddings of word2vec\n",
    "\n",
    "path_word2vec = \"your path /GoogleNews-vectors-negative300.bin\"\n",
    "\n",
    "word2vec = KeyedVectors.load_word2vec_format(path, binary=True)"
   ]
  },
  {
   "cell_type": "code",
   "execution_count": null,
   "metadata": {
    "collapsed": true
   },
   "outputs": [],
   "source": [
    "#load pretraind word embeddings of Glove\n",
    "\n",
    "path = \"your path /glove.6B/glove.6B.300d_converted.txt\"\n",
    "\n",
    "#convert GloVe into word2vec format\n",
    "gensim.scripts.glove2word2vec.get_glove_info(path)\n",
    "gensim.scripts.glove2word2vec.glove2word2vec(path, \"glove_converted.txt\")\n",
    "\n",
    "glove = KeyedVectors.load_word2vec_format(path, binary=False)"
   ]
  },
  {
   "cell_type": "code",
   "execution_count": null,
   "metadata": {
    "collapsed": true
   },
   "outputs": [],
   "source": [
    "#Visualize the pre-trained word embeddings"
   ]
  },
  {
   "cell_type": "markdown",
   "metadata": {},
   "source": [
    "Comparison performance with your own trained word embeddings"
   ]
  },
  {
   "cell_type": "code",
   "execution_count": null,
   "metadata": {
    "collapsed": true
   },
   "outputs": [],
   "source": []
  }
 ],
 "metadata": {
  "kernelspec": {
   "display_name": "Python 3",
   "language": "python",
   "name": "python3"
  },
  "language_info": {
   "codemirror_mode": {
    "name": "ipython",
    "version": 3
   },
   "file_extension": ".py",
   "mimetype": "text/x-python",
   "name": "python",
   "nbconvert_exporter": "python",
   "pygments_lexer": "ipython3",
   "version": "3.6.1"
  }
 },
 "nbformat": 4,
 "nbformat_minor": 2
}
