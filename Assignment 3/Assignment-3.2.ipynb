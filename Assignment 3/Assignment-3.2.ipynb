{
 "cells": [
  {
   "cell_type": "markdown",
   "metadata": {},
   "source": [
    "# Assignment 3.2"
   ]
  },
  {
   "cell_type": "markdown",
   "metadata": {},
   "source": [
    "# Sequence classification model"
   ]
  },
  {
   "cell_type": "code",
   "execution_count": 2,
   "metadata": {
    "collapsed": true
   },
   "outputs": [],
   "source": [
    "from __future__ import print_function"
   ]
  },
  {
   "cell_type": "markdown",
   "metadata": {},
   "source": [
    "## 1. Preprocess data"
   ]
  },
  {
   "cell_type": "markdown",
   "metadata": {},
   "source": [
    "#### Tasks:\n",
    "\n",
    "* Create word vocabulary index (use 10.000 most frequent words)\n",
    "* Preprocess training and validation set for model input. Use vocabulary index as lookup dictionary to transform raw text into integer sequences. You may use code from Practical 5."
   ]
  },
  {
   "cell_type": "code",
   "execution_count": 18,
   "metadata": {
    "collapsed": true
   },
   "outputs": [],
   "source": [
    "import os\n",
    "import sys\n",
    "import numpy as np\n",
    "import pandas as pd\n",
    "import re\n",
    "import nltk\n",
    "\n",
    "from keras import regularizers\n",
    "\n",
    "DATA_PATH = 'data'\n",
    "EMBEDDING_PATH = 'embedding'\n",
    "MODEL_PATH = 'model'"
   ]
  },
  {
   "cell_type": "code",
   "execution_count": 19,
   "metadata": {
    "collapsed": true
   },
   "outputs": [],
   "source": [
    "# YOUR CODE HERE \n",
    "\n",
    "# provide model inputs (sequences from training and validation set) and outputs (sentiment labels)\n",
    "X_train = np.load(os.path.join(DATA_PATH,'X_train_word.npy'))\n",
    "y_train = np.load(os.path.join(DATA_PATH,'y_train_word.npy'))\n",
    "\n",
    "X_valid = np.load(os.path.join(DATA_PATH,'X_valid_word.npy'))\n",
    "y_valid = np.load(os.path.join(DATA_PATH,'y_valid_word.npy'))"
   ]
  },
  {
   "cell_type": "code",
   "execution_count": 20,
   "metadata": {},
   "outputs": [
    {
     "name": "stdout",
     "output_type": "stream",
     "text": [
      "(10000, 500) (10000,) (2000, 500) (2000,)\n"
     ]
    }
   ],
   "source": [
    "# here we only use smaller set to train our model \n",
    "# original set consists of 25.000 reviews\n",
    "\n",
    "X_train = X_train[:10000]\n",
    "y_train = y_train[:10000]\n",
    "\n",
    "X_valid = X_valid[0:2000]\n",
    "y_valid = y_valid[0:2000]\n",
    "\n",
    "print(X_train.shape, y_train.shape, X_valid.shape, y_valid.shape)\n"
   ]
  },
  {
   "cell_type": "markdown",
   "metadata": {},
   "source": [
    "## 2. Sequence classification model"
   ]
  },
  {
   "cell_type": "markdown",
   "metadata": {},
   "source": [
    "#### Tasks: \n",
    "\n",
    "* Create a RNN model to classify sequence of words on a binary classification task\n",
    "* Compare four (4) different gate memory units\n",
    "* Plot model performance (loss and accuracy) of these 4 models\n",
    "* Present the performance (loss and accuarcy) of these 4 models in a comparison table"
   ]
  },
  {
   "cell_type": "code",
   "execution_count": 21,
   "metadata": {},
   "outputs": [],
   "source": [
    "# YOUR CODE HERE \n",
    "\n",
    "# decide number of epochs and batch_size\n",
    "vocab_size = 10003\n",
    "sentence_length = len(X_train[0])\n",
    "batch_size = 128\n",
    "num_epochs = 10\n",
    "\n",
    "from keras.layers import Embedding, Input, LSTM, Dense, GRU, Bidirectional\n",
    "from keras.models import Model"
   ]
  },
  {
   "cell_type": "markdown",
   "metadata": {},
   "source": [
    "### Model 1 : LSTM"
   ]
  },
  {
   "cell_type": "code",
   "execution_count": 22,
   "metadata": {},
   "outputs": [],
   "source": [
    "# YOUR CODE HERE\n",
    "# MODEL-1: LSTM\n",
    "\n",
    "# construct the model\n",
    "sequence_input = Input(shape=(500,), name='input_layer', dtype='int32')\n",
    "embedding_layer = Embedding(vocab_size+1, 64, input_length=500, name='word_embedding')\n",
    "embedded_sequences = embedding_layer(sequence_input)\n",
    "lstm_layer = LSTM(64, name='lstm_layer')(embedded_sequences)\n",
    "output_layer = Dense(1, name='prediction_layer', activation='sigmoid', kernel_regularizer=regularizers.l2(0.01))(lstm_layer)\n",
    "\n",
    "lstm_model = Model(sequence_input, output_layer)"
   ]
  },
  {
   "cell_type": "markdown",
   "metadata": {},
   "source": [
    "### Model 2: GRU"
   ]
  },
  {
   "cell_type": "code",
   "execution_count": 23,
   "metadata": {
    "collapsed": true
   },
   "outputs": [],
   "source": [
    "# YOUR CODE HERE\n",
    "# MODEL-2: GRU\n",
    "\n",
    "# construct the model\n",
    "sequence_input = Input(shape=(500,), name='input_layer', dtype='int32')\n",
    "embedding_layer = Embedding(vocab_size+1, 64, input_length=500, name='word_embedding')\n",
    "embedded_sequences = embedding_layer(sequence_input)\n",
    "GRU_layer = GRU(64, name='gru_layer')(embedded_sequences)\n",
    "output_layer = Dense(1, name='prediction_layer', activation='sigmoid', kernel_regularizer=regularizers.l2(0.01))(GRU_layer)\n",
    "\n",
    "gru_model = Model(sequence_input, output_layer)\n"
   ]
  },
  {
   "cell_type": "markdown",
   "metadata": {},
   "source": [
    "### Model 3 : Bidirectional LSTM"
   ]
  },
  {
   "cell_type": "code",
   "execution_count": 24,
   "metadata": {
    "collapsed": true
   },
   "outputs": [],
   "source": [
    "# YOUR CODE HERE\n",
    "# MODEL-3: Bidirectional LSTM\n",
    "\n",
    "# construct the model\n",
    "sequence_input = Input(shape=(500,), name='input_layer', dtype='int32')\n",
    "embedding_layer = Embedding(vocab_size+1, 64, input_length=500, name='word_embedding')\n",
    "embedded_sequences = embedding_layer(sequence_input)\n",
    "bidirectional_layer = Bidirectional(LSTM(64, name='bi_lstm_layer'))(embedded_sequences)\n",
    "output_layer = Dense(1, name='prediction_layer', activation='sigmoid', kernel_regularizer=regularizers.l2(0.01))(bidirectional_layer)\n",
    "\n",
    "bilstm_model = Model(sequence_input, output_layer)\n"
   ]
  },
  {
   "cell_type": "markdown",
   "metadata": {},
   "source": [
    "### Model 4 : Bidirectional GRU"
   ]
  },
  {
   "cell_type": "code",
   "execution_count": 25,
   "metadata": {
    "collapsed": true
   },
   "outputs": [],
   "source": [
    "# YOUR CODE HERE\n",
    "# MODEL-4: Bidirectional GRU\n",
    "\n",
    "# construct the model\n",
    "sequence_input = Input(shape=(500,), name='input_layer', dtype='int32')\n",
    "embedding_layer = Embedding(vocab_size+1, 64, input_length=500, name='word_embedding')\n",
    "embedded_sequences = embedding_layer(sequence_input)\n",
    "bidirectional_layer = Bidirectional(GRU(64, name='bi_gru_layer'))(embedded_sequences)\n",
    "output_layer = Dense(1, name='prediction_layer', activation='sigmoid', kernel_regularizer=regularizers.l2(0.01))(bidirectional_layer)\n",
    "\n",
    "bigru_model = Model(sequence_input, output_layer)\n"
   ]
  },
  {
   "cell_type": "markdown",
   "metadata": {},
   "source": [
    "### Compile models"
   ]
  },
  {
   "cell_type": "code",
   "execution_count": 26,
   "metadata": {
    "collapsed": true
   },
   "outputs": [],
   "source": [
    "# YOUR CODE HERE \n",
    "# decide loss function, and optimizer\n",
    "lstm_model.compile(loss='binary_crossentropy', optimizer='adam', metrics=['accuracy'])"
   ]
  },
  {
   "cell_type": "code",
   "execution_count": 27,
   "metadata": {
    "collapsed": true
   },
   "outputs": [],
   "source": [
    "# YOUR CODE HERE \n",
    "# decide loss function, and optimizer\n",
    "gru_model.compile(loss='binary_crossentropy', optimizer='adam', metrics=['accuracy'])"
   ]
  },
  {
   "cell_type": "code",
   "execution_count": 28,
   "metadata": {
    "collapsed": true
   },
   "outputs": [],
   "source": [
    "# YOUR CODE HERE \n",
    "# decide loss function, and optimizer\n",
    "bilstm_model.compile(loss='binary_crossentropy', optimizer='adam', metrics=['accuracy'])"
   ]
  },
  {
   "cell_type": "code",
   "execution_count": 29,
   "metadata": {
    "collapsed": true
   },
   "outputs": [],
   "source": [
    "# YOUR CODE HERE \n",
    "# decide loss function, and optimizer\n",
    "bigru_model.compile(loss='binary_crossentropy', optimizer='adam', metrics=['accuracy'])"
   ]
  },
  {
   "cell_type": "markdown",
   "metadata": {},
   "source": [
    "### Train models"
   ]
  },
  {
   "cell_type": "code",
   "execution_count": 30,
   "metadata": {},
   "outputs": [
    {
     "name": "stdout",
     "output_type": "stream",
     "text": [
      "Train on 10000 samples, validate on 2000 samples\n",
      "Epoch 1/10\n",
      "10000/10000 [==============================] - 117s 12ms/step - loss: 0.6095 - acc: 0.6722 - val_loss: 0.4969 - val_acc: 0.7730\n",
      "Epoch 2/10\n",
      "10000/10000 [==============================] - 123s 12ms/step - loss: 0.3596 - acc: 0.8658 - val_loss: 1.1472 - val_acc: 0.5865\n",
      "Epoch 3/10\n",
      "10000/10000 [==============================] - 112s 11ms/step - loss: 0.3704 - acc: 0.8781 - val_loss: 0.3858 - val_acc: 0.8460\n",
      "Epoch 4/10\n",
      "10000/10000 [==============================] - 116s 12ms/step - loss: 0.2279 - acc: 0.9293 - val_loss: 0.4292 - val_acc: 0.8490\n",
      "Epoch 5/10\n",
      "10000/10000 [==============================] - 121s 12ms/step - loss: 0.1601 - acc: 0.9591 - val_loss: 0.3698 - val_acc: 0.8655\n",
      "Epoch 6/10\n",
      "10000/10000 [==============================] - 110s 11ms/step - loss: 0.1485 - acc: 0.9647 - val_loss: 0.3878 - val_acc: 0.8655\n",
      "Epoch 7/10\n",
      "10000/10000 [==============================] - 111s 11ms/step - loss: 0.1106 - acc: 0.9779 - val_loss: 0.4480 - val_acc: 0.8595\n",
      "Epoch 8/10\n",
      "10000/10000 [==============================] - 109s 11ms/step - loss: 0.0949 - acc: 0.9824 - val_loss: 0.5166 - val_acc: 0.8500\n",
      "Epoch 9/10\n",
      "10000/10000 [==============================] - 111s 11ms/step - loss: 0.1034 - acc: 0.9783 - val_loss: 0.4501 - val_acc: 0.8310\n",
      "Epoch 10/10\n",
      "10000/10000 [==============================] - 137s 14ms/step - loss: 0.1576 - acc: 0.9591 - val_loss: 0.4350 - val_acc: 0.8585\n"
     ]
    }
   ],
   "source": [
    "# YOUR CODE HERE \n",
    "# add callback history during the training stage of the model\n",
    "lstm_history = lstm_model.fit(X_train, y_train, validation_data=(X_valid, y_valid), \\\n",
    "               epochs=num_epochs, batch_size=batch_size)"
   ]
  },
  {
   "cell_type": "code",
   "execution_count": 31,
   "metadata": {},
   "outputs": [
    {
     "name": "stdout",
     "output_type": "stream",
     "text": [
      "Train on 10000 samples, validate on 2000 samples\n",
      "Epoch 1/10\n",
      "10000/10000 [==============================] - 108s 11ms/step - loss: 0.6137 - acc: 0.6635 - val_loss: 0.4278 - val_acc: 0.8215\n",
      "Epoch 2/10\n",
      "10000/10000 [==============================] - 115s 12ms/step - loss: 0.3220 - acc: 0.8814 - val_loss: 0.3537 - val_acc: 0.8570\n",
      "Epoch 3/10\n",
      "10000/10000 [==============================] - 105s 11ms/step - loss: 0.2111 - acc: 0.9305 - val_loss: 0.4384 - val_acc: 0.8430\n",
      "Epoch 4/10\n",
      "10000/10000 [==============================] - 101s 10ms/step - loss: 0.1680 - acc: 0.9494 - val_loss: 0.4480 - val_acc: 0.8515\n",
      "Epoch 5/10\n",
      "10000/10000 [==============================] - 100s 10ms/step - loss: 0.1443 - acc: 0.9618 - val_loss: 0.4748 - val_acc: 0.8385\n",
      "Epoch 6/10\n",
      "10000/10000 [==============================] - 103s 10ms/step - loss: 0.1305 - acc: 0.9668 - val_loss: 0.4883 - val_acc: 0.8355\n",
      "Epoch 7/10\n",
      "10000/10000 [==============================] - 109s 11ms/step - loss: 0.1677 - acc: 0.9458 - val_loss: 0.5235 - val_acc: 0.8250\n",
      "Epoch 8/10\n",
      "10000/10000 [==============================] - 93s 9ms/step - loss: 0.1034 - acc: 0.9738 - val_loss: 0.5232 - val_acc: 0.8290\n",
      "Epoch 9/10\n",
      "10000/10000 [==============================] - 106s 11ms/step - loss: 0.0945 - acc: 0.9768 - val_loss: 0.5223 - val_acc: 0.8285\n",
      "Epoch 10/10\n",
      "10000/10000 [==============================] - 114s 11ms/step - loss: 0.1505 - acc: 0.9556 - val_loss: 0.5368 - val_acc: 0.8280\n"
     ]
    }
   ],
   "source": [
    "# YOUR CODE HERE \n",
    "# add callback history during the training stage of the model\n",
    "gru_history = gru_model.fit(X_train, y_train, validation_data=(X_valid, y_valid), \\\n",
    "               epochs=num_epochs, batch_size=batch_size)"
   ]
  },
  {
   "cell_type": "code",
   "execution_count": 32,
   "metadata": {},
   "outputs": [
    {
     "name": "stdout",
     "output_type": "stream",
     "text": [
      "Train on 10000 samples, validate on 2000 samples\n",
      "Epoch 1/10\n",
      "10000/10000 [==============================] - 208s 21ms/step - loss: 0.6357 - acc: 0.6735 - val_loss: 0.4771 - val_acc: 0.8225\n",
      "Epoch 2/10\n",
      "10000/10000 [==============================] - 176s 18ms/step - loss: 0.3935 - acc: 0.8502 - val_loss: 0.3918 - val_acc: 0.8475\n",
      "Epoch 3/10\n",
      "10000/10000 [==============================] - 161s 16ms/step - loss: 0.2947 - acc: 0.8989 - val_loss: 0.3847 - val_acc: 0.8510\n",
      "Epoch 4/10\n",
      "10000/10000 [==============================] - 161s 16ms/step - loss: 0.2040 - acc: 0.9403 - val_loss: 0.3712 - val_acc: 0.8685\n",
      "Epoch 5/10\n",
      "10000/10000 [==============================] - 162s 16ms/step - loss: 0.1460 - acc: 0.9656 - val_loss: 0.4033 - val_acc: 0.8635\n",
      "Epoch 6/10\n",
      "10000/10000 [==============================] - 161s 16ms/step - loss: 0.1902 - acc: 0.9444 - val_loss: 0.4284 - val_acc: 0.8585\n",
      "Epoch 7/10\n",
      "10000/10000 [==============================] - 173s 17ms/step - loss: 0.1065 - acc: 0.9797 - val_loss: 0.4636 - val_acc: 0.8565\n",
      "Epoch 8/10\n",
      "10000/10000 [==============================] - 172s 17ms/step - loss: 0.0834 - acc: 0.9863 - val_loss: 0.5908 - val_acc: 0.8420\n",
      "Epoch 9/10\n",
      "10000/10000 [==============================] - 158s 16ms/step - loss: 0.0725 - acc: 0.9900 - val_loss: 0.4856 - val_acc: 0.8535\n",
      "Epoch 10/10\n",
      "10000/10000 [==============================] - 181s 18ms/step - loss: 0.0690 - acc: 0.9900 - val_loss: 0.4565 - val_acc: 0.8530\n"
     ]
    }
   ],
   "source": [
    "# YOUR CODE HERE \n",
    "# add callback history during the training stage of the model\n",
    "bilstm_history = bilstm_model.fit(X_train, y_train, validation_data=(X_valid, y_valid), \\\n",
    "               epochs=num_epochs, batch_size=batch_size)"
   ]
  },
  {
   "cell_type": "code",
   "execution_count": 33,
   "metadata": {},
   "outputs": [
    {
     "name": "stdout",
     "output_type": "stream",
     "text": [
      "Train on 10000 samples, validate on 2000 samples\n",
      "Epoch 1/10\n",
      "10000/10000 [==============================] - 66256s 7s/step - loss: 0.6599 - acc: 0.6218 - val_loss: 0.5114 - val_acc: 0.7795\n",
      "Epoch 2/10\n",
      "10000/10000 [==============================] - 217s 22ms/step - loss: 0.3586 - acc: 0.8529 - val_loss: 0.3739 - val_acc: 0.8495\n",
      "Epoch 3/10\n",
      "10000/10000 [==============================] - 169s 17ms/step - loss: 0.2493 - acc: 0.9123 - val_loss: 0.3945 - val_acc: 0.8430\n",
      "Epoch 4/10\n",
      "10000/10000 [==============================] - 174s 17ms/step - loss: 0.1802 - acc: 0.9440 - val_loss: 0.4126 - val_acc: 0.8340\n",
      "Epoch 5/10\n",
      "10000/10000 [==============================] - 181s 18ms/step - loss: 0.1422 - acc: 0.9585 - val_loss: 0.4575 - val_acc: 0.8280\n",
      "Epoch 6/10\n",
      "10000/10000 [==============================] - 199s 20ms/step - loss: 0.1200 - acc: 0.9686 - val_loss: 0.4865 - val_acc: 0.8325\n",
      "Epoch 7/10\n",
      "10000/10000 [==============================] - 172s 17ms/step - loss: 0.1150 - acc: 0.9721 - val_loss: 0.4699 - val_acc: 0.8295\n",
      "Epoch 8/10\n",
      "10000/10000 [==============================] - 152s 15ms/step - loss: 0.0968 - acc: 0.9760 - val_loss: 0.6010 - val_acc: 0.8295\n",
      "Epoch 9/10\n",
      "10000/10000 [==============================] - 132s 13ms/step - loss: 0.0967 - acc: 0.9763 - val_loss: 0.5724 - val_acc: 0.8275\n",
      "Epoch 10/10\n",
      "10000/10000 [==============================] - 130s 13ms/step - loss: 0.0750 - acc: 0.9848 - val_loss: 0.6375 - val_acc: 0.8170\n"
     ]
    }
   ],
   "source": [
    "# YOUR CODE HERE \n",
    "# add callback history during the training stage of the model\n",
    "bigru_history = bigru_model.fit(X_train, y_train, validation_data=(X_valid, y_valid), \\\n",
    "               epochs=num_epochs, batch_size=batch_size)"
   ]
  },
  {
   "cell_type": "markdown",
   "metadata": {},
   "source": [
    "### Save models and weight parameters"
   ]
  },
  {
   "cell_type": "code",
   "execution_count": 34,
   "metadata": {
    "collapsed": true
   },
   "outputs": [],
   "source": [
    "# Save model\n",
    "lstm_model.save('lstm_model.h5')\n",
    "# Save trained weight parameters\n",
    "lstm_model.save_weights('weights_lstm_model.hdf5')"
   ]
  },
  {
   "cell_type": "code",
   "execution_count": 35,
   "metadata": {
    "collapsed": true
   },
   "outputs": [],
   "source": [
    "# Save model\n",
    "gru_model.save('gru_model.h5')\n",
    "# Save trained weight parameters\n",
    "gru_model.save_weights('weights_gru_model.hdf5')"
   ]
  },
  {
   "cell_type": "code",
   "execution_count": 36,
   "metadata": {
    "collapsed": true
   },
   "outputs": [],
   "source": [
    "# Save model\n",
    "bilstm_model.save('bilstm_model.h5')\n",
    "# Save trained weight parameters\n",
    "bilstm_model.save_weights('weights_bilstm_model.hdf5')"
   ]
  },
  {
   "cell_type": "code",
   "execution_count": 37,
   "metadata": {
    "collapsed": true
   },
   "outputs": [],
   "source": [
    "# Save model\n",
    "bigru_model.save('bigru_model.h5')\n",
    "# Save trained weight parameters\n",
    "bigru_model.save_weights('weights_bigru_model.hdf5')"
   ]
  },
  {
   "cell_type": "markdown",
   "metadata": {},
   "source": [
    "#### Plot model performance (loss, accuracy)"
   ]
  },
  {
   "cell_type": "markdown",
   "metadata": {},
   "source": [
    "Present two (2) plots for each model "
   ]
  },
  {
   "cell_type": "code",
   "execution_count": 38,
   "metadata": {},
   "outputs": [
    {
     "data": {
      "image/png": "[encoded data removed]",
      "text/plain": [
       "<matplotlib.figure.Figure at 0x13201c710>"
      ]
     },
     "metadata": {},
     "output_type": "display_data"
    }
   ],
   "source": [
    "import matplotlib.pyplot as plt\n",
    "%matplotlib inline\n",
    "\n",
    "plt.figure(figsize=(10,10))\n",
    "\n",
    "ax = plt.subplot2grid((2, 2), (0, 0))\n",
    "plt.plot(lstm_history.history['acc'])\n",
    "plt.plot(lstm_history.history['val_acc'])\n",
    "plt.title('LSTM accuracy')\n",
    "plt.ylabel('accuracy')\n",
    "plt.xlabel('epoch')\n",
    "plt.legend(['train', 'test'], loc='center right')\n",
    "\n",
    "ax2 = plt.subplot2grid((2, 2), (1, 0))\n",
    "plt.plot(lstm_history.history['loss'])\n",
    "plt.plot(lstm_history.history['val_loss'])\n",
    "plt.title('LSTM loss')\n",
    "plt.ylabel('loss')\n",
    "plt.xlabel('epoch')\n",
    "plt.legend(['train', 'test'], loc='center right')\n",
    "\n",
    "ax3 = plt.subplot2grid((2, 2), (0, 1))\n",
    "plt.plot(bilstm_history.history['acc'])\n",
    "plt.plot(bilstm_history.history['val_acc'])\n",
    "plt.title('BiLSTM accuracy')\n",
    "plt.ylabel('accuracy')\n",
    "plt.xlabel('epoch')\n",
    "plt.legend(['train', 'test'], loc='center right')\n",
    "\n",
    "ax4 = plt.subplot2grid((2, 2), (1, 1))\n",
    "plt.plot(bilstm_history.history['loss'])\n",
    "plt.plot(bilstm_history.history['val_loss'])\n",
    "plt.title('BiLSTM loss')\n",
    "plt.ylabel('loss')\n",
    "plt.xlabel('epoch')\n",
    "plt.legend(['train', 'test'], loc='center right')\n",
    "\n",
    "plt.show()\n"
   ]
  },
  {
   "cell_type": "code",
   "execution_count": 39,
   "metadata": {},
   "outputs": [
    {
     "data": {
      "image/png": "[encoded data removed]",
      "text/plain": [
       "<matplotlib.figure.Figure at 0x12dc142e8>"
      ]
     },
     "metadata": {},
     "output_type": "display_data"
    }
   ],
   "source": [
    "plt.figure(figsize=(10,10))\n",
    "\n",
    "ax = plt.subplot2grid((2, 2), (0, 0))\n",
    "plt.plot(gru_history.history['acc'])\n",
    "plt.plot(gru_history.history['val_acc'])\n",
    "plt.title('GRU accuracy')\n",
    "plt.ylabel('accuracy')\n",
    "plt.xlabel('epoch')\n",
    "plt.legend(['train', 'test'], loc='center right')\n",
    "\n",
    "ax2 = plt.subplot2grid((2, 2), (1, 0))\n",
    "plt.plot(gru_history.history['loss'])\n",
    "plt.plot(gru_history.history['val_loss'])\n",
    "plt.title('GRU loss')\n",
    "plt.ylabel('loss')\n",
    "plt.xlabel('epoch')\n",
    "plt.legend(['train', 'test'], loc='center right')\n",
    "\n",
    "ax3 = plt.subplot2grid((2, 2), (0, 1))\n",
    "plt.plot(bigru_history.history['acc'])\n",
    "plt.plot(bigru_history.history['val_acc'])\n",
    "plt.title('BiGRU accuracy')\n",
    "plt.ylabel('accuracy')\n",
    "plt.xlabel('epoch')\n",
    "plt.legend(['train', 'test'], loc='center right')\n",
    "\n",
    "ax4 = plt.subplot2grid((2, 2), (1, 1))\n",
    "plt.plot(bigru_history.history['loss'])\n",
    "plt.plot(bigru_history.history['val_loss'])\n",
    "plt.title('BiGRU loss')\n",
    "plt.ylabel('loss')\n",
    "plt.xlabel('epoch')\n",
    "plt.legend(['train', 'test'], loc='center right')\n",
    "\n",
    "plt.show()"
   ]
  },
  {
   "cell_type": "code",
   "execution_count": 40,
   "metadata": {},
   "outputs": [
    {
     "name": "stdout",
     "output_type": "stream",
     "text": [
      "(10000, 500) (10000,)\n"
     ]
    }
   ],
   "source": [
    "#Validate all models on unseen set.\n",
    "X_valid = np.load(os.path.join(DATA_PATH,'X_valid_word.npy'))\n",
    "y_valid = np.load(os.path.join(DATA_PATH,'y_valid_word.npy'))\n",
    "\n",
    "X_valid = X_valid[2000:12000]\n",
    "y_valid = y_valid[2000:12000]\n",
    "\n",
    "print(X_valid.shape, y_valid.shape)"
   ]
  },
  {
   "cell_type": "code",
   "execution_count": 41,
   "metadata": {},
   "outputs": [
    {
     "name": "stdout",
     "output_type": "stream",
     "text": [
      "10000/10000 [==============================] - 57s 6ms/step\n",
      "10000/10000 [==============================] - 57s 6ms/step\n",
      "10000/10000 [==============================] - 39s 4ms/step\n",
      "10000/10000 [==============================] - 46s 5ms/step\n"
     ]
    }
   ],
   "source": [
    "evaluate_lstm = lstm_model.evaluate(x=X_valid, y=y_valid, batch_size=None, verbose=1, sample_weight=None, steps=None)\n",
    "\n",
    "evaluate_bilstm = bilstm_model.evaluate(x=X_valid, y=y_valid, batch_size=None, verbose=1, sample_weight=None, steps=None)\n",
    "\n",
    "evaluate_gru = gru_model.evaluate(x=X_valid, y=y_valid, batch_size=None, verbose=1, sample_weight=None, steps=None)\n",
    "\n",
    "evaluate_bigru = bigru_model.evaluate(x=X_valid, y=y_valid, batch_size=None, verbose=1, sample_weight=None, steps=None)"
   ]
  },
  {
   "cell_type": "code",
   "execution_count": 42,
   "metadata": {},
   "outputs": [
    {
     "name": "stdout",
     "output_type": "stream",
     "text": [
      "['loss', 'acc']\n",
      "[0.4889523887872696, 0.8396]\n",
      "[0.47154123816490173, 0.8499]\n",
      "[0.5295522632956505, 0.8358]\n",
      "[0.6632716488599777, 0.8029]\n"
     ]
    }
   ],
   "source": [
    "print(lstm_model.metrics_names)\n",
    "print(evaluate_lstm)\n",
    "print(evaluate_bilstm)\n",
    "print(evaluate_gru)\n",
    "print(evaluate_bigru)"
   ]
  },
  {
   "cell_type": "markdown",
   "metadata": {},
   "source": [
    "#### Present table comparison of model performance\n",
    "\n",
    "#### Answer:\n",
    "\n",
    "=== write your answer here ===\n",
    "\n",
    "(can also be presented as figure of table)"
   ]
  },
  {
   "cell_type": "markdown",
   "metadata": {},
   "source": [
    "### 3. Feature extraction"
   ]
  },
  {
   "cell_type": "markdown",
   "metadata": {},
   "source": [
    "#### Tasks: \n",
    "\n",
    "* Choose one model with the best performance and use the model to produce ”neural codes” (document embedding) of raw text (5000 instances of unseen validation set) from RNN layer.\n",
    "*  Use tSNE to reduce the dimension of extracted text features (encoded version of 5000 documents) into two (2) dimensions and visualize it towards their sentiment labels.\n"
   ]
  },
  {
   "cell_type": "code",
   "execution_count": 27,
   "metadata": {},
   "outputs": [
    {
     "ename": "ValueError",
     "evalue": "Invalid file name (Invalid file name)",
     "output_type": "error",
     "traceback": [
      "\u001b[0;31m---------------------------------------------------------------------------\u001b[0m",
      "\u001b[0;31mValueError\u001b[0m                                Traceback (most recent call last)",
      "\u001b[0;32m<ipython-input-27-dfc2aa69c463>\u001b[0m in \u001b[0;36m<module>\u001b[0;34m()\u001b[0m\n\u001b[1;32m      5\u001b[0m \u001b[0;31m# choose the best model\u001b[0m\u001b[0;34m\u001b[0m\u001b[0;34m\u001b[0m\u001b[0m\n\u001b[1;32m      6\u001b[0m \u001b[0;34m\u001b[0m\u001b[0m\n\u001b[0;32m----> 7\u001b[0;31m \u001b[0mmodel\u001b[0m \u001b[0;34m=\u001b[0m \u001b[0mload_model\u001b[0m\u001b[0;34m(\u001b[0m\u001b[0;34m''\u001b[0m\u001b[0;34m)\u001b[0m\u001b[0;34m\u001b[0m\u001b[0m\n\u001b[0m\u001b[1;32m      8\u001b[0m \u001b[0mmodel\u001b[0m\u001b[0;34m.\u001b[0m\u001b[0mload_weights\u001b[0m\u001b[0;34m(\u001b[0m\u001b[0;34m''\u001b[0m\u001b[0;34m)\u001b[0m\u001b[0;34m\u001b[0m\u001b[0m\n",
      "\u001b[0;32m/Users/daphne/anaconda/lib/python3.6/site-packages/keras/models.py\u001b[0m in \u001b[0;36mload_model\u001b[0;34m(filepath, custom_objects, compile)\u001b[0m\n\u001b[1;32m    235\u001b[0m             \u001b[0;32mreturn\u001b[0m \u001b[0mcustom_objects\u001b[0m\u001b[0;34m[\u001b[0m\u001b[0mobj\u001b[0m\u001b[0;34m]\u001b[0m\u001b[0;34m\u001b[0m\u001b[0m\n\u001b[1;32m    236\u001b[0m         \u001b[0;32mreturn\u001b[0m \u001b[0mobj\u001b[0m\u001b[0;34m\u001b[0m\u001b[0m\n\u001b[0;32m--> 237\u001b[0;31m     \u001b[0;32mwith\u001b[0m \u001b[0mh5py\u001b[0m\u001b[0;34m.\u001b[0m\u001b[0mFile\u001b[0m\u001b[0;34m(\u001b[0m\u001b[0mfilepath\u001b[0m\u001b[0;34m,\u001b[0m \u001b[0mmode\u001b[0m\u001b[0;34m=\u001b[0m\u001b[0;34m'r'\u001b[0m\u001b[0;34m)\u001b[0m \u001b[0;32mas\u001b[0m \u001b[0mf\u001b[0m\u001b[0;34m:\u001b[0m\u001b[0;34m\u001b[0m\u001b[0m\n\u001b[0m\u001b[1;32m    238\u001b[0m         \u001b[0;31m# instantiate model\u001b[0m\u001b[0;34m\u001b[0m\u001b[0;34m\u001b[0m\u001b[0m\n\u001b[1;32m    239\u001b[0m         \u001b[0mmodel_config\u001b[0m \u001b[0;34m=\u001b[0m \u001b[0mf\u001b[0m\u001b[0;34m.\u001b[0m\u001b[0mattrs\u001b[0m\u001b[0;34m.\u001b[0m\u001b[0mget\u001b[0m\u001b[0;34m(\u001b[0m\u001b[0;34m'model_config'\u001b[0m\u001b[0;34m)\u001b[0m\u001b[0;34m\u001b[0m\u001b[0m\n",
      "\u001b[0;32m/Users/daphne/anaconda/lib/python3.6/site-packages/h5py/_hl/files.py\u001b[0m in \u001b[0;36m__init__\u001b[0;34m(self, name, mode, driver, libver, userblock_size, swmr, **kwds)\u001b[0m\n\u001b[1;32m    269\u001b[0m \u001b[0;34m\u001b[0m\u001b[0m\n\u001b[1;32m    270\u001b[0m                 \u001b[0mfapl\u001b[0m \u001b[0;34m=\u001b[0m \u001b[0mmake_fapl\u001b[0m\u001b[0;34m(\u001b[0m\u001b[0mdriver\u001b[0m\u001b[0;34m,\u001b[0m \u001b[0mlibver\u001b[0m\u001b[0;34m,\u001b[0m \u001b[0;34m**\u001b[0m\u001b[0mkwds\u001b[0m\u001b[0;34m)\u001b[0m\u001b[0;34m\u001b[0m\u001b[0m\n\u001b[0;32m--> 271\u001b[0;31m                 \u001b[0mfid\u001b[0m \u001b[0;34m=\u001b[0m \u001b[0mmake_fid\u001b[0m\u001b[0;34m(\u001b[0m\u001b[0mname\u001b[0m\u001b[0;34m,\u001b[0m \u001b[0mmode\u001b[0m\u001b[0;34m,\u001b[0m \u001b[0muserblock_size\u001b[0m\u001b[0;34m,\u001b[0m \u001b[0mfapl\u001b[0m\u001b[0;34m,\u001b[0m \u001b[0mswmr\u001b[0m\u001b[0;34m=\u001b[0m\u001b[0mswmr\u001b[0m\u001b[0;34m)\u001b[0m\u001b[0;34m\u001b[0m\u001b[0m\n\u001b[0m\u001b[1;32m    272\u001b[0m \u001b[0;34m\u001b[0m\u001b[0m\n\u001b[1;32m    273\u001b[0m                 \u001b[0;32mif\u001b[0m \u001b[0mswmr_support\u001b[0m\u001b[0;34m:\u001b[0m\u001b[0;34m\u001b[0m\u001b[0m\n",
      "\u001b[0;32m/Users/daphne/anaconda/lib/python3.6/site-packages/h5py/_hl/files.py\u001b[0m in \u001b[0;36mmake_fid\u001b[0;34m(name, mode, userblock_size, fapl, fcpl, swmr)\u001b[0m\n\u001b[1;32m     99\u001b[0m         \u001b[0;32mif\u001b[0m \u001b[0mswmr\u001b[0m \u001b[0;32mand\u001b[0m \u001b[0mswmr_support\u001b[0m\u001b[0;34m:\u001b[0m\u001b[0;34m\u001b[0m\u001b[0m\n\u001b[1;32m    100\u001b[0m             \u001b[0mflags\u001b[0m \u001b[0;34m|=\u001b[0m \u001b[0mh5f\u001b[0m\u001b[0;34m.\u001b[0m\u001b[0mACC_SWMR_READ\u001b[0m\u001b[0;34m\u001b[0m\u001b[0m\n\u001b[0;32m--> 101\u001b[0;31m         \u001b[0mfid\u001b[0m \u001b[0;34m=\u001b[0m \u001b[0mh5f\u001b[0m\u001b[0;34m.\u001b[0m\u001b[0mopen\u001b[0m\u001b[0;34m(\u001b[0m\u001b[0mname\u001b[0m\u001b[0;34m,\u001b[0m \u001b[0mflags\u001b[0m\u001b[0;34m,\u001b[0m \u001b[0mfapl\u001b[0m\u001b[0;34m=\u001b[0m\u001b[0mfapl\u001b[0m\u001b[0;34m)\u001b[0m\u001b[0;34m\u001b[0m\u001b[0m\n\u001b[0m\u001b[1;32m    102\u001b[0m     \u001b[0;32melif\u001b[0m \u001b[0mmode\u001b[0m \u001b[0;34m==\u001b[0m \u001b[0;34m'r+'\u001b[0m\u001b[0;34m:\u001b[0m\u001b[0;34m\u001b[0m\u001b[0m\n\u001b[1;32m    103\u001b[0m         \u001b[0mfid\u001b[0m \u001b[0;34m=\u001b[0m \u001b[0mh5f\u001b[0m\u001b[0;34m.\u001b[0m\u001b[0mopen\u001b[0m\u001b[0;34m(\u001b[0m\u001b[0mname\u001b[0m\u001b[0;34m,\u001b[0m \u001b[0mh5f\u001b[0m\u001b[0;34m.\u001b[0m\u001b[0mACC_RDWR\u001b[0m\u001b[0;34m,\u001b[0m \u001b[0mfapl\u001b[0m\u001b[0;34m=\u001b[0m\u001b[0mfapl\u001b[0m\u001b[0;34m)\u001b[0m\u001b[0;34m\u001b[0m\u001b[0m\n",
      "\u001b[0;32mh5py/_objects.pyx\u001b[0m in \u001b[0;36mh5py._objects.with_phil.wrapper (/Users/ilan/minonda/conda-bld/h5py_1490026758621/work/h5py/_objects.c:2846)\u001b[0;34m()\u001b[0m\n",
      "\u001b[0;32mh5py/_objects.pyx\u001b[0m in \u001b[0;36mh5py._objects.with_phil.wrapper (/Users/ilan/minonda/conda-bld/h5py_1490026758621/work/h5py/_objects.c:2804)\u001b[0;34m()\u001b[0m\n",
      "\u001b[0;32mh5py/h5f.pyx\u001b[0m in \u001b[0;36mh5py.h5f.open (/Users/ilan/minonda/conda-bld/h5py_1490026758621/work/h5py/h5f.c:2123)\u001b[0;34m()\u001b[0m\n",
      "\u001b[0;31mValueError\u001b[0m: Invalid file name (Invalid file name)"
     ]
    }
   ],
   "source": [
    "# load the trained model\n",
    "from keras.models import load_model\n",
    "\n",
    "# YOUR CODE HERE\n",
    "# choose the best model\n",
    "\n",
    "model = load_model('')\n",
    "model.load_weights('')"
   ]
  },
  {
   "cell_type": "markdown",
   "metadata": {},
   "source": [
    "#### Produce Neural codes of text reviews"
   ]
  },
  {
   "cell_type": "code",
   "execution_count": null,
   "metadata": {
    "collapsed": true
   },
   "outputs": [],
   "source": [
    "# YOUR CODE HERE\n",
    "\n",
    "# define sub model to retrieve \"neural codes\" (document embedding) from recurrent layer\n",
    "encoder_model =\n",
    "\n",
    "# generate \"neural codes\" (document embedding) from the model\n",
    "doc_embedding ="
   ]
  },
  {
   "cell_type": "markdown",
   "metadata": {},
   "source": [
    "#### tSNE visualization"
   ]
  },
  {
   "cell_type": "code",
   "execution_count": null,
   "metadata": {
    "collapsed": true
   },
   "outputs": [],
   "source": [
    "# YOUR CODE HERE\n",
    "\n",
    "# use tSNE to plot document embedding on its sentiment label"
   ]
  },
  {
   "cell_type": "markdown",
   "metadata": {},
   "source": [
    "### 4. One shot learning on multi-class classification"
   ]
  },
  {
   "cell_type": "markdown",
   "metadata": {},
   "source": [
    "#### Tasks: \n",
    "\n",
    "* Use the RNN model that has been trained on binary classification task to extract features from different data set (Amazon product reviews)\n",
    "* Define and implement an approach to assign labels on unlabelled set of reviews, by using the concept of \"one shot learning\"\n",
    "* Compute accuracy, given ground truth labels\n",
    "* Discuss the results "
   ]
  },
  {
   "cell_type": "markdown",
   "metadata": {},
   "source": [
    "Explain how the approach works.\n",
    "\n",
    "\n",
    "#### Answer:\n",
    "\n",
    "=== write your answer here ==="
   ]
  },
  {
   "cell_type": "code",
   "execution_count": null,
   "metadata": {
    "collapsed": true
   },
   "outputs": [],
   "source": [
    "# YOUR CODE HERE\n",
    "\n",
    "# one shot learning task\n",
    "\n",
    "\n",
    "# compute overall accuracy, given ground truth labels\n",
    "accuracy = "
   ]
  },
  {
   "cell_type": "markdown",
   "metadata": {},
   "source": [
    "Discuss the result. Why it works -- or why it does not work.\n",
    "\n",
    "#### Answer:\n",
    "\n",
    "=== write your answer here ==="
   ]
  }
 ],
 "metadata": {
  "kernelspec": {
   "display_name": "Python 3",
   "language": "python",
   "name": "python3"
  },
  "language_info": {
   "codemirror_mode": {
    "name": "ipython",
    "version": 3
   },
   "file_extension": ".py",
   "mimetype": "text/x-python",
   "name": "python",
   "nbconvert_exporter": "python",
   "pygments_lexer": "ipython3",
   "version": "3.6.1"
  }
 },
 "nbformat": 4,
 "nbformat_minor": 2
}
