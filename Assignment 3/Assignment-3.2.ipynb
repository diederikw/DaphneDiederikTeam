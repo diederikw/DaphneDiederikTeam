{
 "cells": [
  {
   "cell_type": "markdown",
   "metadata": {},
   "source": [
    "# Assignment 3.2"
   ]
  },
  {
   "cell_type": "markdown",
   "metadata": {},
   "source": [
    "# Sequence classification model"
   ]
  },
  {
   "cell_type": "code",
   "execution_count": 1,
   "metadata": {
    "collapsed": true
   },
   "outputs": [],
   "source": [
    "from __future__ import print_function"
   ]
  },
  {
   "cell_type": "markdown",
   "metadata": {},
   "source": [
    "## 1. Preprocess data"
   ]
  },
  {
   "cell_type": "markdown",
   "metadata": {},
   "source": [
    "#### Tasks:\n",
    "\n",
    "* Create word vocabulary index (use 10.000 most frequent words)\n",
    "* Preprocess training and validation set for model input. Use vocabulary index as lookup dictionary to transform raw text into integer sequences. You may use code from Practical 5."
   ]
  },
  {
   "cell_type": "code",
   "execution_count": 2,
   "metadata": {},
   "outputs": [
    {
     "name": "stderr",
     "output_type": "stream",
     "text": [
      "/Users/daphne/anaconda/lib/python3.6/site-packages/h5py/__init__.py:34: FutureWarning: Conversion of the second argument of issubdtype from `float` to `np.floating` is deprecated. In future, it will be treated as `np.float64 == np.dtype(float).type`.\n",
      "  from ._conv import register_converters as _register_converters\n",
      "Using TensorFlow backend.\n"
     ]
    }
   ],
   "source": [
    "import os\n",
    "import sys\n",
    "import numpy as np\n",
    "import pandas as pd\n",
    "import re\n",
    "import nltk\n",
    "\n",
    "from keras import regularizers\n",
    "\n",
    "DATA_PATH = 'data'\n",
    "EMBEDDING_PATH = 'embedding'\n",
    "MODEL_PATH = 'model'"
   ]
  },
  {
   "cell_type": "code",
   "execution_count": 3,
   "metadata": {
    "collapsed": true
   },
   "outputs": [],
   "source": [
    "# YOUR CODE HERE \n",
    "\n",
    "# provide model inputs (sequences from training and validation set) and outputs (sentiment labels)\n",
    "X_train = np.load(os.path.join(DATA_PATH,'X_train_word.npy'))\n",
    "y_train = np.load(os.path.join(DATA_PATH,'y_train_word.npy'))\n",
    "\n",
    "X_valid = np.load(os.path.join(DATA_PATH,'X_valid_word.npy'))\n",
    "y_valid = np.load(os.path.join(DATA_PATH,'y_valid_word.npy'))"
   ]
  },
  {
   "cell_type": "code",
   "execution_count": 4,
   "metadata": {},
   "outputs": [
    {
     "name": "stdout",
     "output_type": "stream",
     "text": [
      "(10000, 500) (10000,) (2000, 500) (2000,)\n"
     ]
    }
   ],
   "source": [
    "# here we only use smaller set to train our model \n",
    "# original set consists of 25.000 reviews\n",
    "\n",
    "X_train = X_train[:10000]\n",
    "y_train = y_train[:10000]\n",
    "\n",
    "X_valid = X_valid[0:2000]\n",
    "y_valid = y_valid[0:2000]\n",
    "\n",
    "print(X_train.shape, y_train.shape, X_valid.shape, y_valid.shape)"
   ]
  },
  {
   "cell_type": "markdown",
   "metadata": {},
   "source": [
    "## 2. Sequence classification model"
   ]
  },
  {
   "cell_type": "markdown",
   "metadata": {},
   "source": [
    "#### Tasks: \n",
    "\n",
    "* Create a RNN model to classify sequence of words on a binary classification task\n",
    "* Compare four (4) different gate memory units\n",
    "* Plot model performance (loss and accuracy) of these 4 models\n",
    "* Present the performance (loss and accuarcy) of these 4 models in a comparison table"
   ]
  },
  {
   "cell_type": "code",
   "execution_count": 5,
   "metadata": {
    "collapsed": true
   },
   "outputs": [],
   "source": [
    "# YOUR CODE HERE \n",
    "\n",
    "# decide number of epochs and batch_size\n",
    "vocab_size = 10003\n",
    "sentence_length = len(X_train[0])\n",
    "batch_size = 128\n",
    "num_epochs = 10\n",
    "\n",
    "from keras.layers import Embedding, Input, LSTM, Dense, GRU, Bidirectional\n",
    "from keras.models import Model"
   ]
  },
  {
   "cell_type": "markdown",
   "metadata": {},
   "source": [
    "### Model 1 : LSTM"
   ]
  },
  {
   "cell_type": "code",
   "execution_count": 6,
   "metadata": {
    "collapsed": true
   },
   "outputs": [],
   "source": [
    "# YOUR CODE HERE\n",
    "# MODEL-1: LSTM\n",
    "\n",
    "# construct the model\n",
    "sequence_input = Input(shape=(500,), name='input_layer', dtype='int32')\n",
    "embedding_layer = Embedding(vocab_size+1, 64, input_length=500, name='word_embedding')\n",
    "embedded_sequences = embedding_layer(sequence_input)\n",
    "lstm_layer = LSTM(64, name='lstm_layer')(embedded_sequences)\n",
    "output_layer = Dense(1, name='prediction_layer', activation='sigmoid', kernel_regularizer=regularizers.l2(0.01))(lstm_layer)\n",
    "\n",
    "lstm_model = Model(sequence_input, output_layer)"
   ]
  },
  {
   "cell_type": "markdown",
   "metadata": {},
   "source": [
    "### Model 2: GRU"
   ]
  },
  {
   "cell_type": "code",
   "execution_count": 7,
   "metadata": {
    "collapsed": true
   },
   "outputs": [],
   "source": [
    "# YOUR CODE HERE\n",
    "# MODEL-2: GRU\n",
    "\n",
    "# construct the model\n",
    "sequence_input = Input(shape=(500,), name='input_layer', dtype='int32')\n",
    "embedding_layer = Embedding(vocab_size+1, 64, input_length=500, name='word_embedding')\n",
    "embedded_sequences = embedding_layer(sequence_input)\n",
    "GRU_layer = GRU(64, name='gru_layer')(embedded_sequences)\n",
    "output_layer = Dense(1, name='prediction_layer', activation='sigmoid', kernel_regularizer=regularizers.l2(0.01))(GRU_layer)\n",
    "\n",
    "gru_model = Model(sequence_input, output_layer)\n"
   ]
  },
  {
   "cell_type": "markdown",
   "metadata": {},
   "source": [
    "### Model 3 : Bidirectional LSTM"
   ]
  },
  {
   "cell_type": "code",
   "execution_count": 8,
   "metadata": {
    "collapsed": true
   },
   "outputs": [],
   "source": [
    "# YOUR CODE HERE\n",
    "# MODEL-3: Bidirectional LSTM\n",
    "\n",
    "# construct the model\n",
    "sequence_input = Input(shape=(500,), name='input_layer', dtype='int32')\n",
    "embedding_layer = Embedding(vocab_size+1, 64, input_length=500, name='word_embedding')\n",
    "embedded_sequences = embedding_layer(sequence_input)\n",
    "bidirectional_layer = Bidirectional(LSTM(64, name='bi_lstm_layer'))(embedded_sequences)\n",
    "output_layer = Dense(1, name='prediction_layer', activation='sigmoid', kernel_regularizer=regularizers.l2(0.01))(bidirectional_layer)\n",
    "\n",
    "bilstm_model = Model(sequence_input, output_layer)\n"
   ]
  },
  {
   "cell_type": "markdown",
   "metadata": {},
   "source": [
    "### Model 4 : Bidirectional GRU"
   ]
  },
  {
   "cell_type": "code",
   "execution_count": 9,
   "metadata": {
    "collapsed": true
   },
   "outputs": [],
   "source": [
    "# YOUR CODE HERE\n",
    "# MODEL-4: Bidirectional GRU\n",
    "\n",
    "# construct the model\n",
    "sequence_input = Input(shape=(500,), name='input_layer', dtype='int32')\n",
    "embedding_layer = Embedding(vocab_size+1, 64, input_length=500, name='word_embedding')\n",
    "embedded_sequences = embedding_layer(sequence_input)\n",
    "bidirectional_layer = Bidirectional(GRU(64, name='bi_gru_layer'))(embedded_sequences)\n",
    "output_layer = Dense(1, name='prediction_layer', activation='sigmoid', kernel_regularizer=regularizers.l2(0.01))(bidirectional_layer)\n",
    "\n",
    "bigru_model = Model(sequence_input, output_layer)\n"
   ]
  },
  {
   "cell_type": "markdown",
   "metadata": {},
   "source": [
    "### Compile models"
   ]
  },
  {
   "cell_type": "code",
   "execution_count": 10,
   "metadata": {
    "collapsed": true
   },
   "outputs": [],
   "source": [
    "# YOUR CODE HERE \n",
    "# decide loss function, and optimizer\n",
    "lstm_model.compile(loss='binary_crossentropy', optimizer='adam', metrics=['accuracy'])"
   ]
  },
  {
   "cell_type": "code",
   "execution_count": 11,
   "metadata": {
    "collapsed": true
   },
   "outputs": [],
   "source": [
    "# YOUR CODE HERE \n",
    "# decide loss function, and optimizer\n",
    "gru_model.compile(loss='binary_crossentropy', optimizer='adam', metrics=['accuracy'])"
   ]
  },
  {
   "cell_type": "code",
   "execution_count": 12,
   "metadata": {
    "collapsed": true
   },
   "outputs": [],
   "source": [
    "# YOUR CODE HERE \n",
    "# decide loss function, and optimizer\n",
    "bilstm_model.compile(loss='binary_crossentropy', optimizer='adam', metrics=['accuracy'])"
   ]
  },
  {
   "cell_type": "code",
   "execution_count": 13,
   "metadata": {
    "collapsed": true
   },
   "outputs": [],
   "source": [
    "# YOUR CODE HERE \n",
    "# decide loss function, and optimizer\n",
    "bigru_model.compile(loss='binary_crossentropy', optimizer='adam', metrics=['accuracy'])"
   ]
  },
  {
   "cell_type": "markdown",
   "metadata": {},
   "source": [
    "### Train models"
   ]
  },
  {
   "cell_type": "code",
   "execution_count": 14,
   "metadata": {},
   "outputs": [
    {
     "name": "stdout",
     "output_type": "stream",
     "text": [
      "Train on 10000 samples, validate on 2000 samples\n",
      "Epoch 1/10\n",
      "10000/10000 [==============================] - 117s 12ms/step - loss: 0.6936 - acc: 0.5943 - val_loss: 0.6472 - val_acc: 0.7105\n",
      "Epoch 2/10\n",
      "10000/10000 [==============================] - 110s 11ms/step - loss: 0.4911 - acc: 0.8029 - val_loss: 0.4269 - val_acc: 0.8250\n",
      "Epoch 3/10\n",
      "10000/10000 [==============================] - 111s 11ms/step - loss: 0.3395 - acc: 0.8706 - val_loss: 0.4182 - val_acc: 0.8270\n",
      "Epoch 4/10\n",
      "10000/10000 [==============================] - 116s 12ms/step - loss: 0.2475 - acc: 0.9214 - val_loss: 0.4398 - val_acc: 0.8320\n",
      "Epoch 5/10\n",
      "10000/10000 [==============================] - 110s 11ms/step - loss: 0.1943 - acc: 0.9442 - val_loss: 0.4482 - val_acc: 0.8210\n",
      "Epoch 6/10\n",
      "10000/10000 [==============================] - 110s 11ms/step - loss: 0.1958 - acc: 0.9438 - val_loss: 0.4863 - val_acc: 0.8345\n",
      "Epoch 7/10\n",
      "10000/10000 [==============================] - 112s 11ms/step - loss: 0.1528 - acc: 0.9598 - val_loss: 0.4763 - val_acc: 0.8365\n",
      "Epoch 8/10\n",
      "10000/10000 [==============================] - 121s 12ms/step - loss: 0.1151 - acc: 0.9758 - val_loss: 0.4977 - val_acc: 0.8340\n",
      "Epoch 9/10\n",
      "10000/10000 [==============================] - 114s 11ms/step - loss: 0.0964 - acc: 0.9831 - val_loss: 0.5355 - val_acc: 0.8265\n",
      "Epoch 10/10\n",
      "10000/10000 [==============================] - 111s 11ms/step - loss: 0.0796 - acc: 0.9882 - val_loss: 0.5234 - val_acc: 0.8300\n"
     ]
    }
   ],
   "source": [
    "# YOUR CODE HERE \n",
    "# add callback history during the training stage of the model\n",
    "lstm_history = lstm_model.fit(X_train, y_train, validation_data=(X_valid, y_valid), \\\n",
    "               epochs=num_epochs, batch_size=batch_size)"
   ]
  },
  {
   "cell_type": "code",
   "execution_count": 15,
   "metadata": {},
   "outputs": [
    {
     "name": "stdout",
     "output_type": "stream",
     "text": [
      "Train on 10000 samples, validate on 2000 samples\n",
      "Epoch 1/10\n",
      "10000/10000 [==============================] - 93s 9ms/step - loss: 0.6450 - acc: 0.6456 - val_loss: 0.4829 - val_acc: 0.7850\n",
      "Epoch 2/10\n",
      "10000/10000 [==============================] - 91s 9ms/step - loss: 0.3353 - acc: 0.8666 - val_loss: 0.3618 - val_acc: 0.8470\n",
      "Epoch 3/10\n",
      "10000/10000 [==============================] - 91s 9ms/step - loss: 0.2089 - acc: 0.9301 - val_loss: 0.3802 - val_acc: 0.8570\n",
      "Epoch 4/10\n",
      "10000/10000 [==============================] - 91s 9ms/step - loss: 0.1530 - acc: 0.9569 - val_loss: 0.4233 - val_acc: 0.8340\n",
      "Epoch 5/10\n",
      "10000/10000 [==============================] - 90s 9ms/step - loss: 0.1290 - acc: 0.9658 - val_loss: 0.4408 - val_acc: 0.8220\n",
      "Epoch 6/10\n",
      "10000/10000 [==============================] - 90s 9ms/step - loss: 0.1427 - acc: 0.9562 - val_loss: 0.4927 - val_acc: 0.8405\n",
      "Epoch 7/10\n",
      "10000/10000 [==============================] - 99s 10ms/step - loss: 0.0905 - acc: 0.9795 - val_loss: 0.5677 - val_acc: 0.8310\n",
      "Epoch 8/10\n",
      "10000/10000 [==============================] - 97s 10ms/step - loss: 0.0776 - acc: 0.9843 - val_loss: 0.5370 - val_acc: 0.8455\n",
      "Epoch 9/10\n",
      "10000/10000 [==============================] - 91s 9ms/step - loss: 0.0830 - acc: 0.9804 - val_loss: 0.5078 - val_acc: 0.8480\n",
      "Epoch 10/10\n",
      "10000/10000 [==============================] - 91s 9ms/step - loss: 0.1199 - acc: 0.9650 - val_loss: 0.6221 - val_acc: 0.8135\n"
     ]
    }
   ],
   "source": [
    "# YOUR CODE HERE \n",
    "# add callback history during the training stage of the model\n",
    "gru_history = gru_model.fit(X_train, y_train, validation_data=(X_valid, y_valid), \\\n",
    "               epochs=num_epochs, batch_size=batch_size)"
   ]
  },
  {
   "cell_type": "code",
   "execution_count": 16,
   "metadata": {},
   "outputs": [
    {
     "name": "stdout",
     "output_type": "stream",
     "text": [
      "Train on 10000 samples, validate on 2000 samples\n",
      "Epoch 1/10\n",
      "10000/10000 [==============================] - 157s 16ms/step - loss: 0.6212 - acc: 0.6823 - val_loss: 0.5417 - val_acc: 0.7350\n",
      "Epoch 2/10\n",
      "10000/10000 [==============================] - 155s 16ms/step - loss: 0.3787 - acc: 0.8534 - val_loss: 0.3743 - val_acc: 0.8670\n",
      "Epoch 3/10\n",
      "10000/10000 [==============================] - 155s 16ms/step - loss: 0.4409 - acc: 0.8185 - val_loss: 0.3964 - val_acc: 0.8425\n",
      "Epoch 4/10\n",
      "10000/10000 [==============================] - 155s 16ms/step - loss: 0.2317 - acc: 0.9267 - val_loss: 0.3733 - val_acc: 0.8570\n",
      "Epoch 5/10\n",
      "10000/10000 [==============================] - 155s 16ms/step - loss: 0.1829 - acc: 0.9484 - val_loss: 0.3745 - val_acc: 0.8690\n",
      "Epoch 6/10\n",
      "10000/10000 [==============================] - 157s 16ms/step - loss: 0.1310 - acc: 0.9708 - val_loss: 0.4879 - val_acc: 0.8145\n",
      "Epoch 7/10\n",
      "10000/10000 [==============================] - 169s 17ms/step - loss: 0.1445 - acc: 0.9634 - val_loss: 0.4310 - val_acc: 0.8525\n",
      "Epoch 8/10\n",
      "10000/10000 [==============================] - 156s 16ms/step - loss: 0.1219 - acc: 0.9734 - val_loss: 0.4373 - val_acc: 0.8475\n",
      "Epoch 9/10\n",
      "10000/10000 [==============================] - 155s 15ms/step - loss: 0.1062 - acc: 0.9775 - val_loss: 0.4660 - val_acc: 0.8165\n",
      "Epoch 10/10\n",
      "10000/10000 [==============================] - 158s 16ms/step - loss: 0.0986 - acc: 0.9800 - val_loss: 0.4972 - val_acc: 0.8450\n"
     ]
    }
   ],
   "source": [
    "# YOUR CODE HERE \n",
    "# add callback history during the training stage of the model\n",
    "bilstm_history = bilstm_model.fit(X_train, y_train, validation_data=(X_valid, y_valid), \\\n",
    "               epochs=num_epochs, batch_size=batch_size)"
   ]
  },
  {
   "cell_type": "code",
   "execution_count": 17,
   "metadata": {},
   "outputs": [
    {
     "name": "stdout",
     "output_type": "stream",
     "text": [
      "Train on 10000 samples, validate on 2000 samples\n",
      "Epoch 1/10\n",
      "10000/10000 [==============================] - 127s 13ms/step - loss: 0.6655 - acc: 0.6191 - val_loss: 0.5216 - val_acc: 0.7615\n",
      "Epoch 2/10\n",
      "10000/10000 [==============================] - 126s 13ms/step - loss: 0.3530 - acc: 0.8565 - val_loss: 0.3768 - val_acc: 0.8420\n",
      "Epoch 3/10\n",
      "10000/10000 [==============================] - 124s 12ms/step - loss: 0.2478 - acc: 0.9145 - val_loss: 0.4225 - val_acc: 0.8380\n",
      "Epoch 4/10\n",
      "10000/10000 [==============================] - 132s 13ms/step - loss: 0.1747 - acc: 0.9447 - val_loss: 0.4211 - val_acc: 0.8460\n",
      "Epoch 5/10\n",
      "10000/10000 [==============================] - 133s 13ms/step - loss: 0.1387 - acc: 0.9616 - val_loss: 0.4889 - val_acc: 0.8240\n",
      "Epoch 6/10\n",
      "10000/10000 [==============================] - 124s 12ms/step - loss: 0.1125 - acc: 0.9713 - val_loss: 0.5536 - val_acc: 0.8235\n",
      "Epoch 7/10\n",
      "10000/10000 [==============================] - 124s 12ms/step - loss: 0.0984 - acc: 0.9776 - val_loss: 0.5866 - val_acc: 0.8175\n",
      "Epoch 8/10\n",
      "10000/10000 [==============================] - 124s 12ms/step - loss: 0.1057 - acc: 0.9732 - val_loss: 0.5499 - val_acc: 0.8145\n",
      "Epoch 9/10\n",
      "10000/10000 [==============================] - 124s 12ms/step - loss: 0.1177 - acc: 0.9665 - val_loss: 0.5298 - val_acc: 0.8355\n",
      "Epoch 10/10\n",
      "10000/10000 [==============================] - 124s 12ms/step - loss: 0.0855 - acc: 0.9794 - val_loss: 0.5894 - val_acc: 0.8275\n"
     ]
    }
   ],
   "source": [
    "# YOUR CODE HERE \n",
    "# add callback history during the training stage of the model\n",
    "bigru_history = bigru_model.fit(X_train, y_train, validation_data=(X_valid, y_valid), \\\n",
    "               epochs=num_epochs, batch_size=batch_size)"
   ]
  },
  {
   "cell_type": "markdown",
   "metadata": {},
   "source": [
    "### Save models and weight parameters"
   ]
  },
  {
   "cell_type": "code",
   "execution_count": 18,
   "metadata": {
    "collapsed": true
   },
   "outputs": [],
   "source": [
    "# Save model\n",
    "lstm_model.save('lstm_model.h5')\n",
    "# Save trained weight parameters\n",
    "lstm_model.save_weights('weights_lstm_model.hdf5')"
   ]
  },
  {
   "cell_type": "code",
   "execution_count": 19,
   "metadata": {
    "collapsed": true
   },
   "outputs": [],
   "source": [
    "# Save model\n",
    "gru_model.save('gru_model.h5')\n",
    "# Save trained weight parameters\n",
    "gru_model.save_weights('weights_gru_model.hdf5')"
   ]
  },
  {
   "cell_type": "code",
   "execution_count": 20,
   "metadata": {
    "collapsed": true
   },
   "outputs": [],
   "source": [
    "# Save model\n",
    "bilstm_model.save('bilstm_model.h5')\n",
    "# Save trained weight parameters\n",
    "bilstm_model.save_weights('weights_bilstm_model.hdf5')"
   ]
  },
  {
   "cell_type": "code",
   "execution_count": 21,
   "metadata": {
    "collapsed": true
   },
   "outputs": [],
   "source": [
    "# Save model\n",
    "bigru_model.save('bigru_model.h5')\n",
    "# Save trained weight parameters\n",
    "bigru_model.save_weights('weights_bigru_model.hdf5')"
   ]
  },
  {
   "cell_type": "markdown",
   "metadata": {},
   "source": [
    "#### Plot model performance (loss, accuracy)"
   ]
  },
  {
   "cell_type": "markdown",
   "metadata": {},
   "source": [
    "Present two (2) plots for each model "
   ]
  },
  {
   "cell_type": "code",
   "execution_count": 22,
   "metadata": {},
   "outputs": [
    {
     "data": {
      "image/png": "[encoded data removed]",
      "text/plain": [
       "<matplotlib.figure.Figure at 0x1324ebba8>"
      ]
     },
     "metadata": {},
     "output_type": "display_data"
    }
   ],
   "source": [
    "import matplotlib.pyplot as plt\n",
    "%matplotlib inline\n",
    "\n",
    "plt.figure(figsize=(10,10))\n",
    "\n",
    "ax = plt.subplot2grid((2, 2), (0, 0))\n",
    "plt.plot(lstm_history.history['acc'])\n",
    "plt.plot(lstm_history.history['val_acc'])\n",
    "plt.title('LSTM accuracy')\n",
    "plt.ylabel('accuracy')\n",
    "plt.xlabel('epoch')\n",
    "plt.legend(['train', 'test'], loc='center right')\n",
    "\n",
    "ax2 = plt.subplot2grid((2, 2), (1, 0))\n",
    "plt.plot(lstm_history.history['loss'])\n",
    "plt.plot(lstm_history.history['val_loss'])\n",
    "plt.title('LSTM loss')\n",
    "plt.ylabel('loss')\n",
    "plt.xlabel('epoch')\n",
    "plt.legend(['train', 'test'], loc='center right')\n",
    "\n",
    "ax3 = plt.subplot2grid((2, 2), (0, 1))\n",
    "plt.plot(bilstm_history.history['acc'])\n",
    "plt.plot(bilstm_history.history['val_acc'])\n",
    "plt.title('BiLSTM accuracy')\n",
    "plt.ylabel('accuracy')\n",
    "plt.xlabel('epoch')\n",
    "plt.legend(['train', 'test'], loc='center right')\n",
    "\n",
    "ax4 = plt.subplot2grid((2, 2), (1, 1))\n",
    "plt.plot(bilstm_history.history['loss'])\n",
    "plt.plot(bilstm_history.history['val_loss'])\n",
    "plt.title('BiLSTM loss')\n",
    "plt.ylabel('loss')\n",
    "plt.xlabel('epoch')\n",
    "plt.legend(['train', 'test'], loc='center right')\n",
    "\n",
    "plt.show()\n"
   ]
  },
  {
   "cell_type": "code",
   "execution_count": 23,
   "metadata": {},
   "outputs": [
    {
     "data": {
      "image/png": "[encoded data removed]",
      "text/plain": [
       "<matplotlib.figure.Figure at 0x12d342dd8>"
      ]
     },
     "metadata": {},
     "output_type": "display_data"
    }
   ],
   "source": [
    "plt.figure(figsize=(10,10))\n",
    "\n",
    "ax = plt.subplot2grid((2, 2), (0, 0))\n",
    "plt.plot(gru_history.history['acc'])\n",
    "plt.plot(gru_history.history['val_acc'])\n",
    "plt.title('GRU accuracy')\n",
    "plt.ylabel('accuracy')\n",
    "plt.xlabel('epoch')\n",
    "plt.legend(['train', 'test'], loc='center right')\n",
    "\n",
    "ax2 = plt.subplot2grid((2, 2), (1, 0))\n",
    "plt.plot(gru_history.history['loss'])\n",
    "plt.plot(gru_history.history['val_loss'])\n",
    "plt.title('GRU loss')\n",
    "plt.ylabel('loss')\n",
    "plt.xlabel('epoch')\n",
    "plt.legend(['train', 'test'], loc='center right')\n",
    "\n",
    "ax3 = plt.subplot2grid((2, 2), (0, 1))\n",
    "plt.plot(bigru_history.history['acc'])\n",
    "plt.plot(bigru_history.history['val_acc'])\n",
    "plt.title('BiGRU accuracy')\n",
    "plt.ylabel('accuracy')\n",
    "plt.xlabel('epoch')\n",
    "plt.legend(['train', 'test'], loc='center right')\n",
    "\n",
    "ax4 = plt.subplot2grid((2, 2), (1, 1))\n",
    "plt.plot(bigru_history.history['loss'])\n",
    "plt.plot(bigru_history.history['val_loss'])\n",
    "plt.title('BiGRU loss')\n",
    "plt.ylabel('loss')\n",
    "plt.xlabel('epoch')\n",
    "plt.legend(['train', 'test'], loc='center right')\n",
    "\n",
    "plt.show()"
   ]
  },
  {
   "cell_type": "code",
   "execution_count": 24,
   "metadata": {},
   "outputs": [
    {
     "name": "stdout",
     "output_type": "stream",
     "text": [
      "(10000, 500) (10000,)\n"
     ]
    }
   ],
   "source": [
    "#Validate all models on unseen set.\n",
    "X_valid = np.load(os.path.join(DATA_PATH,'X_valid_word.npy'))\n",
    "y_valid = np.load(os.path.join(DATA_PATH,'y_valid_word.npy'))\n",
    "\n",
    "X_valid = X_valid[2000:12000]\n",
    "y_valid = y_valid[2000:12000]\n",
    "\n",
    "print(X_valid.shape, y_valid.shape)"
   ]
  },
  {
   "cell_type": "code",
   "execution_count": 25,
   "metadata": {},
   "outputs": [
    {
     "name": "stdout",
     "output_type": "stream",
     "text": [
      "10000/10000 [==============================] - 50s 5ms/step\n",
      "10000/10000 [==============================] - 58s 6ms/step\n",
      "10000/10000 [==============================] - 40s 4ms/step\n",
      "10000/10000 [==============================] - 47s 5ms/step\n"
     ]
    }
   ],
   "source": [
    "evaluate_lstm = lstm_model.evaluate(x=X_valid, y=y_valid, batch_size=None, verbose=1, sample_weight=None, steps=None)\n",
    "\n",
    "evaluate_bilstm = bilstm_model.evaluate(x=X_valid, y=y_valid, batch_size=None, verbose=1, sample_weight=None, steps=None)\n",
    "\n",
    "evaluate_gru = gru_model.evaluate(x=X_valid, y=y_valid, batch_size=None, verbose=1, sample_weight=None, steps=None)\n",
    "\n",
    "evaluate_bigru = bigru_model.evaluate(x=X_valid, y=y_valid, batch_size=None, verbose=1, sample_weight=None, steps=None)"
   ]
  },
  {
   "cell_type": "code",
   "execution_count": 33,
   "metadata": {},
   "outputs": [
    {
     "name": "stdout",
     "output_type": "stream",
     "text": [
      "['loss', 'acc']\n",
      "[0.542366391324997, 0.825]\n",
      "[0.5114871267199517, 0.8403]\n",
      "[0.6236617465019226, 0.82]\n",
      "[0.594221213054657, 0.8272]\n"
     ]
    }
   ],
   "source": [
    "print(lstm_model.metrics_names)\n",
    "print(evaluate_lstm)\n",
    "print(evaluate_bilstm)\n",
    "print(evaluate_gru)\n",
    "print(evaluate_bigru)\n",
    "\n",
    "allresults = []\n",
    "allresults.append(evaluate_lstm)\n",
    "allresults.append(evaluate_bilstm)\n",
    "allresults.append(evaluate_gru)\n",
    "allresults.append(evaluate_bigru)\n",
    "header = lstm_model.metrics_names\n",
    "index = ['lstm', 'bi-lstm', 'gru', 'bi-gru']"
   ]
  },
  {
   "cell_type": "markdown",
   "metadata": {},
   "source": [
    "#### Present table comparison of model performance\n",
    "\n",
    "#### Answer:\n",
    "\n",
    "The results are displayed in the table below. The second row has the best results, which is the bidirectional LSTM model. However, all scores are fairly good. According to multiple papers, this is to be expected, as LSTM and GRU RNNs seem to perform similarly (for example as shown in https://arxiv.org/pdf/1412.3555v1.pdf)"
   ]
  },
  {
   "cell_type": "code",
   "execution_count": 35,
   "metadata": {},
   "outputs": [
    {
     "data": {
      "text/html": [
       "<div>\n",
       "<style>\n",
       "    .dataframe thead tr:only-child th {\n",
       "        text-align: right;\n",
       "    }\n",
       "\n",
       "    .dataframe thead th {\n",
       "        text-align: left;\n",
       "    }\n",
       "\n",
       "    .dataframe tbody tr th {\n",
       "        vertical-align: top;\n",
       "    }\n",
       "</style>\n",
       "<table border=\"1\" class=\"dataframe\">\n",
       "  <thead>\n",
       "    <tr style=\"text-align: right;\">\n",
       "      <th></th>\n",
       "      <th>loss</th>\n",
       "      <th>acc</th>\n",
       "    </tr>\n",
       "  </thead>\n",
       "  <tbody>\n",
       "    <tr>\n",
       "      <th>lstm</th>\n",
       "      <td>0.542366</td>\n",
       "      <td>0.8250</td>\n",
       "    </tr>\n",
       "    <tr>\n",
       "      <th>bi-lstm</th>\n",
       "      <td>0.511487</td>\n",
       "      <td>0.8403</td>\n",
       "    </tr>\n",
       "    <tr>\n",
       "      <th>gru</th>\n",
       "      <td>0.623662</td>\n",
       "      <td>0.8200</td>\n",
       "    </tr>\n",
       "    <tr>\n",
       "      <th>bi-gru</th>\n",
       "      <td>0.594221</td>\n",
       "      <td>0.8272</td>\n",
       "    </tr>\n",
       "  </tbody>\n",
       "</table>\n",
       "</div>"
      ],
      "text/plain": [
       "             loss     acc\n",
       "lstm     0.542366  0.8250\n",
       "bi-lstm  0.511487  0.8403\n",
       "gru      0.623662  0.8200\n",
       "bi-gru   0.594221  0.8272"
      ]
     },
     "execution_count": 35,
     "metadata": {},
     "output_type": "execute_result"
    }
   ],
   "source": [
    "import pandas as pd\n",
    "pd.DataFrame(allresults, index=index, columns=header)\n"
   ]
  },
  {
   "cell_type": "markdown",
   "metadata": {},
   "source": [
    "### 3. Feature extraction"
   ]
  },
  {
   "cell_type": "markdown",
   "metadata": {},
   "source": [
    "#### Tasks: \n",
    "\n",
    "* Choose one model with the best performance and use the model to produce ”neural codes” (document embedding) of raw text (5000 instances of unseen validation set) from RNN layer.\n",
    "*  Use tSNE to reduce the dimension of extracted text features (encoded version of 5000 documents) into two (2) dimensions and visualize it towards their sentiment labels.\n"
   ]
  },
  {
   "cell_type": "code",
   "execution_count": 36,
   "metadata": {},
   "outputs": [],
   "source": [
    "# load the trained model\n",
    "from keras.models import load_model\n",
    "\n",
    "# YOUR CODE HERE\n",
    "# choose the best model\n",
    "\n",
    "model = load_model('bilstm_model.h5')\n",
    "model.load_weights('weights_bilstm_model.hdf5')"
   ]
  },
  {
   "cell_type": "markdown",
   "metadata": {},
   "source": [
    "#### Produce Neural codes of text reviews"
   ]
  },
  {
   "cell_type": "code",
   "execution_count": 37,
   "metadata": {},
   "outputs": [
    {
     "name": "stdout",
     "output_type": "stream",
     "text": [
      "(5000, 500) (5000,)\n"
     ]
    }
   ],
   "source": [
    "# provide model inputs (sequences from training and validation set) and outputs (sentiment labels)\n",
    "X_valid = np.load(os.path.join(DATA_PATH,'X_valid_word.npy'))\n",
    "y_valid = np.load(os.path.join(DATA_PATH,'y_valid_word.npy'))\n",
    "\n",
    "X_valid = X_valid[2000:7000]\n",
    "y_valid = y_valid[2000:7000]\n",
    "\n",
    "print(X_valid.shape, y_valid.shape)"
   ]
  },
  {
   "cell_type": "code",
   "execution_count": 38,
   "metadata": {},
   "outputs": [
    {
     "name": "stdout",
     "output_type": "stream",
     "text": [
      "_________________________________________________________________\n",
      "Layer (type)                 Output Shape              Param #   \n",
      "=================================================================\n",
      "input_layer (InputLayer)     (None, 500)               0         \n",
      "_________________________________________________________________\n",
      "word_embedding (Embedding)   (None, 500, 64)           640256    \n",
      "_________________________________________________________________\n",
      "bidirectional_1 (Bidirection (None, 128)               66048     \n",
      "=================================================================\n",
      "Total params: 706,304\n",
      "Trainable params: 706,304\n",
      "Non-trainable params: 0\n",
      "_________________________________________________________________\n",
      "(5000, 128)\n"
     ]
    }
   ],
   "source": [
    "# YOUR CODE HERE\n",
    "\n",
    "# define sub model to retrieve \"neural codes\" (document embedding) from recurrent layer\n",
    "encoder_model = Model(inputs=model.input, outputs=model.get_layer('bidirectional_1').output)\n",
    "encoder_model.summary()\n",
    "\n",
    "# generate \"neural codes\" (document embedding) from the model\n",
    "doc_embedding = encoder_model.predict(X_valid)\n",
    "print(doc_embedding.shape)"
   ]
  },
  {
   "cell_type": "markdown",
   "metadata": {},
   "source": [
    "#### tSNE visualization"
   ]
  },
  {
   "cell_type": "code",
   "execution_count": 39,
   "metadata": {
    "collapsed": true
   },
   "outputs": [],
   "source": [
    "# YOUR CODE HERE\n",
    "# use tSNE to plot document embedding on its sentiment label\n",
    "from sklearn.manifold import TSNE\n",
    "tsne = TSNE(n_components=2, random_state=0)\n",
    "embedding_tsne = tsne.fit_transform(doc_embedding)\n"
   ]
  },
  {
   "cell_type": "code",
   "execution_count": 40,
   "metadata": {},
   "outputs": [
    {
     "data": {
      "image/png": "[encoded data removed]",
      "text/plain": [
       "<matplotlib.figure.Figure at 0x132141e10>"
      ]
     },
     "metadata": {},
     "output_type": "display_data"
    }
   ],
   "source": [
    "import matplotlib.pyplot as plt\n",
    "%matplotlib inline\n",
    "transposed = [list(i) for i in zip(*embedding_tsne)]\n",
    "\n",
    "x = transposed[0]\n",
    "y = transposed[1]\n",
    "classes = y_valid\n",
    "unique = list(set(classes))\n",
    "colors = [plt.cm.jet(float(i)/max(unique)) for i in unique]\n",
    "for i, u in enumerate(unique):\n",
    "    xi = [x[j] for j  in range(len(x)) if classes[j] == u]\n",
    "    yi = [y[j] for j  in range(len(x)) if classes[j] == u]\n",
    "    plt.scatter(xi, yi, c=colors[i], label=str(u), alpha=0.6)\n",
    "plt.legend()\n",
    "plt.show()"
   ]
  },
  {
   "cell_type": "markdown",
   "metadata": {},
   "source": [
    "### 4. One shot learning on multi-class classification"
   ]
  },
  {
   "cell_type": "markdown",
   "metadata": {},
   "source": [
    "#### Tasks: \n",
    "\n",
    "* Use the RNN model that has been trained on binary classification task to extract features from different data set (Amazon product reviews)\n",
    "* Define and implement an approach to assign labels on unlabelled set of reviews, by using the concept of \"one shot learning\"\n",
    "* Compute accuracy, given ground truth labels\n",
    "* Discuss the results "
   ]
  },
  {
   "cell_type": "markdown",
   "metadata": {},
   "source": [
    "Explain how the approach works.\n",
    "\n",
    "\n",
    "#### Answer:\n",
    "\n",
    "The approach is as follows: First of all, we require the model used previously to present us with neural codes for all examples in the files example1 and example2. To do this, we first need to tokenize and pad all data (otherwise the network will not allow the input). On the retrieved neural codes, we want to use one-shot learning. Example1 file contains exactly one example for each class, so we can train on this. This means that we create a nearest neighbor model on these three examples. \n",
    "\n",
    "The next step is to predict on example2. We do this through the k-nearest neighbor approach where k=1. Using a higher k is not useful as there is only one example of each datapoint in the vector space. To calculate the accuracy, we compare the true label to the predicted label, sum these over all example2 points and divide by the number of points. This gives us a score for the classification."
   ]
  },
  {
   "cell_type": "code",
   "execution_count": 41,
   "metadata": {
    "collapsed": true
   },
   "outputs": [],
   "source": [
    "# prepare the new data\n",
    "X_train = []\n",
    "y_train = []\n",
    "X_valid = []\n",
    "y_valid = []\n",
    "    \n",
    "import csv\n",
    "with open('example1_labelled.tsv') as file:\n",
    "    reader = csv.reader(file, delimiter='\\t', quotechar='\"')\n",
    "    # skip headers\n",
    "    next(reader, None)\n",
    "    for row in reader:\n",
    "        y_train.append(row[0])\n",
    "        X_train.append(row[1])\n",
    "        \n",
    "with open('example2_labelled.tsv') as file:\n",
    "    reader = csv.reader(file, delimiter='\\t', quotechar='\"')\n",
    "    # skip headers\n",
    "    next(reader, None)\n",
    "    for row in reader:\n",
    "        y_valid.append(row[0])\n",
    "        X_valid.append(row[1])"
   ]
  },
  {
   "cell_type": "code",
   "execution_count": 42,
   "metadata": {
    "collapsed": true
   },
   "outputs": [],
   "source": [
    "# Combine x and y to tokenize on both.\n",
    "allwords = y_train.copy()\n",
    "for x in X_train:\n",
    "    allwords.append(x)"
   ]
  },
  {
   "cell_type": "code",
   "execution_count": 43,
   "metadata": {
    "collapsed": true
   },
   "outputs": [],
   "source": [
    "# Apply tokenizer to the new texts\n",
    "from keras.preprocessing.text import Tokenizer\n",
    "from keras.preprocessing.sequence import pad_sequences\n",
    "\n",
    "tokenizer = Tokenizer(num_words=10000)\n",
    "tokenizer.fit_on_texts(allwords)\n",
    "sequences = tokenizer.texts_to_sequences(X_train)\n",
    "example1_data = pad_sequences(sequences, maxlen=500)\n",
    "sequences = tokenizer.texts_to_sequences(X_valid)\n",
    "example2_data = pad_sequences(sequences, maxlen=500)\n",
    "\n",
    "y_train_tokenized = tokenizer.texts_to_sequences(y_train)\n",
    "y_valid_tokenized = tokenizer.texts_to_sequences(y_valid)"
   ]
  },
  {
   "cell_type": "code",
   "execution_count": 44,
   "metadata": {
    "collapsed": true
   },
   "outputs": [],
   "source": [
    "# Find the neural codes in order to be able to do nearest neighbor with the other sentences.\n",
    "example1_embedding = encoder_model.predict(example1_data)\n",
    "example2_embedding = encoder_model.predict(example2_data)"
   ]
  },
  {
   "cell_type": "code",
   "execution_count": 45,
   "metadata": {},
   "outputs": [
    {
     "name": "stdout",
     "output_type": "stream",
     "text": [
      "[19] [19]\n",
      "[19] [67]\n",
      "[19] [66]\n",
      "[67] [66]\n",
      "[19] [67]\n",
      "[67] [19]\n",
      "[19] [19]\n",
      "Accuracy =  0.2857142857142857\n"
     ]
    },
    {
     "name": "stderr",
     "output_type": "stream",
     "text": [
      "/Users/daphne/anaconda/lib/python3.6/site-packages/ipykernel_launcher.py:6: DataConversionWarning: A column-vector y was passed when a 1d array was expected. Please change the shape of y to (n_samples, ), for example using ravel().\n",
      "  \n",
      "/Users/daphne/anaconda/lib/python3.6/site-packages/sklearn/utils/validation.py:395: DeprecationWarning: Passing 1d arrays as data is deprecated in 0.17 and will raise ValueError in 0.19. Reshape your data either using X.reshape(-1, 1) if your data has a single feature or X.reshape(1, -1) if it contains a single sample.\n",
      "  DeprecationWarning)\n",
      "/Users/daphne/anaconda/lib/python3.6/site-packages/sklearn/utils/validation.py:395: DeprecationWarning: Passing 1d arrays as data is deprecated in 0.17 and will raise ValueError in 0.19. Reshape your data either using X.reshape(-1, 1) if your data has a single feature or X.reshape(1, -1) if it contains a single sample.\n",
      "  DeprecationWarning)\n",
      "/Users/daphne/anaconda/lib/python3.6/site-packages/sklearn/utils/validation.py:395: DeprecationWarning: Passing 1d arrays as data is deprecated in 0.17 and will raise ValueError in 0.19. Reshape your data either using X.reshape(-1, 1) if your data has a single feature or X.reshape(1, -1) if it contains a single sample.\n",
      "  DeprecationWarning)\n",
      "/Users/daphne/anaconda/lib/python3.6/site-packages/sklearn/utils/validation.py:395: DeprecationWarning: Passing 1d arrays as data is deprecated in 0.17 and will raise ValueError in 0.19. Reshape your data either using X.reshape(-1, 1) if your data has a single feature or X.reshape(1, -1) if it contains a single sample.\n",
      "  DeprecationWarning)\n",
      "/Users/daphne/anaconda/lib/python3.6/site-packages/sklearn/utils/validation.py:395: DeprecationWarning: Passing 1d arrays as data is deprecated in 0.17 and will raise ValueError in 0.19. Reshape your data either using X.reshape(-1, 1) if your data has a single feature or X.reshape(1, -1) if it contains a single sample.\n",
      "  DeprecationWarning)\n",
      "/Users/daphne/anaconda/lib/python3.6/site-packages/sklearn/utils/validation.py:395: DeprecationWarning: Passing 1d arrays as data is deprecated in 0.17 and will raise ValueError in 0.19. Reshape your data either using X.reshape(-1, 1) if your data has a single feature or X.reshape(1, -1) if it contains a single sample.\n",
      "  DeprecationWarning)\n",
      "/Users/daphne/anaconda/lib/python3.6/site-packages/sklearn/utils/validation.py:395: DeprecationWarning: Passing 1d arrays as data is deprecated in 0.17 and will raise ValueError in 0.19. Reshape your data either using X.reshape(-1, 1) if your data has a single feature or X.reshape(1, -1) if it contains a single sample.\n",
      "  DeprecationWarning)\n"
     ]
    }
   ],
   "source": [
    "# Apply nearest neigbors. \n",
    "# One-shot means only fit Nearest Neighbors on example 1, than find closest neigbor for each item in example 2\n",
    "from sklearn.neighbors import KNeighborsClassifier\n",
    "\n",
    "neigh = KNeighborsClassifier(n_neighbors=1)\n",
    "neigh.fit(example1_embedding, y_train_tokenized) \n",
    "\n",
    "score = 0;\n",
    "for i in range(0, len(example2_embedding)):\n",
    "    predictedLabel = neigh.predict(example2_embedding[i])\n",
    "    trueLabel = y_valid_tokenized[i]\n",
    "    if(predictedLabel == trueLabel):\n",
    "        score += 1\n",
    "    print(predictedLabel, trueLabel)\n",
    "\n",
    "print(\"Accuracy = \", score/len(example2_embedding))\n"
   ]
  },
  {
   "cell_type": "markdown",
   "metadata": {},
   "source": [
    "Discuss the result. Why it works -- or why it does not work.\n",
    "\n",
    "#### Answer:\n",
    "\n",
    "As can be seen from the results above, the accuracy is very low. Only one out of seven labels is predicted correctly. We believe that the main problem in this approach is the training goal of the original model. The model was trained to recognize the sentiment of a review and score it either 0 or 1. This means that the model is likely to cluster reviews together with the same sentiment. This may lead to a vectorspace that is optimized for sentiment localization, and discards the meaning of words, similarity and keywords to a certain degree. \n",
    "\n",
    "When using this model for one-shot learning, these is no problem per se. However, applying the nearest neighbor algorithm to the neural codes extracted from the model will probably be more succesful in grouping those reviews with similar sentiment together, instead of grouping by keywords.\n",
    "\n",
    "Notably, the predictions are all (except one) [66], or laptop. Due to the size of the vectorspace (128 dimensions), the three classes' one shot examples may lay very far apart. As L2 distance depends heavily on the amount of dimensions, this relatively big distance between the three datapoints may have contributed to the fact that all reviews are now labelled laptop. \n",
    "\n",
    "On the topic of the reviews itself, we remark that all reviews except one are overwhelmingly positive. This detracts from our earlier argument that the reviews are clustered based on sentiment, as they all seem to have similar sentiments and should therefore be clustured.\n",
    "\n",
    "One final remark is that the dataset used here to determine whether the model is suitable for one shot learning is very small. With such a small sample of examples, it is hard to set up an appropiate vectorvspace and nearest neigbor on just three datapoints in such an enormous vector space is not very trustworthy. \n",
    "\n",
    "Therefore, we conclude that we cannot decide on whether the model is suitable for one shot learning of labels. It requires a larger dataset to determine with any certainty whether the approach may work. In this case it definitely did not."
   ]
  }
 ],
 "metadata": {
  "kernelspec": {
   "display_name": "Python 3",
   "language": "python",
   "name": "python3"
  },
  "language_info": {
   "codemirror_mode": {
    "name": "ipython",
    "version": 3
   },
   "file_extension": ".py",
   "mimetype": "text/x-python",
   "name": "python",
   "nbconvert_exporter": "python",
   "pygments_lexer": "ipython3",
   "version": "3.6.1"
  }
 },
 "nbformat": 4,
 "nbformat_minor": 2
}
