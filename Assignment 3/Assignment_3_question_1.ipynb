{
  "nbformat": 4,
  "nbformat_minor": 0,
  "metadata": {
    "colab": {
      "name": "Assignment 3 question 1.ipynb",
      "version": "0.3.2",
      "views": {},
      "default_view": {},
      "provenance": [],
      "collapsed_sections": []
    },
    "kernelspec": {
      "display_name": "Python 3",
      "language": "python",
      "name": "python3"
    },
    "accelerator": "GPU"
  },
  "cells": [
    {
      "metadata": {
        "id": "uj4T8PEHGbMF",
        "colab_type": "text"
      },
      "cell_type": "markdown",
      "source": [
        "# Assignment 3\n",
        "## Question 1: Siamese networks & one-shot learning (8pt)\n",
        "The Cifar-100 dataset is similar to the Cifar-10 dataset. It also consists of 60,000 32x32 RGB images, but they are distributed over 100 classes instead of 10. Thus, each class has much less examples, only 500 training images and 100 testing images per class. For more info about the dataset, see https://www.cs.toronto.edu/~kriz/cifar.html.\n",
        "\n",
        "*HINT: Import the Cifar-100 dataset directly from Keras, no need to download it from the website. Use* `label_mode=\"fine\"`\n",
        "\n",
        "### Task 1.1: Siamese network\n",
        "**a)**\n",
        "* Train a Siamese Network on the first 80 classes of (the training set of) Cifar-100, i.e. let the network predict the probability that two input images are from the same class. Use 1 as a target for pairs of images from the same class (positive pairs), and 0 for pairs of images from different classes (negative pairs). Randomly select image pairs from Cifar-100, but make sure you train on as many positive pairs as negative pairs.\n",
        "\n",
        "* Evaluate the performance of the network on 20-way one-shot learning tasks. Do this by generating 250 random tasks and obtain the average accuracy for each evaluation round. Use the remaining 20 classes that were not used for training. The model should perform better than random guessing.\n",
        "\n",
        "For this question you may ignore the test set of Cifar-100; it suffices to use only the training set and split this, using the first 80 classes for training and the remaining 20 classes for one-shot testing.\n",
        "\n",
        "*HINT: First sort the data by their labels (see e.g.* `numpy.argsort()`*), then reshape the data to a shape of* `(n_classes, n_examples, width, height, depth)`*, similar to the Omniglot data in Practical 4. It is then easier to split the data by class, and to sample positive and negative images pairs for training the Siamese network.*\n",
        "\n",
        "*NOTE: do not expect the one-shot accuracy for Cifar-100 to be similar to that accuracy for Omniglot; a lower accuracy can be expected. However, accuracy higher than random guess is certainly achievable.*"
      ]
    },
    {
      "metadata": {
        "id": "Ot5gitQry1XA",
        "colab_type": "code",
        "colab": {
          "autoexec": {
            "startup": false,
            "wait_interval": 0
          }
        }
      },
      "cell_type": "code",
      "source": [
        "# import libraries\n",
        "from keras.layers import Input, Conv2D, Lambda, Dense, Flatten, MaxPooling2D, Dropout, BatchNormalization, Dense\n",
        "from keras.models import Model, Sequential\n",
        "from keras.regularizers import l2\n",
        "from keras import backend as K\n",
        "from keras.losses import binary_crossentropy\n",
        "import numpy as np\n",
        "import os\n",
        "import pickle\n",
        "import matplotlib.pyplot as plt\n",
        "from sklearn.utils import shuffle\n",
        "from keras.utils import to_categorical\n",
        "%matplotlib inline"
      ],
      "execution_count": 0,
      "outputs": []
    },
    {
      "metadata": {
        "id": "PWbLPuapy1XS",
        "colab_type": "code",
        "colab": {
          "autoexec": {
            "startup": false,
            "wait_interval": 0
          }
        }
      },
      "cell_type": "code",
      "source": [
        "# load data\n",
        "from keras.datasets import cifar100\n",
        "(x_train, y_train), (x_test, y_test) = cifar100.load_data(label_mode=\"fine\")"
      ],
      "execution_count": 0,
      "outputs": []
    },
    {
      "metadata": {
        "id": "ZA9dja_k3U9D",
        "colab_type": "code",
        "colab": {
          "autoexec": {
            "startup": false,
            "wait_interval": 0
          }
        }
      },
      "cell_type": "code",
      "source": [
        "y_train_flattened = y_train.flatten()\n",
        "sort_indices = np.argsort(y_train_flattened, axis=0)\n",
        "x_train_sorted = x_train[sort_indices]\n",
        "y_train_sorted = y_train_flattened[sort_indices]\n",
        "\n",
        "y_test_flattened = y_test.flatten()\n",
        "sort_indices = np.argsort(y_test_flattened, axis=0)\n",
        "x_test_sorted = x_test[sort_indices]\n",
        "y_test_sorted = y_test_flattened[sort_indices]"
      ],
      "execution_count": 0,
      "outputs": []
    },
    {
      "metadata": {
        "id": "vL8wUhIOzCsX",
        "colab_type": "code",
        "colab": {
          "autoexec": {
            "startup": false,
            "wait_interval": 0
          }
        }
      },
      "cell_type": "code",
      "source": [
        "img_rows, img_cols, chns = 32, 32, 3\n",
        "n_classes = 100\n",
        "n_examples = 500\n",
        "input_shape = (img_rows, img_cols, chns)\n",
        "\n",
        "x_train_reshaped = np.reshape(x_train_sorted, (n_classes, n_examples, img_rows, img_cols, chns))\n",
        "x_train_reshaped = x_train_reshaped.astype('float32')\n",
        "x_train_reshaped /= 255\n",
        "y_train_reshaped = to_categorical(y_train_sorted, n_classes)\n",
        "\n",
        "n_examples = 100\n",
        "\n",
        "x_test_reshaped = np.reshape(x_test_sorted, (n_classes, n_examples, img_rows, img_cols, chns))\n",
        "x_test_reshaped = x_test_reshaped.astype('float32')\n",
        "x_test_reshaped /= 255\n",
        "y_test_reshaped = to_categorical(y_test_sorted, n_classes)"
      ],
      "execution_count": 0,
      "outputs": []
    },
    {
      "metadata": {
        "id": "k5WE5WyF1Bjd",
        "colab_type": "code",
        "colab": {
          "autoexec": {
            "startup": false,
            "wait_interval": 0
          },
          "base_uri": "https://localhost:8080/",
          "height": 102
        },
        "outputId": "b0194ccc-2972-48db-8305-67a7992202b8",
        "executionInfo": {
          "status": "ok",
          "timestamp": 1523356425186,
          "user_tz": -120,
          "elapsed": 402,
          "user": {
            "displayName": "Diederik W",
            "photoUrl": "https://lh3.googleusercontent.com/a/default-user=s128",
            "userId": "110096029821254087179"
          }
        }
      },
      "cell_type": "code",
      "source": [
        "print(x_train_sorted.shape)\n",
        "print(y_train_reshaped.shape)\n",
        "print(x_train_reshaped.shape)\n",
        "print(x_train_reshaped[:80].shape)\n",
        "print(x_train_reshaped[80:].shape)"
      ],
      "execution_count": 13,
      "outputs": [
        {
          "output_type": "stream",
          "text": [
            "(50000, 32, 32, 3)\n",
            "(50000, 100)\n",
            "(100, 500, 32, 32, 3)\n",
            "(80, 500, 32, 32, 3)\n",
            "(20, 500, 32, 32, 3)\n"
          ],
          "name": "stdout"
        }
      ]
    },
    {
      "metadata": {
        "id": "A8qvRYgPwUWZ",
        "colab_type": "code",
        "colab": {
          "autoexec": {
            "startup": false,
            "wait_interval": 0
          },
          "base_uri": "https://localhost:8080/",
          "height": 1057
        },
        "outputId": "aa1318b3-0819-47a4-8851-6b6d3a0f4c44",
        "executionInfo": {
          "status": "ok",
          "timestamp": 1523286892315,
          "user_tz": -120,
          "elapsed": 1848,
          "user": {
            "displayName": "Diederik W",
            "photoUrl": "https://lh3.googleusercontent.com/a/default-user=s128",
            "userId": "110096029821254087179"
          }
        }
      },
      "cell_type": "code",
      "source": [
        "left_input = Input(input_shape)\n",
        "right_input = Input(input_shape)\n",
        "\n",
        "# build convnet to use in each siamese 'leg'\n",
        "convnet = Sequential()\n",
        "convnet.add(Conv2D(64, (4,4), activation='relu', input_shape=input_shape, kernel_regularizer=l2(2e-4)))\n",
        "convnet.add(MaxPooling2D())\n",
        "convnet.add(BatchNormalization())\n",
        "convnet.add(Dropout(0.25))\n",
        "convnet.add(Conv2D(128, (3,3), activation='relu', kernel_regularizer=l2(2e-4)))\n",
        "convnet.add(MaxPooling2D())\n",
        "convnet.add(BatchNormalization())\n",
        "convnet.add(Dropout(0.25))\n",
        "convnet.add(Conv2D(128, (2,2), activation='relu', kernel_regularizer=l2(2e-4)))\n",
        "convnet.add(MaxPooling2D())\n",
        "convnet.add(BatchNormalization())\n",
        "convnet.add(Dropout(0.25))\n",
        "convnet.add(Conv2D(256, (2,2), activation='relu', kernel_regularizer=l2(2e-4)))\n",
        "convnet.add(Flatten())\n",
        "convnet.add(BatchNormalization())\n",
        "convnet.add(Dropout(0.25))\n",
        "convnet.add(Dense(4096, activation=\"sigmoid\", kernel_regularizer=l2(1e-3)))\n",
        "convnet.summary()\n",
        "\n",
        "# encode each of the two inputs into a vector with the convnet\n",
        "encoded_l = convnet(left_input)\n",
        "encoded_r = convnet(right_input)\n",
        "\n",
        "# merge two encoded inputs with the L1 distance between them, and connect to prediction output layer\n",
        "L1_distance = lambda x: K.abs(x[0]-x[1])\n",
        "both = Lambda(L1_distance)([encoded_l, encoded_r])\n",
        "prediction = Dense(1, activation='sigmoid')(both)\n",
        "siamese_net = Model(inputs=[left_input,right_input], outputs=prediction)\n",
        "\n",
        "\n",
        "siamese_net.compile(loss=\"binary_crossentropy\", optimizer=\"adam\")\n",
        "\n",
        "siamese_net.summary()"
      ],
      "execution_count": 25,
      "outputs": [
        {
          "output_type": "stream",
          "text": [
            "_________________________________________________________________\n",
            "Layer (type)                 Output Shape              Param #   \n",
            "=================================================================\n",
            "conv2d_27 (Conv2D)           (None, 29, 29, 64)        3136      \n",
            "_________________________________________________________________\n",
            "max_pooling2d_19 (MaxPooling (None, 14, 14, 64)        0         \n",
            "_________________________________________________________________\n",
            "batch_normalization_27 (Batc (None, 14, 14, 64)        256       \n",
            "_________________________________________________________________\n",
            "dropout_27 (Dropout)         (None, 14, 14, 64)        0         \n",
            "_________________________________________________________________\n",
            "conv2d_28 (Conv2D)           (None, 12, 12, 128)       73856     \n",
            "_________________________________________________________________\n",
            "max_pooling2d_20 (MaxPooling (None, 6, 6, 128)         0         \n",
            "_________________________________________________________________\n",
            "batch_normalization_28 (Batc (None, 6, 6, 128)         512       \n",
            "_________________________________________________________________\n",
            "dropout_28 (Dropout)         (None, 6, 6, 128)         0         \n",
            "_________________________________________________________________\n",
            "conv2d_29 (Conv2D)           (None, 5, 5, 128)         65664     \n",
            "_________________________________________________________________\n",
            "max_pooling2d_21 (MaxPooling (None, 2, 2, 128)         0         \n",
            "_________________________________________________________________\n",
            "batch_normalization_29 (Batc (None, 2, 2, 128)         512       \n",
            "_________________________________________________________________\n",
            "dropout_29 (Dropout)         (None, 2, 2, 128)         0         \n",
            "_________________________________________________________________\n",
            "conv2d_30 (Conv2D)           (None, 1, 1, 256)         131328    \n",
            "_________________________________________________________________\n",
            "flatten_7 (Flatten)          (None, 256)               0         \n",
            "_________________________________________________________________\n",
            "batch_normalization_30 (Batc (None, 256)               1024      \n",
            "_________________________________________________________________\n",
            "dropout_30 (Dropout)         (None, 256)               0         \n",
            "_________________________________________________________________\n",
            "dense_13 (Dense)             (None, 4096)              1052672   \n",
            "=================================================================\n",
            "Total params: 1,328,960\n",
            "Trainable params: 1,327,808\n",
            "Non-trainable params: 1,152\n",
            "_________________________________________________________________\n",
            "__________________________________________________________________________________________________\n",
            "Layer (type)                    Output Shape         Param #     Connected to                     \n",
            "==================================================================================================\n",
            "input_15 (InputLayer)           (None, 32, 32, 3)    0                                            \n",
            "__________________________________________________________________________________________________\n",
            "input_16 (InputLayer)           (None, 32, 32, 3)    0                                            \n",
            "__________________________________________________________________________________________________\n",
            "sequential_8 (Sequential)       (None, 4096)         1328960     input_15[0][0]                   \n",
            "                                                                 input_16[0][0]                   \n",
            "__________________________________________________________________________________________________\n",
            "lambda_7 (Lambda)               (None, 4096)         0           sequential_8[1][0]               \n",
            "                                                                 sequential_8[2][0]               \n",
            "__________________________________________________________________________________________________\n",
            "dense_14 (Dense)                (None, 1)            4097        lambda_7[0][0]                   \n",
            "==================================================================================================\n",
            "Total params: 1,333,057\n",
            "Trainable params: 1,331,905\n",
            "Non-trainable params: 1,152\n",
            "__________________________________________________________________________________________________\n"
          ],
          "name": "stdout"
        }
      ]
    },
    {
      "metadata": {
        "id": "hw_lIafgvWBz",
        "colab_type": "code",
        "colab": {
          "autoexec": {
            "startup": false,
            "wait_interval": 0
          }
        }
      },
      "cell_type": "code",
      "source": [
        "def get_batch(batch_size, X):\n",
        "    \"\"\"Create batch of n pairs, half same class, half different class\"\"\"\n",
        "    n_classes, n_examples, w, h, d = X.shape\n",
        "    # randomly sample several classes to use in the batch\n",
        "    categories = np.random.choice(n_classes, size=(batch_size,), replace=False)\n",
        "    # initialize 2 empty arrays for the input image batch\n",
        "    pairs = [np.zeros((batch_size, h, w, d)) for i in range(2)]\n",
        "    # initialize vector for the targets, and make one half of it '1's, so 2nd half of batch has same class\n",
        "    targets = np.zeros((batch_size,))\n",
        "    targets[batch_size//2:] = 1\n",
        "    for i in range(batch_size):\n",
        "        category = categories[i]\n",
        "        idx_1 = np.random.randint(0, n_examples)\n",
        "        pairs[0][i, :, :, :] = X[category, idx_1].reshape(w, h, d)\n",
        "        idx_2 = np.random.randint(0, n_examples)\n",
        "        # pick images of same class for 1st half, different for 2nd\n",
        "        if i >= batch_size // 2:\n",
        "            category_2 = category\n",
        "        else:\n",
        "            #add a random number to the category modulo n_classes to ensure 2nd image has different category\n",
        "            category_2 = (category + np.random.randint(1,n_classes)) % n_classes\n",
        "        pairs[1][i, :, :, :] = X[category_2,idx_2].reshape(w, h, d)\n",
        "    return pairs, targets\n",
        "\n",
        "def batch_generator(batch_size, X):\n",
        "    \"\"\"a generator for batches, so model.fit_generator can be used. \"\"\"\n",
        "    while True:\n",
        "        pairs, targets = get_batch(batch_size, X)\n",
        "        yield (pairs, targets)\n",
        "\n",
        "def train(model, X, batch_size=64, steps_per_epoch=100, epochs=1):\n",
        "    model.fit_generator(batch_generator(batch_size, X), steps_per_epoch=steps_per_epoch, epochs=epochs)"
      ],
      "execution_count": 0,
      "outputs": []
    },
    {
      "metadata": {
        "id": "Pf2AYWVHs28X",
        "colab_type": "code",
        "colab": {
          "autoexec": {
            "startup": false,
            "wait_interval": 0
          }
        }
      },
      "cell_type": "code",
      "source": [
        "def make_oneshot_task(N, X):\n",
        "    \"\"\"Create pairs of (test image, support set image) with ground truth, for testing N-way one-shot learning.\"\"\"\n",
        "    n_classes, n_examples, w, h, d = X.shape\n",
        "    indices = np.random.randint(0, n_examples, size=(N,))\n",
        "    \n",
        "    # pick a bunch of random labels\n",
        "    categories = np.random.choice(range(n_classes), size=(N,), replace=False)            \n",
        "    \n",
        "    true_category = categories[0]\n",
        "    ex1, ex2 = np.random.choice(n_examples, replace=False, size=(2,))\n",
        "    test_image = np.asarray([X[true_category, ex1, :, :]]*N).reshape(N, w, h, d)\n",
        "    support_set = X[categories, indices, :, :]\n",
        "    support_set[0, :, :] = X[true_category, ex2]\n",
        "    support_set = support_set.reshape(N, w, h, d)\n",
        "    targets = np.zeros((N,))\n",
        "    targets[0] = 1\n",
        "    targets, test_image, support_set = shuffle(targets, test_image, support_set)\n",
        "    pairs = [test_image, support_set]\n",
        "    return pairs, targets\n",
        "\n",
        "def test_oneshot(model, X, N=20, k=250, verbose=True):\n",
        "    \"\"\"Test average N-way oneshot learning accuracy of a siamese neural net over k one-shot tasks.\"\"\"\n",
        "    n_correct = 0\n",
        "    if verbose:\n",
        "        print(\"Evaluating model on {} random {}-way one-shot learning tasks ...\".format(k, N))\n",
        "    for i in range(k):\n",
        "        inputs, targets = make_oneshot_task(N, X)\n",
        "        probs = model.predict(inputs)\n",
        "        if np.argmax(probs) == np.argmax(targets):\n",
        "            n_correct += 1\n",
        "    percent_correct = (100.0*n_correct / k)\n",
        "    if verbose:\n",
        "        print(\"Got an average of {}% accuracy for {}-way one-shot learning\".format(percent_correct, N))\n",
        "    return percent_correct"
      ],
      "execution_count": 0,
      "outputs": []
    },
    {
      "metadata": {
        "id": "CCXv5LwE9FZp",
        "colab_type": "code",
        "colab": {
          "autoexec": {
            "startup": false,
            "wait_interval": 0
          },
          "base_uri": "https://localhost:8080/",
          "height": 10441
        },
        "outputId": "41506657-7072-4c48-b217-a812683ac946",
        "executionInfo": {
          "status": "ok",
          "timestamp": 1523287891477,
          "user_tz": -120,
          "elapsed": 654270,
          "user": {
            "displayName": "Diederik W",
            "photoUrl": "https://lh3.googleusercontent.com/a/default-user=s128",
            "userId": "110096029821254087179"
          }
        }
      },
      "cell_type": "code",
      "source": [
        "loops = 100\n",
        "best_acc = 0\n",
        "worst_acc = 100\n",
        "av_acc = 0\n",
        "\n",
        "for i in range(loops):\n",
        "    print(\"\\n=== Training loop {} ===\".format(i+1))\n",
        "    train(siamese_net, x_train_reshaped[:80])\n",
        "    test_acc = test_oneshot(siamese_net, x_train_reshaped[80:])\n",
        "    av_acc = av_acc + test_acc\n",
        "    if test_acc >= best_acc:\n",
        "        print(\"New best one-shot accuracy: \" + str(test_acc))\n",
        "        best_acc = test_acc\n",
        "    if test_acc < worst_acc:\n",
        "        print(\"New worst one-shot accuracy: \" + str(test_acc))\n",
        "        worst_acc = test_acc\n",
        "        \n",
        "av_acc = av_acc/loops\n",
        "print(\"Average one-shot accuracy: \" + str(av_acc))\n",
        "print(\"Final best one-shot accuracy: \" + str(best_acc))\n",
        "print(\"Final worst one-shot accuracy: \" + str(worst_acc))"
      ],
      "execution_count": 27,
      "outputs": [
        {
          "output_type": "stream",
          "text": [
            "\n",
            "=== Training loop 1 ===\n",
            "Epoch 1/1\n",
            "100/100 [==============================] - 6s 57ms/step - loss: 0.6906\n",
            "Evaluating model on 250 random 20-way one-shot learning tasks ...\n",
            "Got an average of 8.8% accuracy for 20-way one-shot learning\n",
            "New best one-shot accuracy: 8.8\n",
            "New worst one-shot accuracy: 8.8\n",
            "\n",
            "=== Training loop 2 ===\n",
            "Epoch 1/1\n",
            "100/100 [==============================] - 6s 55ms/step - loss: 0.6839\n",
            "Evaluating model on 250 random 20-way one-shot learning tasks ...\n",
            "Got an average of 12.0% accuracy for 20-way one-shot learning\n",
            "New best one-shot accuracy: 12.0\n",
            "\n",
            "=== Training loop 3 ===\n",
            "Epoch 1/1\n",
            " 77/100 [======================>.......] - ETA: 1s - loss: 0.6812"
          ],
          "name": "stdout"
        },
        {
          "output_type": "stream",
          "text": [
            "100/100 [==============================] - 6s 56ms/step - loss: 0.6845\n",
            "Evaluating model on 250 random 20-way one-shot learning tasks ...\n",
            "Got an average of 12.4% accuracy for 20-way one-shot learning\n",
            "New best one-shot accuracy: 12.4\n",
            "\n",
            "=== Training loop 4 ===\n",
            "Epoch 1/1\n",
            "100/100 [==============================] - 6s 55ms/step - loss: 0.6876\n",
            "Evaluating model on 250 random 20-way one-shot learning tasks ...\n",
            "Got an average of 13.6% accuracy for 20-way one-shot learning\n",
            "New best one-shot accuracy: 13.6\n",
            "\n",
            "=== Training loop 5 ===\n",
            "Epoch 1/1\n",
            "100/100 [==============================] - 5s 52ms/step - loss: 0.6855\n",
            "Evaluating model on 250 random 20-way one-shot learning tasks ...\n",
            "Got an average of 11.2% accuracy for 20-way one-shot learning\n",
            "\n",
            "=== Training loop 6 ===\n",
            "Epoch 1/1\n",
            " 25/100 [======>.......................] - ETA: 3s - loss: 0.6810"
          ],
          "name": "stdout"
        },
        {
          "output_type": "stream",
          "text": [
            "100/100 [==============================] - 5s 51ms/step - loss: 0.6809\n",
            "Evaluating model on 250 random 20-way one-shot learning tasks ...\n",
            "Got an average of 12.0% accuracy for 20-way one-shot learning\n",
            "\n",
            "=== Training loop 7 ===\n",
            "Epoch 1/1\n",
            "100/100 [==============================] - 5s 50ms/step - loss: 0.6763\n",
            "Evaluating model on 250 random 20-way one-shot learning tasks ...\n",
            "Got an average of 13.2% accuracy for 20-way one-shot learning\n",
            "\n",
            "=== Training loop 8 ===\n",
            "Epoch 1/1\n",
            "100/100 [==============================] - 5s 50ms/step - loss: 0.6852\n",
            "Evaluating model on 250 random 20-way one-shot learning tasks ...\n",
            "Got an average of 14.4% accuracy for 20-way one-shot learning\n",
            "New best one-shot accuracy: 14.4\n",
            "\n",
            "=== Training loop 9 ===\n",
            "Epoch 1/1\n",
            " 60/100 [=================>............] - ETA: 1s - loss: 0.6799"
          ],
          "name": "stdout"
        },
        {
          "output_type": "stream",
          "text": [
            "100/100 [==============================] - 5s 49ms/step - loss: 0.6813\n",
            "Evaluating model on 250 random 20-way one-shot learning tasks ...\n",
            "Got an average of 11.2% accuracy for 20-way one-shot learning\n",
            "\n",
            "=== Training loop 10 ===\n",
            "Epoch 1/1\n",
            "100/100 [==============================] - 5s 49ms/step - loss: 0.6851\n",
            "Evaluating model on 250 random 20-way one-shot learning tasks ...\n",
            "Got an average of 11.2% accuracy for 20-way one-shot learning\n",
            "\n",
            "=== Training loop 11 ===\n",
            "Epoch 1/1\n",
            "100/100 [==============================] - 5s 50ms/step - loss: 0.6911\n",
            "Evaluating model on 250 random 20-way one-shot learning tasks ...\n",
            "Got an average of 12.4% accuracy for 20-way one-shot learning\n",
            "\n",
            "=== Training loop 12 ===\n",
            "Epoch 1/1\n",
            " 73/100 [====================>.........] - ETA: 1s - loss: 0.6937"
          ],
          "name": "stdout"
        },
        {
          "output_type": "stream",
          "text": [
            "100/100 [==============================] - 5s 48ms/step - loss: 0.6906\n",
            "Evaluating model on 250 random 20-way one-shot learning tasks ...\n",
            "Got an average of 12.0% accuracy for 20-way one-shot learning\n",
            "\n",
            "=== Training loop 13 ===\n",
            "Epoch 1/1\n",
            "100/100 [==============================] - 5s 49ms/step - loss: 0.6929\n",
            "Evaluating model on 250 random 20-way one-shot learning tasks ...\n",
            "Got an average of 18.0% accuracy for 20-way one-shot learning\n",
            "New best one-shot accuracy: 18.0\n",
            "\n",
            "=== Training loop 14 ===\n",
            "Epoch 1/1\n",
            "100/100 [==============================] - 5s 49ms/step - loss: 0.6814\n",
            "Evaluating model on 250 random 20-way one-shot learning tasks ...\n",
            "Got an average of 12.0% accuracy for 20-way one-shot learning\n",
            "\n",
            "=== Training loop 15 ===\n",
            "Epoch 1/1\n",
            " 64/100 [==================>...........] - ETA: 1s - loss: 0.6857"
          ],
          "name": "stdout"
        },
        {
          "output_type": "stream",
          "text": [
            "100/100 [==============================] - 5s 50ms/step - loss: 0.6854\n",
            "Evaluating model on 250 random 20-way one-shot learning tasks ...\n",
            "Got an average of 14.8% accuracy for 20-way one-shot learning\n",
            "\n",
            "=== Training loop 16 ===\n",
            "Epoch 1/1\n",
            "100/100 [==============================] - 5s 49ms/step - loss: 0.6915\n",
            "Evaluating model on 250 random 20-way one-shot learning tasks ...\n",
            "Got an average of 14.0% accuracy for 20-way one-shot learning\n",
            "\n",
            "=== Training loop 17 ===\n",
            "Epoch 1/1\n",
            "100/100 [==============================] - 5s 49ms/step - loss: 0.6768\n",
            "Evaluating model on 250 random 20-way one-shot learning tasks ...\n",
            "Got an average of 11.6% accuracy for 20-way one-shot learning\n",
            "\n",
            "=== Training loop 18 ===\n",
            "Epoch 1/1\n",
            " 78/100 [======================>.......] - ETA: 1s - loss: 0.6804"
          ],
          "name": "stdout"
        },
        {
          "output_type": "stream",
          "text": [
            "100/100 [==============================] - 5s 49ms/step - loss: 0.6827\n",
            "Evaluating model on 250 random 20-way one-shot learning tasks ...\n",
            "Got an average of 10.4% accuracy for 20-way one-shot learning\n",
            "\n",
            "=== Training loop 19 ===\n",
            "Epoch 1/1\n",
            "100/100 [==============================] - 5s 49ms/step - loss: 0.6804\n",
            "Evaluating model on 250 random 20-way one-shot learning tasks ...\n",
            "Got an average of 13.2% accuracy for 20-way one-shot learning\n",
            "\n",
            "=== Training loop 20 ===\n",
            "Epoch 1/1\n",
            "100/100 [==============================] - 5s 49ms/step - loss: 0.6816\n",
            "Evaluating model on 250 random 20-way one-shot learning tasks ...\n",
            "Got an average of 14.8% accuracy for 20-way one-shot learning\n",
            "\n",
            "=== Training loop 21 ===\n",
            "Epoch 1/1\n",
            " 79/100 [======================>.......] - ETA: 1s - loss: 0.6751"
          ],
          "name": "stdout"
        },
        {
          "output_type": "stream",
          "text": [
            "100/100 [==============================] - 5s 49ms/step - loss: 0.6749\n",
            "Evaluating model on 250 random 20-way one-shot learning tasks ...\n",
            "Got an average of 16.8% accuracy for 20-way one-shot learning\n",
            "\n",
            "=== Training loop 22 ===\n",
            "Epoch 1/1\n",
            "100/100 [==============================] - 5s 49ms/step - loss: 0.6725\n",
            "Evaluating model on 250 random 20-way one-shot learning tasks ...\n",
            "Got an average of 14.8% accuracy for 20-way one-shot learning\n",
            "\n",
            "=== Training loop 23 ===\n",
            "Epoch 1/1\n",
            "100/100 [==============================] - 5s 49ms/step - loss: 0.6793\n",
            "Evaluating model on 250 random 20-way one-shot learning tasks ...\n",
            "Got an average of 12.8% accuracy for 20-way one-shot learning\n",
            "\n",
            "=== Training loop 24 ===\n",
            "Epoch 1/1\n",
            " 82/100 [=======================>......] - ETA: 0s - loss: 0.6815"
          ],
          "name": "stdout"
        },
        {
          "output_type": "stream",
          "text": [
            "100/100 [==============================] - 5s 48ms/step - loss: 0.6790\n",
            "Evaluating model on 250 random 20-way one-shot learning tasks ...\n",
            "Got an average of 14.0% accuracy for 20-way one-shot learning\n",
            "\n",
            "=== Training loop 25 ===\n",
            "Epoch 1/1\n",
            "100/100 [==============================] - 5s 48ms/step - loss: 0.6840\n",
            "Evaluating model on 250 random 20-way one-shot learning tasks ...\n",
            "Got an average of 12.0% accuracy for 20-way one-shot learning\n",
            "\n",
            "=== Training loop 26 ===\n",
            "Epoch 1/1\n",
            "100/100 [==============================] - 5s 48ms/step - loss: 0.6837\n",
            "Evaluating model on 250 random 20-way one-shot learning tasks ...\n",
            "Got an average of 16.8% accuracy for 20-way one-shot learning\n",
            "\n",
            "=== Training loop 27 ===\n",
            "Epoch 1/1\n",
            " 87/100 [=========================>....] - ETA: 0s - loss: 0.6808"
          ],
          "name": "stdout"
        },
        {
          "output_type": "stream",
          "text": [
            "100/100 [==============================] - 5s 48ms/step - loss: 0.6814\n",
            "Evaluating model on 250 random 20-way one-shot learning tasks ...\n",
            "Got an average of 15.2% accuracy for 20-way one-shot learning\n",
            "\n",
            "=== Training loop 28 ===\n",
            "Epoch 1/1\n",
            "100/100 [==============================] - 5s 48ms/step - loss: 0.6844\n",
            "Evaluating model on 250 random 20-way one-shot learning tasks ...\n",
            "Got an average of 14.0% accuracy for 20-way one-shot learning\n",
            "\n",
            "=== Training loop 29 ===\n",
            "Epoch 1/1\n",
            "100/100 [==============================] - 5s 48ms/step - loss: 0.6797\n",
            "Evaluating model on 250 random 20-way one-shot learning tasks ...\n",
            "Got an average of 14.4% accuracy for 20-way one-shot learning\n",
            "\n",
            "=== Training loop 30 ===\n",
            "Epoch 1/1\n",
            " 99/100 [============================>.] - ETA: 0s - loss: 0.6768"
          ],
          "name": "stdout"
        },
        {
          "output_type": "stream",
          "text": [
            "\b\b\b\b\b\b\b\b\b\b\b\b\b\b\b\b\b\b\b\b\b\b\b\b\b\b\b\b\b\b\b\b\b\b\b\b\b\b\b\b\b\b\b\b\b\b\b\b\b\b\b\b\b\b\b\b\b\b\b\b\b\b\b\b\b\r100/100 [==============================] - 5s 47ms/step - loss: 0.6767\n",
            "Evaluating model on 250 random 20-way one-shot learning tasks ...\n",
            "Got an average of 14.0% accuracy for 20-way one-shot learning\n",
            "\n",
            "=== Training loop 31 ===\n",
            "Epoch 1/1\n",
            "100/100 [==============================] - 5s 48ms/step - loss: 0.6820\n",
            "Evaluating model on 250 random 20-way one-shot learning tasks ...\n",
            "Got an average of 14.0% accuracy for 20-way one-shot learning\n",
            "\n",
            "=== Training loop 32 ===\n",
            "Epoch 1/1\n",
            "100/100 [==============================] - 5s 48ms/step - loss: 0.6815\n",
            "Evaluating model on 250 random 20-way one-shot learning tasks ...\n",
            "Got an average of 15.6% accuracy for 20-way one-shot learning\n",
            "\n",
            "=== Training loop 33 ===\n",
            "Epoch 1/1\n",
            " 70/100 [====================>.........] - ETA: 1s - loss: 0.6768"
          ],
          "name": "stdout"
        },
        {
          "output_type": "stream",
          "text": [
            "100/100 [==============================] - 5s 48ms/step - loss: 0.6788\n",
            "Evaluating model on 250 random 20-way one-shot learning tasks ...\n",
            "Got an average of 15.2% accuracy for 20-way one-shot learning\n",
            "\n",
            "=== Training loop 34 ===\n",
            "Epoch 1/1\n",
            "100/100 [==============================] - 5s 48ms/step - loss: 0.6781\n",
            "Evaluating model on 250 random 20-way one-shot learning tasks ...\n",
            "Got an average of 14.4% accuracy for 20-way one-shot learning\n",
            "\n",
            "=== Training loop 35 ===\n",
            "Epoch 1/1\n",
            "100/100 [==============================] - 5s 48ms/step - loss: 0.6744\n",
            "Evaluating model on 250 random 20-way one-shot learning tasks ...\n",
            "Got an average of 13.6% accuracy for 20-way one-shot learning\n",
            "\n",
            "=== Training loop 36 ===\n",
            "Epoch 1/1\n",
            " 91/100 [==========================>...] - ETA: 0s - loss: 0.6770"
          ],
          "name": "stdout"
        },
        {
          "output_type": "stream",
          "text": [
            "100/100 [==============================] - 5s 48ms/step - loss: 0.6788\n",
            "Evaluating model on 250 random 20-way one-shot learning tasks ...\n",
            "Got an average of 13.2% accuracy for 20-way one-shot learning\n",
            "\n",
            "=== Training loop 37 ===\n",
            "Epoch 1/1\n",
            "100/100 [==============================] - 5s 48ms/step - loss: 0.6779\n",
            "Evaluating model on 250 random 20-way one-shot learning tasks ...\n",
            "Got an average of 16.4% accuracy for 20-way one-shot learning\n",
            "\n",
            "=== Training loop 38 ===\n",
            "Epoch 1/1\n",
            "100/100 [==============================] - 5s 48ms/step - loss: 0.6775\n",
            "Evaluating model on 250 random 20-way one-shot learning tasks ...\n",
            "Got an average of 16.0% accuracy for 20-way one-shot learning\n",
            "\n",
            "=== Training loop 39 ===\n",
            "Epoch 1/1\n",
            " 93/100 [==========================>...] - ETA: 0s - loss: 0.6857"
          ],
          "name": "stdout"
        },
        {
          "output_type": "stream",
          "text": [
            "100/100 [==============================] - 5s 48ms/step - loss: 0.6841\n",
            "Evaluating model on 250 random 20-way one-shot learning tasks ...\n",
            "Got an average of 15.2% accuracy for 20-way one-shot learning\n",
            "\n",
            "=== Training loop 40 ===\n",
            "Epoch 1/1\n",
            "100/100 [==============================] - 5s 48ms/step - loss: 0.6773\n",
            "Evaluating model on 250 random 20-way one-shot learning tasks ...\n",
            "Got an average of 14.8% accuracy for 20-way one-shot learning\n",
            "\n",
            "=== Training loop 41 ===\n",
            "Epoch 1/1\n",
            "100/100 [==============================] - 5s 47ms/step - loss: 0.6775\n",
            "Evaluating model on 250 random 20-way one-shot learning tasks ...\n",
            "Got an average of 16.4% accuracy for 20-way one-shot learning\n",
            "\n",
            "=== Training loop 42 ===\n",
            "Epoch 1/1\n",
            "100/100 [==============================] - 5s 48ms/step - loss: 0.6796\n",
            "Evaluating model on 250 random 20-way one-shot learning tasks ...\n",
            "Got an average of 12.4% accuracy for 20-way one-shot learning\n",
            "\n",
            "=== Training loop 43 ===\n",
            "Epoch 1/1\n",
            "  1/100 [..............................] - ETA: 5s - loss: 0.7162"
          ],
          "name": "stdout"
        },
        {
          "output_type": "stream",
          "text": [
            "100/100 [==============================] - 5s 48ms/step - loss: 0.6795\n",
            "Evaluating model on 250 random 20-way one-shot learning tasks ...\n",
            "Got an average of 14.0% accuracy for 20-way one-shot learning\n",
            "\n",
            "=== Training loop 44 ===\n",
            "Epoch 1/1\n",
            "100/100 [==============================] - 5s 49ms/step - loss: 0.6764\n",
            "Evaluating model on 250 random 20-way one-shot learning tasks ...\n",
            "Got an average of 12.0% accuracy for 20-way one-shot learning\n",
            "\n",
            "=== Training loop 45 ===\n",
            "Epoch 1/1\n",
            "100/100 [==============================] - 5s 48ms/step - loss: 0.6708\n",
            "Evaluating model on 250 random 20-way one-shot learning tasks ...\n",
            "Got an average of 13.2% accuracy for 20-way one-shot learning\n",
            "\n",
            "=== Training loop 46 ===\n",
            "Epoch 1/1\n",
            " 84/100 [========================>.....] - ETA: 0s - loss: 0.6729"
          ],
          "name": "stdout"
        },
        {
          "output_type": "stream",
          "text": [
            "100/100 [==============================] - 5s 48ms/step - loss: 0.6722\n",
            "Evaluating model on 250 random 20-way one-shot learning tasks ...\n",
            "Got an average of 14.8% accuracy for 20-way one-shot learning\n",
            "\n",
            "=== Training loop 47 ===\n",
            "Epoch 1/1\n",
            "100/100 [==============================] - 5s 48ms/step - loss: 0.6718\n",
            "Evaluating model on 250 random 20-way one-shot learning tasks ...\n",
            "Got an average of 16.8% accuracy for 20-way one-shot learning\n",
            "\n",
            "=== Training loop 48 ===\n",
            "Epoch 1/1\n",
            "100/100 [==============================] - 5s 47ms/step - loss: 0.6664\n",
            "Evaluating model on 250 random 20-way one-shot learning tasks ...\n",
            "Got an average of 14.4% accuracy for 20-way one-shot learning\n",
            "\n",
            "=== Training loop 49 ===\n",
            "Epoch 1/1\n",
            " 93/100 [==========================>...] - ETA: 0s - loss: 0.6759"
          ],
          "name": "stdout"
        },
        {
          "output_type": "stream",
          "text": [
            "100/100 [==============================] - 5s 48ms/step - loss: 0.6755\n",
            "Evaluating model on 250 random 20-way one-shot learning tasks ...\n",
            "Got an average of 14.8% accuracy for 20-way one-shot learning\n",
            "\n",
            "=== Training loop 50 ===\n",
            "Epoch 1/1\n",
            "100/100 [==============================] - 5s 48ms/step - loss: 0.6821\n",
            "Evaluating model on 250 random 20-way one-shot learning tasks ...\n",
            "Got an average of 13.6% accuracy for 20-way one-shot learning\n",
            "\n",
            "=== Training loop 51 ===\n",
            "Epoch 1/1\n",
            "100/100 [==============================] - 5s 48ms/step - loss: 0.6713\n",
            "Evaluating model on 250 random 20-way one-shot learning tasks ...\n",
            "Got an average of 16.8% accuracy for 20-way one-shot learning\n",
            "\n",
            "=== Training loop 52 ===\n",
            "Epoch 1/1\n",
            " 88/100 [=========================>....] - ETA: 0s - loss: 0.6715"
          ],
          "name": "stdout"
        },
        {
          "output_type": "stream",
          "text": [
            "100/100 [==============================] - 5s 48ms/step - loss: 0.6700\n",
            "Evaluating model on 250 random 20-way one-shot learning tasks ...\n",
            "Got an average of 12.8% accuracy for 20-way one-shot learning\n",
            "\n",
            "=== Training loop 53 ===\n",
            "Epoch 1/1\n",
            "100/100 [==============================] - 5s 48ms/step - loss: 0.6786\n",
            "Evaluating model on 250 random 20-way one-shot learning tasks ...\n",
            "Got an average of 12.8% accuracy for 20-way one-shot learning\n",
            "\n",
            "=== Training loop 54 ===\n",
            "Epoch 1/1\n",
            "100/100 [==============================] - 5s 48ms/step - loss: 0.6738\n",
            "Evaluating model on 250 random 20-way one-shot learning tasks ...\n",
            "Got an average of 9.6% accuracy for 20-way one-shot learning\n",
            "\n",
            "=== Training loop 55 ===\n",
            "Epoch 1/1\n",
            " 78/100 [======================>.......] - ETA: 1s - loss: 0.6721"
          ],
          "name": "stdout"
        },
        {
          "output_type": "stream",
          "text": [
            "100/100 [==============================] - 5s 49ms/step - loss: 0.6705\n",
            "Evaluating model on 250 random 20-way one-shot learning tasks ...\n",
            "Got an average of 15.6% accuracy for 20-way one-shot learning\n",
            "\n",
            "=== Training loop 56 ===\n",
            "Epoch 1/1\n",
            "100/100 [==============================] - 5s 47ms/step - loss: 0.6706\n",
            "Evaluating model on 250 random 20-way one-shot learning tasks ...\n",
            "Got an average of 14.8% accuracy for 20-way one-shot learning\n",
            "\n",
            "=== Training loop 57 ===\n",
            "Epoch 1/1\n",
            "100/100 [==============================] - 5s 49ms/step - loss: 0.6730\n",
            "Evaluating model on 250 random 20-way one-shot learning tasks ...\n",
            "Got an average of 12.8% accuracy for 20-way one-shot learning\n",
            "\n",
            "=== Training loop 58 ===\n",
            "Epoch 1/1\n",
            " 91/100 [==========================>...] - ETA: 0s - loss: 0.6717"
          ],
          "name": "stdout"
        },
        {
          "output_type": "stream",
          "text": [
            "100/100 [==============================] - 5s 48ms/step - loss: 0.6723\n",
            "Evaluating model on 250 random 20-way one-shot learning tasks ...\n",
            "Got an average of 14.0% accuracy for 20-way one-shot learning\n",
            "\n",
            "=== Training loop 59 ===\n",
            "Epoch 1/1\n",
            "100/100 [==============================] - 5s 48ms/step - loss: 0.6813\n",
            "Evaluating model on 250 random 20-way one-shot learning tasks ...\n",
            "Got an average of 12.8% accuracy for 20-way one-shot learning\n",
            "\n",
            "=== Training loop 60 ===\n",
            "Epoch 1/1\n",
            "100/100 [==============================] - 5s 47ms/step - loss: 0.6729\n",
            "Evaluating model on 250 random 20-way one-shot learning tasks ...\n",
            "Got an average of 10.8% accuracy for 20-way one-shot learning\n",
            "\n",
            "=== Training loop 61 ===\n",
            "Epoch 1/1\n",
            "100/100 [==============================] - 5s 48ms/step - loss: 0.6726\n"
          ],
          "name": "stdout"
        },
        {
          "output_type": "stream",
          "text": [
            "Evaluating model on 250 random 20-way one-shot learning tasks ...\n",
            "Got an average of 12.8% accuracy for 20-way one-shot learning\n",
            "\n",
            "=== Training loop 62 ===\n",
            "Epoch 1/1\n",
            "100/100 [==============================] - 5s 48ms/step - loss: 0.6700\n",
            "Evaluating model on 250 random 20-way one-shot learning tasks ...\n",
            "Got an average of 15.6% accuracy for 20-way one-shot learning\n",
            "\n",
            "=== Training loop 63 ===\n",
            "Epoch 1/1\n",
            "100/100 [==============================] - 5s 48ms/step - loss: 0.6780\n",
            "Evaluating model on 250 random 20-way one-shot learning tasks ...\n",
            "Got an average of 12.0% accuracy for 20-way one-shot learning\n",
            "\n",
            "=== Training loop 64 ===\n",
            "Epoch 1/1\n",
            "100/100 [==============================] - 5s 48ms/step - loss: 0.6770\n",
            "Evaluating model on 250 random 20-way one-shot learning tasks ...\n",
            "Got an average of 11.2% accuracy for 20-way one-shot learning\n",
            "\n",
            "=== Training loop 65 ===\n",
            "Epoch 1/1\n",
            " 17/100 [====>.........................] - ETA: 4s - loss: 0.6885"
          ],
          "name": "stdout"
        },
        {
          "output_type": "stream",
          "text": [
            "100/100 [==============================] - 5s 48ms/step - loss: 0.6841\n",
            "Evaluating model on 250 random 20-way one-shot learning tasks ...\n",
            "Got an average of 16.0% accuracy for 20-way one-shot learning\n",
            "\n",
            "=== Training loop 66 ===\n",
            "Epoch 1/1\n",
            "100/100 [==============================] - 5s 48ms/step - loss: 0.6728\n",
            "Evaluating model on 250 random 20-way one-shot learning tasks ...\n",
            "Got an average of 16.4% accuracy for 20-way one-shot learning\n",
            "\n",
            "=== Training loop 67 ===\n",
            "Epoch 1/1\n",
            "100/100 [==============================] - 5s 48ms/step - loss: 0.6754\n",
            "Evaluating model on 250 random 20-way one-shot learning tasks ...\n",
            "Got an average of 14.4% accuracy for 20-way one-shot learning\n",
            "\n",
            "=== Training loop 68 ===\n",
            "Epoch 1/1\n",
            " 90/100 [==========================>...] - ETA: 0s - loss: 0.6659"
          ],
          "name": "stdout"
        },
        {
          "output_type": "stream",
          "text": [
            "100/100 [==============================] - 5s 48ms/step - loss: 0.6658\n",
            "Evaluating model on 250 random 20-way one-shot learning tasks ...\n",
            "Got an average of 16.4% accuracy for 20-way one-shot learning\n",
            "\n",
            "=== Training loop 69 ===\n",
            "Epoch 1/1\n",
            "100/100 [==============================] - 5s 48ms/step - loss: 0.6683\n",
            "Evaluating model on 250 random 20-way one-shot learning tasks ...\n",
            "Got an average of 12.0% accuracy for 20-way one-shot learning\n",
            "\n",
            "=== Training loop 70 ===\n",
            "Epoch 1/1\n",
            "100/100 [==============================] - 5s 48ms/step - loss: 0.6716\n",
            "Evaluating model on 250 random 20-way one-shot learning tasks ...\n",
            "Got an average of 15.6% accuracy for 20-way one-shot learning\n",
            "\n",
            "=== Training loop 71 ===\n",
            "Epoch 1/1\n",
            " 91/100 [==========================>...] - ETA: 0s - loss: 0.6709"
          ],
          "name": "stdout"
        },
        {
          "output_type": "stream",
          "text": [
            "100/100 [==============================] - 5s 48ms/step - loss: 0.6716\n",
            "Evaluating model on 250 random 20-way one-shot learning tasks ...\n",
            "Got an average of 14.0% accuracy for 20-way one-shot learning\n",
            "\n",
            "=== Training loop 72 ===\n",
            "Epoch 1/1\n",
            "100/100 [==============================] - 5s 48ms/step - loss: 0.6700\n",
            "Evaluating model on 250 random 20-way one-shot learning tasks ...\n",
            "Got an average of 15.6% accuracy for 20-way one-shot learning\n",
            "\n",
            "=== Training loop 73 ===\n",
            "Epoch 1/1\n",
            "100/100 [==============================] - 5s 48ms/step - loss: 0.6651\n",
            "Evaluating model on 250 random 20-way one-shot learning tasks ...\n",
            "Got an average of 15.2% accuracy for 20-way one-shot learning\n",
            "\n",
            "=== Training loop 74 ===\n",
            "Epoch 1/1\n",
            " 92/100 [==========================>...] - ETA: 0s - loss: 0.6663"
          ],
          "name": "stdout"
        },
        {
          "output_type": "stream",
          "text": [
            "100/100 [==============================] - 5s 48ms/step - loss: 0.6665\n",
            "Evaluating model on 250 random 20-way one-shot learning tasks ...\n",
            "Got an average of 13.6% accuracy for 20-way one-shot learning\n",
            "\n",
            "=== Training loop 75 ===\n",
            "Epoch 1/1\n",
            "100/100 [==============================] - 5s 48ms/step - loss: 0.6581\n",
            "Evaluating model on 250 random 20-way one-shot learning tasks ...\n",
            "Got an average of 16.8% accuracy for 20-way one-shot learning\n",
            "\n",
            "=== Training loop 76 ===\n",
            "Epoch 1/1\n",
            "100/100 [==============================] - 5s 48ms/step - loss: 0.6738\n",
            "Evaluating model on 250 random 20-way one-shot learning tasks ...\n",
            "Got an average of 16.0% accuracy for 20-way one-shot learning\n",
            "\n",
            "=== Training loop 77 ===\n",
            "Epoch 1/1\n",
            "100/100 [==============================] - 5s 48ms/step - loss: 0.6713\n",
            "Evaluating model on 250 random 20-way one-shot learning tasks ...\n"
          ],
          "name": "stdout"
        },
        {
          "output_type": "stream",
          "text": [
            "Got an average of 12.0% accuracy for 20-way one-shot learning\n",
            "\n",
            "=== Training loop 78 ===\n",
            "Epoch 1/1\n",
            "100/100 [==============================] - 5s 49ms/step - loss: 0.6683\n",
            "Evaluating model on 250 random 20-way one-shot learning tasks ...\n",
            "Got an average of 16.8% accuracy for 20-way one-shot learning\n",
            "\n",
            "=== Training loop 79 ===\n",
            "Epoch 1/1\n",
            "100/100 [==============================] - 5s 48ms/step - loss: 0.6716\n",
            "Evaluating model on 250 random 20-way one-shot learning tasks ...\n",
            "Got an average of 12.8% accuracy for 20-way one-shot learning\n",
            "\n",
            "=== Training loop 80 ===\n",
            "Epoch 1/1\n",
            "100/100 [==============================] - 5s 48ms/step - loss: 0.6743\n",
            "Evaluating model on 250 random 20-way one-shot learning tasks ...\n",
            "Got an average of 17.6% accuracy for 20-way one-shot learning\n",
            "\n",
            "=== Training loop 81 ===\n",
            "Epoch 1/1\n",
            " 39/100 [==========>...................] - ETA: 2s - loss: 0.6650"
          ],
          "name": "stdout"
        },
        {
          "output_type": "stream",
          "text": [
            "100/100 [==============================] - 5s 48ms/step - loss: 0.6701\n",
            "Evaluating model on 250 random 20-way one-shot learning tasks ...\n",
            "Got an average of 14.8% accuracy for 20-way one-shot learning\n",
            "\n",
            "=== Training loop 82 ===\n",
            "Epoch 1/1\n",
            "100/100 [==============================] - 5s 49ms/step - loss: 0.6752\n",
            "Evaluating model on 250 random 20-way one-shot learning tasks ...\n",
            "Got an average of 11.6% accuracy for 20-way one-shot learning\n",
            "\n",
            "=== Training loop 83 ===\n",
            "Epoch 1/1\n",
            "100/100 [==============================] - 5s 48ms/step - loss: 0.6782\n",
            "Evaluating model on 250 random 20-way one-shot learning tasks ...\n",
            "Got an average of 14.0% accuracy for 20-way one-shot learning\n",
            "\n",
            "=== Training loop 84 ===\n",
            "Epoch 1/1\n",
            " 80/100 [=======================>......] - ETA: 0s - loss: 0.6607"
          ],
          "name": "stdout"
        },
        {
          "output_type": "stream",
          "text": [
            "100/100 [==============================] - 5s 48ms/step - loss: 0.6612\n",
            "Evaluating model on 250 random 20-way one-shot learning tasks ...\n",
            "Got an average of 12.0% accuracy for 20-way one-shot learning\n",
            "\n",
            "=== Training loop 85 ===\n",
            "Epoch 1/1\n",
            "100/100 [==============================] - 5s 48ms/step - loss: 0.6664\n",
            "Evaluating model on 250 random 20-way one-shot learning tasks ...\n",
            "Got an average of 14.4% accuracy for 20-way one-shot learning\n",
            "\n",
            "=== Training loop 86 ===\n",
            "Epoch 1/1\n",
            "100/100 [==============================] - 5s 48ms/step - loss: 0.6689\n",
            "Evaluating model on 250 random 20-way one-shot learning tasks ...\n",
            "Got an average of 18.0% accuracy for 20-way one-shot learning\n",
            "New best one-shot accuracy: 18.0\n",
            "\n",
            "=== Training loop 87 ===\n",
            "Epoch 1/1\n",
            " 76/100 [=====================>........] - ETA: 1s - loss: 0.6692"
          ],
          "name": "stdout"
        },
        {
          "output_type": "stream",
          "text": [
            "100/100 [==============================] - 5s 49ms/step - loss: 0.6704\n",
            "Evaluating model on 250 random 20-way one-shot learning tasks ...\n",
            "Got an average of 12.8% accuracy for 20-way one-shot learning\n",
            "\n",
            "=== Training loop 88 ===\n",
            "Epoch 1/1\n",
            "100/100 [==============================] - 5s 48ms/step - loss: 0.6661\n",
            "Evaluating model on 250 random 20-way one-shot learning tasks ...\n",
            "Got an average of 13.2% accuracy for 20-way one-shot learning\n",
            "\n",
            "=== Training loop 89 ===\n",
            "Epoch 1/1\n",
            "100/100 [==============================] - 5s 48ms/step - loss: 0.6639\n",
            "Evaluating model on 250 random 20-way one-shot learning tasks ...\n",
            "Got an average of 13.2% accuracy for 20-way one-shot learning\n",
            "\n",
            "=== Training loop 90 ===\n",
            "Epoch 1/1\n",
            " 85/100 [========================>.....] - ETA: 0s - loss: 0.6762"
          ],
          "name": "stdout"
        },
        {
          "output_type": "stream",
          "text": [
            "100/100 [==============================] - 5s 48ms/step - loss: 0.6779\n",
            "Evaluating model on 250 random 20-way one-shot learning tasks ...\n",
            "Got an average of 15.2% accuracy for 20-way one-shot learning\n",
            "\n",
            "=== Training loop 91 ===\n",
            "Epoch 1/1\n",
            "100/100 [==============================] - 5s 48ms/step - loss: 0.6691\n",
            "Evaluating model on 250 random 20-way one-shot learning tasks ...\n",
            "Got an average of 10.4% accuracy for 20-way one-shot learning\n",
            "\n",
            "=== Training loop 92 ===\n",
            "Epoch 1/1\n",
            "100/100 [==============================] - 5s 48ms/step - loss: 0.6686\n",
            "Evaluating model on 250 random 20-way one-shot learning tasks ...\n",
            "Got an average of 20.8% accuracy for 20-way one-shot learning\n",
            "New best one-shot accuracy: 20.8\n",
            "\n",
            "=== Training loop 93 ===\n",
            "Epoch 1/1\n",
            " 97/100 [============================>.] - ETA: 0s - loss: 0.6746"
          ],
          "name": "stdout"
        },
        {
          "output_type": "stream",
          "text": [
            "100/100 [==============================] - 5s 48ms/step - loss: 0.6746\n",
            "Evaluating model on 250 random 20-way one-shot learning tasks ...\n",
            "Got an average of 16.0% accuracy for 20-way one-shot learning\n",
            "\n",
            "=== Training loop 94 ===\n",
            "Epoch 1/1\n",
            "100/100 [==============================] - 5s 47ms/step - loss: 0.6748\n",
            "Evaluating model on 250 random 20-way one-shot learning tasks ...\n",
            "Got an average of 15.6% accuracy for 20-way one-shot learning\n",
            "\n",
            "=== Training loop 95 ===\n",
            "Epoch 1/1\n",
            "100/100 [==============================] - 5s 48ms/step - loss: 0.6681\n",
            "Evaluating model on 250 random 20-way one-shot learning tasks ...\n",
            "Got an average of 10.0% accuracy for 20-way one-shot learning\n",
            "\n",
            "=== Training loop 96 ===\n",
            "Epoch 1/1\n",
            " 99/100 [============================>.] - ETA: 0s - loss: 0.6724"
          ],
          "name": "stdout"
        },
        {
          "output_type": "stream",
          "text": [
            "\b\b\b\b\b\b\b\b\b\b\b\b\b\b\b\b\b\b\b\b\b\b\b\b\b\b\b\b\b\b\b\b\b\b\b\b\b\b\b\b\b\b\b\b\b\b\b\b\b\b\b\b\b\b\b\b\b\b\b\b\b\b\b\b\b\r100/100 [==============================] - 5s 48ms/step - loss: 0.6722\n",
            "Evaluating model on 250 random 20-way one-shot learning tasks ...\n",
            "Got an average of 16.0% accuracy for 20-way one-shot learning\n",
            "\n",
            "=== Training loop 97 ===\n",
            "Epoch 1/1\n",
            "100/100 [==============================] - 5s 48ms/step - loss: 0.6729\n",
            "Evaluating model on 250 random 20-way one-shot learning tasks ...\n",
            "Got an average of 15.6% accuracy for 20-way one-shot learning\n",
            "\n",
            "=== Training loop 98 ===\n",
            "Epoch 1/1\n",
            "100/100 [==============================] - 5s 48ms/step - loss: 0.6644\n",
            "Evaluating model on 250 random 20-way one-shot learning tasks ...\n",
            "Got an average of 13.6% accuracy for 20-way one-shot learning\n",
            "\n",
            "=== Training loop 99 ===\n",
            "Epoch 1/1\n",
            " 66/100 [==================>...........] - ETA: 1s - loss: 0.6651"
          ],
          "name": "stdout"
        },
        {
          "output_type": "stream",
          "text": [
            "100/100 [==============================] - 5s 48ms/step - loss: 0.6622\n",
            "Evaluating model on 250 random 20-way one-shot learning tasks ...\n",
            "Got an average of 14.0% accuracy for 20-way one-shot learning\n",
            "\n",
            "=== Training loop 100 ===\n",
            "Epoch 1/1\n",
            "100/100 [==============================] - 5s 48ms/step - loss: 0.6587\n",
            "Evaluating model on 250 random 20-way one-shot learning tasks ...\n",
            "Got an average of 18.4% accuracy for 20-way one-shot learning\n",
            "Average one-shot accuracy: 14.039999999999994\n",
            "Final best one-shot accuracy: 20.8\n",
            "Final worst one-shot accuracy: 8.8\n"
          ],
          "name": "stdout"
        }
      ]
    },
    {
      "metadata": {
        "id": "MaivGyk_AVTY",
        "colab_type": "text"
      },
      "cell_type": "markdown",
      "source": [
        "1***\n",
        "\n",
        "**b)** Briefly motivate your model's architecture, as well as its performance. What accuracy would random guessing achieve (on average)?\n",
        "\n",
        "**Answer:**"
      ]
    },
    {
      "metadata": {
        "id": "lQVd8vHrAYEX",
        "colab_type": "text"
      },
      "cell_type": "markdown",
      "source": [
        "Code based on: https://sorenbouma.github.io/blog/oneshot/ and https://github.com/sorenbouma/keras-oneshot/blob/master/SiameseNet.ipynb, similar to the practical we included dropout and batch normalization to improve generalization and speed up training.\n",
        "\n",
        "It was adapted to have a smaller kernel size at all the different convolutional layers, because the input images are smaller than the Omniglot data.\n",
        "\n",
        "The convolutional layers were set to 4x4, 3x3, 2x2, 2x2 for the first, second, third, and fourth layer respectively initially, this already produced results well above random guessing (random guessing would result in a 5% accuracy) with an accuracy around 20%.\n",
        "\n",
        "After it was tried to increase the first convolutional layer to 5x5, increase the first convolutional layer to 5x5 and remove a MaxPool layer, and completely remove the 256 dimensional convolutional layer. All of these efforts resulted in a lower accuracy by a number of percentages, so the model was returned to its initial and final form.\n",
        "\n",
        "Average one-shot accuracy: 14.039999999999994\n",
        "\n",
        "Final best one-shot accuracy: 20.8\n",
        "\n",
        "Final worst one-shot accuracy: 8.8"
      ]
    },
    {
      "metadata": {
        "id": "COiAqXWDAgCe",
        "colab_type": "text"
      },
      "cell_type": "markdown",
      "source": [
        "***\n",
        "\n",
        "**c)** Compare the performance of your Siamese network for Cifar-100 to the Siamese network from Practical 4 for Omniglot. Name three fundamental differences between the Cifar-100 and Omniglot datasets. How do these differences influence the difference in one-shot accuracy?\n",
        "\n",
        "**Answer:**"
      ]
    },
    {
      "metadata": {
        "id": "IIHkoQ0PBWuB",
        "colab_type": "text"
      },
      "cell_type": "markdown",
      "source": [
        "*=== write your answer here ===*\n",
        "\n",
        "Omniglot has pictures of 105 by 105, higher quality than CIFAR-100 data, which has 32 by 32 images.\n",
        "\n",
        "Omniglot has a depth of 1, while the depth of CIFAR-100 has 3 (RGB) \n",
        "\n"
      ]
    },
    {
      "metadata": {
        "id": "VWpFF_5-Bf4B",
        "colab_type": "text"
      },
      "cell_type": "markdown",
      "source": [
        "***\n",
        "\n",
        "### Task 1.2: One-shot learning with neural codes\n",
        "**a)**\n",
        "* Train a CNN classifier on the first 80 classes of Cifar-100. Make sure it achieves at least 40% classification accuracy on those 80 classes (use the test set to validate this accuracy).\n",
        "* Then use neural codes from one of the later hidden layers of the CNN with L2-distance to evaluate one-shot learning accuracy for the remaining 20 classes of Cifar-100. I.e. for a given one-shot task, obtain neural codes for the test image as well as the support set. Then pick the image from the support set that is closest (in L2-distance) to the test image as your one-shot prediction."
      ]
    },
    {
      "metadata": {
        "id": "7pye2TLncvqp",
        "colab_type": "code",
        "colab": {
          "autoexec": {
            "startup": false,
            "wait_interval": 0
          },
          "base_uri": "https://localhost:8080/",
          "height": 170
        },
        "outputId": "227f527b-19d2-4a9e-8142-a6171ddc7ae1",
        "executionInfo": {
          "status": "ok",
          "timestamp": 1523356829540,
          "user_tz": -120,
          "elapsed": 407,
          "user": {
            "displayName": "Diederik W",
            "photoUrl": "https://lh3.googleusercontent.com/a/default-user=s128",
            "userId": "110096029821254087179"
          }
        }
      },
      "cell_type": "code",
      "source": [
        "print(x_train_sorted.shape)\n",
        "print(y_train_reshaped.shape)\n",
        "\n",
        "print(x_test_sorted.shape)\n",
        "print(y_test_reshaped.shape)\n",
        "\n",
        "print(\"example one-hot encoding:\", y_train_reshaped[0])"
      ],
      "execution_count": 21,
      "outputs": [
        {
          "output_type": "stream",
          "text": [
            "(50000, 32, 32, 3)\n",
            "(50000, 100)\n",
            "(10000, 32, 32, 3)\n",
            "(10000, 100)\n",
            "example one-hot encoding: [1. 0. 0. 0. 0. 0. 0. 0. 0. 0. 0. 0. 0. 0. 0. 0. 0. 0. 0. 0. 0. 0. 0. 0.\n",
            " 0. 0. 0. 0. 0. 0. 0. 0. 0. 0. 0. 0. 0. 0. 0. 0. 0. 0. 0. 0. 0. 0. 0. 0.\n",
            " 0. 0. 0. 0. 0. 0. 0. 0. 0. 0. 0. 0. 0. 0. 0. 0. 0. 0. 0. 0. 0. 0. 0. 0.\n",
            " 0. 0. 0. 0. 0. 0. 0. 0. 0. 0. 0. 0. 0. 0. 0. 0. 0. 0. 0. 0. 0. 0. 0. 0.\n",
            " 0. 0. 0. 0.]\n"
          ],
          "name": "stdout"
        }
      ]
    },
    {
      "metadata": {
        "id": "DwBcCdjCjbVP",
        "colab_type": "code",
        "colab": {
          "autoexec": {
            "startup": false,
            "wait_interval": 0
          },
          "base_uri": "https://localhost:8080/",
          "height": 748
        },
        "outputId": "483b809b-e855-43e7-d090-580fc4ba5b11",
        "executionInfo": {
          "status": "ok",
          "timestamp": 1523356830737,
          "user_tz": -120,
          "elapsed": 1083,
          "user": {
            "displayName": "Diederik W",
            "photoUrl": "https://lh3.googleusercontent.com/a/default-user=s128",
            "userId": "110096029821254087179"
          }
        }
      },
      "cell_type": "code",
      "source": [
        "model = Sequential()\n",
        "\n",
        "model.add(Conv2D(32, kernel_size=(3, 3), activation='relu', input_shape=input_shape))\n",
        "model.add(BatchNormalization())\n",
        "model.add(Dropout(0.2))\n",
        "model.add(Conv2D(32, kernel_size=(3, 3), activation='relu'))\n",
        "model.add(BatchNormalization())\n",
        "model.add(Dropout(0.2))\n",
        "model.add(Conv2D(64, kernel_size=(3, 3), activation='relu'))\n",
        "model.add(BatchNormalization())\n",
        "model.add(Dropout(0.2))\n",
        "model.add(Conv2D(128, kernel_size=(3, 3), activation='relu'))\n",
        "model.add(MaxPooling2D(pool_size=(2, 2)))\n",
        "model.add(BatchNormalization())\n",
        "model.add(Dropout(0.2))\n",
        "\n",
        "\n",
        "model.add(Flatten())\n",
        "model.add(Dense(256, activation='relu', name=\"neural_codes\"))\n",
        "model.add(BatchNormalization())\n",
        "model.add(Dropout(0.2))\n",
        "model.add(Dense(n_classes, activation='softmax'))\n",
        "\n",
        "model.summary()\n",
        "\n",
        "model.compile(optimizer=\"adam\", loss=\"categorical_crossentropy\", metrics=[\"accuracy\"])"
      ],
      "execution_count": 22,
      "outputs": [
        {
          "output_type": "stream",
          "text": [
            "_________________________________________________________________\n",
            "Layer (type)                 Output Shape              Param #   \n",
            "=================================================================\n",
            "conv2d_5 (Conv2D)            (None, 30, 30, 32)        896       \n",
            "_________________________________________________________________\n",
            "batch_normalization_6 (Batch (None, 30, 30, 32)        128       \n",
            "_________________________________________________________________\n",
            "dropout_6 (Dropout)          (None, 30, 30, 32)        0         \n",
            "_________________________________________________________________\n",
            "conv2d_6 (Conv2D)            (None, 28, 28, 32)        9248      \n",
            "_________________________________________________________________\n",
            "batch_normalization_7 (Batch (None, 28, 28, 32)        128       \n",
            "_________________________________________________________________\n",
            "dropout_7 (Dropout)          (None, 28, 28, 32)        0         \n",
            "_________________________________________________________________\n",
            "conv2d_7 (Conv2D)            (None, 26, 26, 64)        18496     \n",
            "_________________________________________________________________\n",
            "batch_normalization_8 (Batch (None, 26, 26, 64)        256       \n",
            "_________________________________________________________________\n",
            "dropout_8 (Dropout)          (None, 26, 26, 64)        0         \n",
            "_________________________________________________________________\n",
            "conv2d_8 (Conv2D)            (None, 24, 24, 128)       73856     \n",
            "_________________________________________________________________\n",
            "max_pooling2d_2 (MaxPooling2 (None, 12, 12, 128)       0         \n",
            "_________________________________________________________________\n",
            "batch_normalization_9 (Batch (None, 12, 12, 128)       512       \n",
            "_________________________________________________________________\n",
            "dropout_9 (Dropout)          (None, 12, 12, 128)       0         \n",
            "_________________________________________________________________\n",
            "flatten_2 (Flatten)          (None, 18432)             0         \n",
            "_________________________________________________________________\n",
            "neural_codes (Dense)         (None, 256)               4718848   \n",
            "_________________________________________________________________\n",
            "batch_normalization_10 (Batc (None, 256)               1024      \n",
            "_________________________________________________________________\n",
            "dropout_10 (Dropout)         (None, 256)               0         \n",
            "_________________________________________________________________\n",
            "dense_2 (Dense)              (None, 100)               25700     \n",
            "=================================================================\n",
            "Total params: 4,849,092\n",
            "Trainable params: 4,848,068\n",
            "Non-trainable params: 1,024\n",
            "_________________________________________________________________\n"
          ],
          "name": "stdout"
        }
      ]
    },
    {
      "metadata": {
        "id": "xTbDkhmhlNr1",
        "colab_type": "code",
        "colab": {
          "autoexec": {
            "startup": false,
            "wait_interval": 0
          },
          "base_uri": "https://localhost:8080/",
          "height": 751
        },
        "outputId": "e287143f-102b-4de0-84d6-a994c311e79e",
        "executionInfo": {
          "status": "ok",
          "timestamp": 1523357428219,
          "user_tz": -120,
          "elapsed": 576846,
          "user": {
            "displayName": "Diederik W",
            "photoUrl": "https://lh3.googleusercontent.com/a/default-user=s128",
            "userId": "110096029821254087179"
          }
        }
      },
      "cell_type": "code",
      "source": [
        "batch_size = 100\n",
        "epochs = 20\n",
        "\n",
        "model.fit(x_train_sorted[:40000], y_train_reshaped[:40000],\n",
        "          batch_size=batch_size,\n",
        "          epochs=epochs,\n",
        "          validation_split=0.1)"
      ],
      "execution_count": 24,
      "outputs": [
        {
          "output_type": "stream",
          "text": [
            "Train on 36000 samples, validate on 4000 samples\n",
            "Epoch 1/20\n",
            "36000/36000 [==============================] - 31s 863us/step - loss: 3.3204 - acc: 0.2217 - val_loss: 7.1558 - val_acc: 0.0000e+00\n",
            "Epoch 2/20\n",
            "16700/36000 [============>.................] - ETA: 14s - loss: 2.4374 - acc: 0.3745"
          ],
          "name": "stdout"
        },
        {
          "output_type": "stream",
          "text": [
            "36000/36000 [==============================] - 29s 798us/step - loss: 2.3850 - acc: 0.3830 - val_loss: 8.1239 - val_acc: 0.0000e+00\n",
            "Epoch 3/20\n",
            "36000/36000 [==============================] - 29s 800us/step - loss: 1.9233 - acc: 0.4836 - val_loss: 9.1782 - val_acc: 0.0000e+00\n",
            "Epoch 4/20\n",
            "  500/36000 [..............................] - ETA: 28s - loss: 1.4665 - acc: 0.6040"
          ],
          "name": "stdout"
        },
        {
          "output_type": "stream",
          "text": [
            "36000/36000 [==============================] - 29s 796us/step - loss: 1.5555 - acc: 0.5755 - val_loss: 9.5480 - val_acc: 0.0000e+00\n",
            "Epoch 5/20\n",
            "30900/36000 [========================>.....] - ETA: 3s - loss: 1.1848 - acc: 0.6660"
          ],
          "name": "stdout"
        },
        {
          "output_type": "stream",
          "text": [
            "36000/36000 [==============================] - 29s 794us/step - loss: 1.2043 - acc: 0.6593 - val_loss: 10.6269 - val_acc: 0.0000e+00\n",
            "Epoch 6/20\n",
            "36000/36000 [==============================] - 29s 794us/step - loss: 0.8682 - acc: 0.7546 - val_loss: 11.2377 - val_acc: 0.0000e+00\n",
            "Epoch 7/20\n",
            " 3600/36000 [==>...........................] - ETA: 25s - loss: 0.5254 - acc: 0.8586"
          ],
          "name": "stdout"
        },
        {
          "output_type": "stream",
          "text": [
            "36000/36000 [==============================] - 29s 799us/step - loss: 0.6071 - acc: 0.8261 - val_loss: 11.5075 - val_acc: 0.0000e+00\n",
            "Epoch 8/20\n",
            "31900/36000 [=========================>....] - ETA: 3s - loss: 0.4216 - acc: 0.8775"
          ],
          "name": "stdout"
        },
        {
          "output_type": "stream",
          "text": [
            "36000/36000 [==============================] - 29s 795us/step - loss: 0.4334 - acc: 0.8732 - val_loss: 12.5070 - val_acc: 0.0000e+00\n",
            "Epoch 9/20\n",
            "36000/36000 [==============================] - 29s 792us/step - loss: 0.3332 - acc: 0.9009 - val_loss: 12.7967 - val_acc: 0.0000e+00\n",
            "Epoch 10/20\n",
            " 3800/36000 [==>...........................] - ETA: 25s - loss: 0.2325 - acc: 0.9321"
          ],
          "name": "stdout"
        },
        {
          "output_type": "stream",
          "text": [
            "36000/36000 [==============================] - 29s 797us/step - loss: 0.2724 - acc: 0.9180 - val_loss: 13.1964 - val_acc: 0.0000e+00\n",
            "Epoch 11/20\n",
            "31800/36000 [=========================>....] - ETA: 3s - loss: 0.2347 - acc: 0.9278"
          ],
          "name": "stdout"
        },
        {
          "output_type": "stream",
          "text": [
            "36000/36000 [==============================] - 29s 795us/step - loss: 0.2424 - acc: 0.9250 - val_loss: 13.4478 - val_acc: 0.0000e+00\n",
            "Epoch 12/20\n",
            "36000/36000 [==============================] - 29s 796us/step - loss: 0.2082 - acc: 0.9348 - val_loss: 13.1033 - val_acc: 0.0000e+00\n",
            "Epoch 13/20\n",
            " 3700/36000 [==>...........................] - ETA: 24s - loss: 0.1521 - acc: 0.9530"
          ],
          "name": "stdout"
        },
        {
          "output_type": "stream",
          "text": [
            "36000/36000 [==============================] - 29s 795us/step - loss: 0.1931 - acc: 0.9384 - val_loss: 13.8590 - val_acc: 0.0000e+00\n",
            "Epoch 14/20\n",
            "31800/36000 [=========================>....] - ETA: 3s - loss: 0.1788 - acc: 0.9442"
          ],
          "name": "stdout"
        },
        {
          "output_type": "stream",
          "text": [
            "36000/36000 [==============================] - 29s 795us/step - loss: 0.1831 - acc: 0.9428 - val_loss: 13.7568 - val_acc: 0.0000e+00\n",
            "Epoch 15/20\n",
            "36000/36000 [==============================] - 29s 796us/step - loss: 0.1716 - acc: 0.9450 - val_loss: 14.1842 - val_acc: 0.0000e+00\n",
            "Epoch 16/20\n",
            " 3700/36000 [==>...........................] - ETA: 25s - loss: 0.1389 - acc: 0.9551"
          ],
          "name": "stdout"
        },
        {
          "output_type": "stream",
          "text": [
            "36000/36000 [==============================] - 29s 795us/step - loss: 0.1644 - acc: 0.9479 - val_loss: 14.2157 - val_acc: 0.0000e+00\n",
            "Epoch 17/20\n",
            "31800/36000 [=========================>....] - ETA: 3s - loss: 0.1499 - acc: 0.9524"
          ],
          "name": "stdout"
        },
        {
          "output_type": "stream",
          "text": [
            "36000/36000 [==============================] - 29s 795us/step - loss: 0.1542 - acc: 0.9509 - val_loss: 14.0692 - val_acc: 0.0000e+00\n",
            "Epoch 18/20\n",
            "36000/36000 [==============================] - 29s 794us/step - loss: 0.1484 - acc: 0.9523 - val_loss: 14.0389 - val_acc: 0.0000e+00\n",
            "Epoch 19/20\n",
            " 3700/36000 [==>...........................] - ETA: 24s - loss: 0.1303 - acc: 0.9565"
          ],
          "name": "stdout"
        },
        {
          "output_type": "stream",
          "text": [
            "36000/36000 [==============================] - 29s 796us/step - loss: 0.1380 - acc: 0.9566 - val_loss: 14.5010 - val_acc: 0.0000e+00\n",
            "Epoch 20/20\n",
            "31800/36000 [=========================>....] - ETA: 3s - loss: 0.1227 - acc: 0.9595"
          ],
          "name": "stdout"
        },
        {
          "output_type": "stream",
          "text": [
            "36000/36000 [==============================] - 29s 794us/step - loss: 0.1249 - acc: 0.9588 - val_loss: 14.6845 - val_acc: 0.0000e+00\n"
          ],
          "name": "stdout"
        },
        {
          "output_type": "execute_result",
          "data": {
            "text/plain": [
              "<keras.callbacks.History at 0x7facece6d128>"
            ]
          },
          "metadata": {
            "tags": []
          },
          "execution_count": 24
        }
      ]
    },
    {
      "metadata": {
        "id": "PR7d4tLQmaYr",
        "colab_type": "code",
        "colab": {
          "autoexec": {
            "startup": false,
            "wait_interval": 0
          },
          "base_uri": "https://localhost:8080/",
          "height": 51
        },
        "outputId": "3b1d2b15-7520-426b-da4f-362a067565fb",
        "executionInfo": {
          "status": "ok",
          "timestamp": 1523357475424,
          "user_tz": -120,
          "elapsed": 2924,
          "user": {
            "displayName": "Diederik W",
            "photoUrl": "https://lh3.googleusercontent.com/a/default-user=s128",
            "userId": "110096029821254087179"
          }
        }
      },
      "cell_type": "code",
      "source": [
        "loss, accuracy = model.evaluate(x_test_sorted[:8000], y_test_reshaped[:8000], verbose=0)\n",
        "\n",
        "print('Test loss:', loss)\n",
        "print('Test accuracy:', accuracy)"
      ],
      "execution_count": 26,
      "outputs": [
        {
          "output_type": "stream",
          "text": [
            "Test loss: 4.397154795885086\n",
            "Test accuracy: 0.417375\n"
          ],
          "name": "stdout"
        }
      ]
    },
    {
      "metadata": {
        "id": "qUj3DxaqMn8j",
        "colab_type": "text"
      },
      "cell_type": "markdown",
      "source": [
        "Test loss: 2.4939483386993406\n",
        "Test accuracy: 0.3731\n",
        "\n",
        "dropout 025: \n",
        "Test loss: 3.3200662326812744\n",
        "Test accuracy: 0.3849\n",
        "\n",
        "dropout 0.25+extra 16 layer: \n",
        "Test loss: 3.1162593254089357\n",
        "Test accuracy: 0.3892\n",
        "\n",
        "dropout 0.2 + extra 16 layer:\n",
        "Test loss: 4.177343496441841\n",
        "Test accuracy: 0.398\n",
        "\n",
        "same (32, 32, 64, 128, 256):\n",
        "Test loss: 4.397154795885086\n",
        "Test accuracy: 0.417375"
      ]
    },
    {
      "metadata": {
        "id": "mjy9K1xUspcV",
        "colab_type": "text"
      },
      "cell_type": "markdown",
      "source": [
        "Then use neural codes from one of the later hidden layers of the CNN with L2-distance to evaluate one-shot learning accuracy for the remaining 20 classes of Cifar-100. I.e. for a given one-shot task, obtain neural codes for the test image as well as the support set. Then pick the image from the support set that is closest (in L2-distance) to the test image as your one-shot prediction.\n",
        "\n",
        "def test_oneshot\n",
        "\n",
        "L2 met nearest neighbor toepassen\n",
        "\n"
      ]
    },
    {
      "metadata": {
        "id": "RBGqNWE0mkVg",
        "colab_type": "code",
        "colab": {
          "autoexec": {
            "startup": false,
            "wait_interval": 0
          }
        }
      },
      "cell_type": "code",
      "source": [
        "from sklearn.neighbors import NearestNeighbors\n",
        "n_classes = 100\n",
        "\n",
        "def make_oneshot_task_cnn(N, X):\n",
        "    \"\"\"Create pairs of (test image, support set image) with ground truth, for testing N-way one-shot learning.\"\"\"\n",
        "    n_examples, w, h, d = X.shape\n",
        "    indices = np.random.randint(0, n_examples, size=(N,))\n",
        "    \n",
        "    # pick a bunch of random labels\n",
        "    categories = np.random.choice(range(n_classes), size=(N,), replace=False)            \n",
        "    \n",
        "    true_category = categories[0]\n",
        "    ex1, ex2 = np.random.choice(n_examples, replace=False, size=(2,))\n",
        "    test_image = np.asarray([X[ex1, :, :]]*N).reshape(N, w, h, d)\n",
        "    support_set = X[indices, :, :]\n",
        "    support_set[0, :, :] = X[ex2]\n",
        "    support_set = support_set.reshape(N, w, h, d)\n",
        "    targets = np.zeros((N,))\n",
        "    targets[0] = 1\n",
        "    targets, test_image, support_set = shuffle(targets, test_image, support_set)\n",
        "    pairs = [test_image, support_set]\n",
        "    return pairs, targets\n",
        "  \n",
        "def test_oneshot_cnn(model, X, N=20, k=250, verbose=True):\n",
        "    \"\"\"Test average N-way oneshot learning accuracy of a convolutional neural net over k one-shot tasks.\"\"\"\n",
        "    n_correct = 0\n",
        "    neigh = NearestNeighbors(n_neighbors=1, p=2)\n",
        "    if verbose:\n",
        "        print(\"Evaluating model on {} random {}-way one-shot learning tasks ...\".format(k, N))\n",
        "    for i in range(k):\n",
        "        inputs, targets = make_oneshot_task_cnn(N, X)\n",
        "        test_image = np.array([inputs[0][0]])\n",
        "        support_set = inputs[1]\n",
        "        test_image_code = model.predict(test_image)\n",
        "        support_set_codes = model.predict(support_set)\n",
        "        \n",
        "        neigh.fit(support_set_codes)\n",
        "        nn = neigh.kneighbors(test_image_code)\n",
        "        \n",
        "        nn_index = nn[1][0][0]\n",
        "        if nn_index == np.argmax(targets):\n",
        "          n_correct += 1\n",
        "    percent_correct = (100.0*n_correct / k)\n",
        "    if verbose:\n",
        "        print(\"Got an average of {}% accuracy for {}-way one-shot learning\".format(percent_correct, N))\n",
        "    return percent_correct"
      ],
      "execution_count": 0,
      "outputs": []
    },
    {
      "metadata": {
        "id": "dMXEfXXXJpE2",
        "colab_type": "code",
        "colab": {
          "autoexec": {
            "startup": false,
            "wait_interval": 0
          },
          "base_uri": "https://localhost:8080/",
          "height": 7004
        },
        "outputId": "1ae25be3-94b1-4483-c823-a11740fba642",
        "executionInfo": {
          "status": "ok",
          "timestamp": 1523358483464,
          "user_tz": -120,
          "elapsed": 325190,
          "user": {
            "displayName": "Diederik W",
            "photoUrl": "https://lh3.googleusercontent.com/a/default-user=s128",
            "userId": "110096029821254087179"
          }
        }
      },
      "cell_type": "code",
      "source": [
        "neural_codes = Model(inputs=model.input, outputs=model.get_layer(\"neural_codes\").output)\n",
        "\n",
        "loops = 100\n",
        "best_acc = 0\n",
        "worst_acc = 100\n",
        "av_acc = 0\n",
        "\n",
        "for i in range(loops):\n",
        "    print(\"\\n=== Training loop {} ===\".format(i+1))\n",
        "    #train(siamese_net, x_train_reshaped[:80])\n",
        "    test_acc = test_oneshot_cnn(neural_codes, x_train_sorted[40000:])\n",
        "    av_acc = av_acc + test_acc\n",
        "    if test_acc >= best_acc:\n",
        "        print(\"New best one-shot accuracy: \" + str(test_acc))\n",
        "        best_acc = test_acc\n",
        "    if test_acc < worst_acc:\n",
        "        print(\"New worst one-shot accuracy: \" + str(test_acc))\n",
        "        worst_acc = test_acc\n",
        "        \n",
        "av_acc = av_acc/loops\n",
        "\n",
        "print(\"Average one-shot accuracy: \" + str(av_acc))\n",
        "print(\"Final best one-shot accuracy: \" + str(best_acc))\n",
        "print(\"Final worst one-shot accuracy: \" + str(worst_acc))"
      ],
      "execution_count": 39,
      "outputs": [
        {
          "output_type": "stream",
          "text": [
            "\n",
            "=== Training loop 1 ===\n",
            "Evaluating model on 250 random 20-way one-shot learning tasks ...\n",
            "Got an average of 6.4% accuracy for 20-way one-shot learning\n",
            "New best one-shot accuracy: 6.4\n",
            "New worst one-shot accuracy: 6.4\n",
            "\n",
            "=== Training loop 2 ===\n",
            "Evaluating model on 250 random 20-way one-shot learning tasks ...\n",
            "Got an average of 5.2% accuracy for 20-way one-shot learning\n",
            "New worst one-shot accuracy: 5.2\n",
            "\n",
            "=== Training loop 3 ===\n",
            "Evaluating model on 250 random 20-way one-shot learning tasks ...\n",
            "Got an average of 2.0% accuracy for 20-way one-shot learning\n",
            "New worst one-shot accuracy: 2.0\n",
            "\n",
            "=== Training loop 4 ===\n",
            "Evaluating model on 250 random 20-way one-shot learning tasks ...\n",
            "Got an average of 5.2% accuracy for 20-way one-shot learning\n",
            "\n",
            "=== Training loop 5 ===\n",
            "Evaluating model on 250 random 20-way one-shot learning tasks ...\n",
            "Got an average of 2.8% accuracy for 20-way one-shot learning\n",
            "\n",
            "=== Training loop 6 ===\n",
            "Evaluating model on 250 random 20-way one-shot learning tasks ...\n",
            "Got an average of 3.6% accuracy for 20-way one-shot learning\n",
            "\n",
            "=== Training loop 7 ===\n",
            "Evaluating model on 250 random 20-way one-shot learning tasks ...\n",
            "Got an average of 4.4% accuracy for 20-way one-shot learning\n",
            "\n",
            "=== Training loop 8 ===\n",
            "Evaluating model on 250 random 20-way one-shot learning tasks ...\n",
            "Got an average of 6.0% accuracy for 20-way one-shot learning\n",
            "\n",
            "=== Training loop 9 ===\n",
            "Evaluating model on 250 random 20-way one-shot learning tasks ...\n",
            "Got an average of 5.2% accuracy for 20-way one-shot learning\n",
            "\n",
            "=== Training loop 10 ===\n",
            "Evaluating model on 250 random 20-way one-shot learning tasks ...\n",
            "Got an average of 4.8% accuracy for 20-way one-shot learning\n",
            "\n",
            "=== Training loop 11 ===\n",
            "Evaluating model on 250 random 20-way one-shot learning tasks ...\n",
            "Got an average of 5.2% accuracy for 20-way one-shot learning\n",
            "\n",
            "=== Training loop 12 ===\n",
            "Evaluating model on 250 random 20-way one-shot learning tasks ...\n",
            "Got an average of 4.0% accuracy for 20-way one-shot learning\n",
            "\n",
            "=== Training loop 13 ===\n",
            "Evaluating model on 250 random 20-way one-shot learning tasks ...\n",
            "Got an average of 5.2% accuracy for 20-way one-shot learning\n",
            "\n",
            "=== Training loop 14 ===\n",
            "Evaluating model on 250 random 20-way one-shot learning tasks ...\n",
            "Got an average of 3.6% accuracy for 20-way one-shot learning\n",
            "\n",
            "=== Training loop 15 ===\n",
            "Evaluating model on 250 random 20-way one-shot learning tasks ...\n",
            "Got an average of 7.2% accuracy for 20-way one-shot learning\n",
            "New best one-shot accuracy: 7.2\n",
            "\n",
            "=== Training loop 16 ===\n",
            "Evaluating model on 250 random 20-way one-shot learning tasks ...\n",
            "Got an average of 6.8% accuracy for 20-way one-shot learning\n",
            "\n",
            "=== Training loop 17 ===\n",
            "Evaluating model on 250 random 20-way one-shot learning tasks ...\n",
            "Got an average of 5.2% accuracy for 20-way one-shot learning\n",
            "\n",
            "=== Training loop 18 ===\n",
            "Evaluating model on 250 random 20-way one-shot learning tasks ...\n",
            "Got an average of 6.8% accuracy for 20-way one-shot learning\n",
            "\n",
            "=== Training loop 19 ===\n",
            "Evaluating model on 250 random 20-way one-shot learning tasks ...\n",
            "Got an average of 6.8% accuracy for 20-way one-shot learning\n",
            "\n",
            "=== Training loop 20 ===\n",
            "Evaluating model on 250 random 20-way one-shot learning tasks ...\n",
            "Got an average of 3.2% accuracy for 20-way one-shot learning\n",
            "\n",
            "=== Training loop 21 ===\n",
            "Evaluating model on 250 random 20-way one-shot learning tasks ...\n",
            "Got an average of 5.2% accuracy for 20-way one-shot learning\n",
            "\n",
            "=== Training loop 22 ===\n",
            "Evaluating model on 250 random 20-way one-shot learning tasks ...\n",
            "Got an average of 5.6% accuracy for 20-way one-shot learning\n",
            "\n",
            "=== Training loop 23 ===\n",
            "Evaluating model on 250 random 20-way one-shot learning tasks ...\n",
            "Got an average of 5.6% accuracy for 20-way one-shot learning\n",
            "\n",
            "=== Training loop 24 ===\n",
            "Evaluating model on 250 random 20-way one-shot learning tasks ...\n",
            "Got an average of 4.8% accuracy for 20-way one-shot learning\n",
            "\n",
            "=== Training loop 25 ===\n",
            "Evaluating model on 250 random 20-way one-shot learning tasks ...\n",
            "Got an average of 4.0% accuracy for 20-way one-shot learning\n",
            "\n",
            "=== Training loop 26 ===\n",
            "Evaluating model on 250 random 20-way one-shot learning tasks ...\n",
            "Got an average of 6.0% accuracy for 20-way one-shot learning\n",
            "\n",
            "=== Training loop 27 ===\n",
            "Evaluating model on 250 random 20-way one-shot learning tasks ...\n",
            "Got an average of 5.2% accuracy for 20-way one-shot learning\n",
            "\n",
            "=== Training loop 28 ===\n",
            "Evaluating model on 250 random 20-way one-shot learning tasks ...\n",
            "Got an average of 2.8% accuracy for 20-way one-shot learning\n",
            "\n",
            "=== Training loop 29 ===\n",
            "Evaluating model on 250 random 20-way one-shot learning tasks ...\n",
            "Got an average of 4.4% accuracy for 20-way one-shot learning\n",
            "\n",
            "=== Training loop 30 ===\n",
            "Evaluating model on 250 random 20-way one-shot learning tasks ...\n",
            "Got an average of 6.0% accuracy for 20-way one-shot learning\n",
            "\n",
            "=== Training loop 31 ===\n",
            "Evaluating model on 250 random 20-way one-shot learning tasks ...\n",
            "Got an average of 5.2% accuracy for 20-way one-shot learning\n",
            "\n",
            "=== Training loop 32 ===\n",
            "Evaluating model on 250 random 20-way one-shot learning tasks ...\n",
            "Got an average of 6.8% accuracy for 20-way one-shot learning\n",
            "\n",
            "=== Training loop 33 ===\n",
            "Evaluating model on 250 random 20-way one-shot learning tasks ...\n",
            "Got an average of 6.0% accuracy for 20-way one-shot learning\n",
            "\n",
            "=== Training loop 34 ===\n",
            "Evaluating model on 250 random 20-way one-shot learning tasks ...\n",
            "Got an average of 6.0% accuracy for 20-way one-shot learning\n",
            "\n",
            "=== Training loop 35 ===\n",
            "Evaluating model on 250 random 20-way one-shot learning tasks ...\n"
          ],
          "name": "stdout"
        },
        {
          "output_type": "stream",
          "text": [
            "Got an average of 4.4% accuracy for 20-way one-shot learning\n",
            "\n",
            "=== Training loop 36 ===\n",
            "Evaluating model on 250 random 20-way one-shot learning tasks ...\n",
            "Got an average of 6.8% accuracy for 20-way one-shot learning\n",
            "\n",
            "=== Training loop 37 ===\n",
            "Evaluating model on 250 random 20-way one-shot learning tasks ...\n",
            "Got an average of 3.2% accuracy for 20-way one-shot learning\n",
            "\n",
            "=== Training loop 38 ===\n",
            "Evaluating model on 250 random 20-way one-shot learning tasks ...\n",
            "Got an average of 4.4% accuracy for 20-way one-shot learning\n",
            "\n",
            "=== Training loop 39 ===\n",
            "Evaluating model on 250 random 20-way one-shot learning tasks ...\n",
            "Got an average of 4.8% accuracy for 20-way one-shot learning\n",
            "\n",
            "=== Training loop 40 ===\n",
            "Evaluating model on 250 random 20-way one-shot learning tasks ...\n",
            "Got an average of 4.8% accuracy for 20-way one-shot learning\n",
            "\n",
            "=== Training loop 41 ===\n",
            "Evaluating model on 250 random 20-way one-shot learning tasks ...\n",
            "Got an average of 6.4% accuracy for 20-way one-shot learning\n",
            "\n",
            "=== Training loop 42 ===\n",
            "Evaluating model on 250 random 20-way one-shot learning tasks ...\n",
            "Got an average of 4.0% accuracy for 20-way one-shot learning\n",
            "\n",
            "=== Training loop 43 ===\n",
            "Evaluating model on 250 random 20-way one-shot learning tasks ...\n",
            "Got an average of 4.8% accuracy for 20-way one-shot learning\n",
            "\n",
            "=== Training loop 44 ===\n",
            "Evaluating model on 250 random 20-way one-shot learning tasks ...\n",
            "Got an average of 6.4% accuracy for 20-way one-shot learning\n",
            "\n",
            "=== Training loop 45 ===\n",
            "Evaluating model on 250 random 20-way one-shot learning tasks ...\n",
            "Got an average of 3.6% accuracy for 20-way one-shot learning\n",
            "\n",
            "=== Training loop 46 ===\n",
            "Evaluating model on 250 random 20-way one-shot learning tasks ...\n",
            "Got an average of 3.6% accuracy for 20-way one-shot learning\n",
            "\n",
            "=== Training loop 47 ===\n",
            "Evaluating model on 250 random 20-way one-shot learning tasks ...\n",
            "Got an average of 7.6% accuracy for 20-way one-shot learning\n",
            "New best one-shot accuracy: 7.6\n",
            "\n",
            "=== Training loop 48 ===\n",
            "Evaluating model on 250 random 20-way one-shot learning tasks ...\n",
            "Got an average of 3.6% accuracy for 20-way one-shot learning\n",
            "\n",
            "=== Training loop 49 ===\n",
            "Evaluating model on 250 random 20-way one-shot learning tasks ...\n",
            "Got an average of 7.2% accuracy for 20-way one-shot learning\n",
            "\n",
            "=== Training loop 50 ===\n",
            "Evaluating model on 250 random 20-way one-shot learning tasks ...\n",
            "Got an average of 4.0% accuracy for 20-way one-shot learning\n",
            "\n",
            "=== Training loop 51 ===\n",
            "Evaluating model on 250 random 20-way one-shot learning tasks ...\n",
            "Got an average of 6.4% accuracy for 20-way one-shot learning\n",
            "\n",
            "=== Training loop 52 ===\n",
            "Evaluating model on 250 random 20-way one-shot learning tasks ...\n",
            "Got an average of 6.0% accuracy for 20-way one-shot learning\n",
            "\n",
            "=== Training loop 53 ===\n",
            "Evaluating model on 250 random 20-way one-shot learning tasks ...\n",
            "Got an average of 6.0% accuracy for 20-way one-shot learning\n",
            "\n",
            "=== Training loop 54 ===\n",
            "Evaluating model on 250 random 20-way one-shot learning tasks ...\n",
            "Got an average of 5.6% accuracy for 20-way one-shot learning\n",
            "\n",
            "=== Training loop 55 ===\n",
            "Evaluating model on 250 random 20-way one-shot learning tasks ...\n",
            "Got an average of 5.6% accuracy for 20-way one-shot learning\n",
            "\n",
            "=== Training loop 56 ===\n",
            "Evaluating model on 250 random 20-way one-shot learning tasks ...\n",
            "Got an average of 8.4% accuracy for 20-way one-shot learning\n",
            "New best one-shot accuracy: 8.4\n",
            "\n",
            "=== Training loop 57 ===\n",
            "Evaluating model on 250 random 20-way one-shot learning tasks ...\n",
            "Got an average of 5.6% accuracy for 20-way one-shot learning\n",
            "\n",
            "=== Training loop 58 ===\n",
            "Evaluating model on 250 random 20-way one-shot learning tasks ...\n",
            "Got an average of 4.8% accuracy for 20-way one-shot learning\n",
            "\n",
            "=== Training loop 59 ===\n",
            "Evaluating model on 250 random 20-way one-shot learning tasks ...\n",
            "Got an average of 6.0% accuracy for 20-way one-shot learning\n",
            "\n",
            "=== Training loop 60 ===\n",
            "Evaluating model on 250 random 20-way one-shot learning tasks ...\n",
            "Got an average of 10.0% accuracy for 20-way one-shot learning\n",
            "New best one-shot accuracy: 10.0\n",
            "\n",
            "=== Training loop 61 ===\n",
            "Evaluating model on 250 random 20-way one-shot learning tasks ...\n",
            "Got an average of 4.4% accuracy for 20-way one-shot learning\n",
            "\n",
            "=== Training loop 62 ===\n",
            "Evaluating model on 250 random 20-way one-shot learning tasks ...\n",
            "Got an average of 2.4% accuracy for 20-way one-shot learning\n",
            "\n",
            "=== Training loop 63 ===\n",
            "Evaluating model on 250 random 20-way one-shot learning tasks ...\n",
            "Got an average of 4.0% accuracy for 20-way one-shot learning\n",
            "\n",
            "=== Training loop 64 ===\n",
            "Evaluating model on 250 random 20-way one-shot learning tasks ...\n",
            "Got an average of 5.6% accuracy for 20-way one-shot learning\n",
            "\n",
            "=== Training loop 65 ===\n",
            "Evaluating model on 250 random 20-way one-shot learning tasks ...\n",
            "Got an average of 4.8% accuracy for 20-way one-shot learning\n",
            "\n",
            "=== Training loop 66 ===\n",
            "Evaluating model on 250 random 20-way one-shot learning tasks ...\n",
            "Got an average of 5.2% accuracy for 20-way one-shot learning\n",
            "\n",
            "=== Training loop 67 ===\n",
            "Evaluating model on 250 random 20-way one-shot learning tasks ...\n",
            "Got an average of 4.8% accuracy for 20-way one-shot learning\n",
            "\n",
            "=== Training loop 68 ===\n",
            "Evaluating model on 250 random 20-way one-shot learning tasks ...\n",
            "Got an average of 6.0% accuracy for 20-way one-shot learning\n",
            "\n",
            "=== Training loop 69 ===\n",
            "Evaluating model on 250 random 20-way one-shot learning tasks ...\n",
            "Got an average of 3.2% accuracy for 20-way one-shot learning\n",
            "\n",
            "=== Training loop 70 ===\n",
            "Evaluating model on 250 random 20-way one-shot learning tasks ...\n"
          ],
          "name": "stdout"
        },
        {
          "output_type": "stream",
          "text": [
            "Got an average of 4.8% accuracy for 20-way one-shot learning\n",
            "\n",
            "=== Training loop 71 ===\n",
            "Evaluating model on 250 random 20-way one-shot learning tasks ...\n",
            "Got an average of 4.4% accuracy for 20-way one-shot learning\n",
            "\n",
            "=== Training loop 72 ===\n",
            "Evaluating model on 250 random 20-way one-shot learning tasks ...\n",
            "Got an average of 4.8% accuracy for 20-way one-shot learning\n",
            "\n",
            "=== Training loop 73 ===\n",
            "Evaluating model on 250 random 20-way one-shot learning tasks ...\n",
            "Got an average of 6.8% accuracy for 20-way one-shot learning\n",
            "\n",
            "=== Training loop 74 ===\n",
            "Evaluating model on 250 random 20-way one-shot learning tasks ...\n",
            "Got an average of 5.2% accuracy for 20-way one-shot learning\n",
            "\n",
            "=== Training loop 75 ===\n",
            "Evaluating model on 250 random 20-way one-shot learning tasks ...\n",
            "Got an average of 6.8% accuracy for 20-way one-shot learning\n",
            "\n",
            "=== Training loop 76 ===\n",
            "Evaluating model on 250 random 20-way one-shot learning tasks ...\n",
            "Got an average of 4.4% accuracy for 20-way one-shot learning\n",
            "\n",
            "=== Training loop 77 ===\n",
            "Evaluating model on 250 random 20-way one-shot learning tasks ...\n",
            "Got an average of 2.4% accuracy for 20-way one-shot learning\n",
            "\n",
            "=== Training loop 78 ===\n",
            "Evaluating model on 250 random 20-way one-shot learning tasks ...\n",
            "Got an average of 7.6% accuracy for 20-way one-shot learning\n",
            "\n",
            "=== Training loop 79 ===\n",
            "Evaluating model on 250 random 20-way one-shot learning tasks ...\n",
            "Got an average of 4.8% accuracy for 20-way one-shot learning\n",
            "\n",
            "=== Training loop 80 ===\n",
            "Evaluating model on 250 random 20-way one-shot learning tasks ...\n",
            "Got an average of 6.4% accuracy for 20-way one-shot learning\n",
            "\n",
            "=== Training loop 81 ===\n",
            "Evaluating model on 250 random 20-way one-shot learning tasks ...\n",
            "Got an average of 2.8% accuracy for 20-way one-shot learning\n",
            "\n",
            "=== Training loop 82 ===\n",
            "Evaluating model on 250 random 20-way one-shot learning tasks ...\n",
            "Got an average of 3.6% accuracy for 20-way one-shot learning\n",
            "\n",
            "=== Training loop 83 ===\n",
            "Evaluating model on 250 random 20-way one-shot learning tasks ...\n",
            "Got an average of 3.2% accuracy for 20-way one-shot learning\n",
            "\n",
            "=== Training loop 84 ===\n",
            "Evaluating model on 250 random 20-way one-shot learning tasks ...\n",
            "Got an average of 8.0% accuracy for 20-way one-shot learning\n",
            "\n",
            "=== Training loop 85 ===\n",
            "Evaluating model on 250 random 20-way one-shot learning tasks ...\n",
            "Got an average of 6.4% accuracy for 20-way one-shot learning\n",
            "\n",
            "=== Training loop 86 ===\n",
            "Evaluating model on 250 random 20-way one-shot learning tasks ...\n",
            "Got an average of 7.2% accuracy for 20-way one-shot learning\n",
            "\n",
            "=== Training loop 87 ===\n",
            "Evaluating model on 250 random 20-way one-shot learning tasks ...\n",
            "Got an average of 3.6% accuracy for 20-way one-shot learning\n",
            "\n",
            "=== Training loop 88 ===\n",
            "Evaluating model on 250 random 20-way one-shot learning tasks ...\n",
            "Got an average of 2.8% accuracy for 20-way one-shot learning\n",
            "\n",
            "=== Training loop 89 ===\n",
            "Evaluating model on 250 random 20-way one-shot learning tasks ...\n",
            "Got an average of 4.8% accuracy for 20-way one-shot learning\n",
            "\n",
            "=== Training loop 90 ===\n",
            "Evaluating model on 250 random 20-way one-shot learning tasks ...\n",
            "Got an average of 4.4% accuracy for 20-way one-shot learning\n",
            "\n",
            "=== Training loop 91 ===\n",
            "Evaluating model on 250 random 20-way one-shot learning tasks ...\n",
            "Got an average of 5.2% accuracy for 20-way one-shot learning\n",
            "\n",
            "=== Training loop 92 ===\n",
            "Evaluating model on 250 random 20-way one-shot learning tasks ...\n",
            "Got an average of 4.8% accuracy for 20-way one-shot learning\n",
            "\n",
            "=== Training loop 93 ===\n",
            "Evaluating model on 250 random 20-way one-shot learning tasks ...\n",
            "Got an average of 5.6% accuracy for 20-way one-shot learning\n",
            "\n",
            "=== Training loop 94 ===\n",
            "Evaluating model on 250 random 20-way one-shot learning tasks ...\n",
            "Got an average of 7.6% accuracy for 20-way one-shot learning\n",
            "\n",
            "=== Training loop 95 ===\n",
            "Evaluating model on 250 random 20-way one-shot learning tasks ...\n",
            "Got an average of 4.0% accuracy for 20-way one-shot learning\n",
            "\n",
            "=== Training loop 96 ===\n",
            "Evaluating model on 250 random 20-way one-shot learning tasks ...\n",
            "Got an average of 4.4% accuracy for 20-way one-shot learning\n",
            "\n",
            "=== Training loop 97 ===\n",
            "Evaluating model on 250 random 20-way one-shot learning tasks ...\n",
            "Got an average of 3.2% accuracy for 20-way one-shot learning\n",
            "\n",
            "=== Training loop 98 ===\n",
            "Evaluating model on 250 random 20-way one-shot learning tasks ...\n",
            "Got an average of 3.2% accuracy for 20-way one-shot learning\n",
            "\n",
            "=== Training loop 99 ===\n",
            "Evaluating model on 250 random 20-way one-shot learning tasks ...\n",
            "Got an average of 5.2% accuracy for 20-way one-shot learning\n",
            "\n",
            "=== Training loop 100 ===\n",
            "Evaluating model on 250 random 20-way one-shot learning tasks ...\n",
            "Got an average of 3.2% accuracy for 20-way one-shot learning\n",
            "Average one-shot accuracy: 5.0920000000000005\n",
            "Final best one-shot accuracy: 10.0\n",
            "Final worst one-shot accuracy: 2.0\n"
          ],
          "name": "stdout"
        }
      ]
    },
    {
      "metadata": {
        "id": "v0acbKfjssD2",
        "colab_type": "code",
        "colab": {
          "autoexec": {
            "startup": false,
            "wait_interval": 0
          }
        }
      },
      "cell_type": "code",
      "source": [
        ""
      ],
      "execution_count": 0,
      "outputs": []
    },
    {
      "metadata": {
        "id": "M1BDzdPAz26B",
        "colab_type": "text"
      },
      "cell_type": "markdown",
      "source": [
        "***\n",
        "\n",
        "**b)** Briefly motivate your CNN architecture, and discuss the difference in one-shot accuracy between the Siamese network approach and the CNN neural codes approach.\n",
        "\n",
        "**Answer:**"
      ]
    },
    {
      "metadata": {
        "id": "oRpVm956FR8P",
        "colab_type": "text"
      },
      "cell_type": "markdown",
      "source": [
        "*=== write your answer here ===*\n",
        "\n",
        "Average one-shot accuracy: 5.0920000000000005\n",
        "Final best one-shot accuracy: 10.0\n",
        "Final worst one-shot accuracy: 2.0"
      ]
    },
    {
      "metadata": {
        "id": "KRHDOrDdPgkk",
        "colab_type": "code",
        "colab": {
          "autoexec": {
            "startup": false,
            "wait_interval": 0
          }
        }
      },
      "cell_type": "code",
      "source": [
        ""
      ],
      "execution_count": 0,
      "outputs": []
    }
  ]
}