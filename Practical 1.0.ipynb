{
 "cells": [
  {
   "cell_type": "markdown",
   "metadata": {},
   "source": [
    "## Example 1:\n",
    "Counting words in a document\n",
    "- Word co-occurence implementation with Alice in Wonderland\n",
    "- Word similarity with cosine similarity\n",
    "\n",
    "Some example plots:\n",
    "- Ch15, Fig. 15.3 for small corpus\n"
   ]
  },
  {
   "cell_type": "code",
   "execution_count": 1,
   "metadata": {},
   "outputs": [
    {
     "name": "stderr",
     "output_type": "stream",
     "text": [
      "/Users/daphne/anaconda/lib/python3.6/site-packages/h5py/__init__.py:34: FutureWarning: Conversion of the second argument of issubdtype from `float` to `np.floating` is deprecated. In future, it will be treated as `np.float64 == np.dtype(float).type`.\n",
      "  from ._conv import register_converters as _register_converters\n",
      "Using TensorFlow backend.\n"
     ]
    }
   ],
   "source": [
    "import numpy as np\n",
    "np.random.seed(13)\n",
    "import keras.backend as K\n",
    "from keras.models import Sequential\n",
    "from keras.layers import Dense, Embedding, Reshape, Lambda\n",
    "from IPython.display import SVG\n",
    "from keras.utils import np_utils\n",
    "from keras.utils.data_utils import get_file\n",
    "from keras.preprocessing.text import Tokenizer\n",
    "from keras.utils.vis_utils import model_to_dot\n",
    "from keras.preprocessing import sequence\n",
    "from gensim.models import KeyedVectors\n",
    "from sklearn.manifold import TSNE\n",
    "from sklearn.metrics.pairwise import cosine_similarity\n",
    "from sklearn.neighbors import NearestNeighbors as nn\n",
    "from itertools import islice\n",
    "from matplotlib import pylab\n",
    "from __future__ import division"
   ]
  },
  {
   "cell_type": "code",
   "execution_count": 2,
   "metadata": {},
   "outputs": [
    {
     "name": "stdout",
     "output_type": "stream",
     "text": [
      "['CHAPTER I. Down the Rabbit-Hole\\n', 'Alice was beginning to get very tired of sitting by her sister on the\\n', 'bank, and of having nothing to do: once or twice she had peeped into the\\n', 'book her sister was reading, but it had no pictures or conversations in\\n', \"it, 'and what is the use of a book,' thought Alice 'without pictures or\\n\", 'So she was considering in her own mind (as well as she could, for the\\n', 'hot day made her feel very sleepy and stupid), whether the pleasure\\n', 'of making a daisy-chain would be worth the trouble of getting up and\\n', 'picking the daisies, when suddenly a White Rabbit with pink eyes ran\\n', 'close by her.\\n', 'There was nothing so VERY remarkable in that; nor did Alice think it so\\n', \"VERY much out of the way to hear the Rabbit say to itself, 'Oh dear!\\n\", \"Oh dear! I shall be late!' (when she thought it over afterwards, it\\n\", 'occurred to her that she ought to have wondered at this, but at the time\\n', 'it all seemed quite natural); but when the Rabbit actually TOOK A WATCH\\n', 'OUT OF ITS WAISTCOAT-POCKET, and looked at it, and then hurried on,\\n', 'Alice started to her feet, for it flashed across her mind that she had\\n', 'never before seen a rabbit with either a waistcoat-pocket, or a watch\\n', 'to take out of it, and burning with curiosity, she ran across the field\\n', 'after it, and fortunately was just in time to see it pop down a large\\n', 'rabbit-hole under the hedge.\\n', 'In another moment down went Alice after it, never once considering how\\n', 'in the world she was to get out again.\\n', 'The rabbit-hole went straight on like a tunnel for some way, and then\\n', 'dipped suddenly down, so suddenly that Alice had not a moment to think\\n', 'about stopping herself before she found herself falling down a very deep\\n', 'Either the well was very deep, or she fell very slowly, for she had\\n', 'plenty of time as she went down to look about her and to wonder what was\\n', 'going to happen next. First, she tried to look down and make out what\\n', 'she was coming to, but it was too dark to see anything; then she\\n', 'looked at the sides of the well, and noticed that they were filled with\\n', 'cupboards and book-shelves; here and there she saw maps and pictures\\n', 'hung upon pegs. She took down a jar from one of the shelves as\\n', \"she passed; it was labelled 'ORANGE MARMALADE', but to her great\\n\", 'disappointment it was empty: she did not like to drop the jar for fear\\n', 'of killing somebody, so managed to put it into one of the cupboards as\\n', 'she fell past it.\\n', \"'Well!' thought Alice to herself, 'after such a fall as this, I shall\\n\", \"think nothing of tumbling down stairs! How brave they'll all think me at\\n\", \"home! Why, I wouldn't say anything about it, even if I fell off the top\\n\", \"of the house!' (Which was very likely true.)\\n\", \"Down, down, down. Would the fall NEVER come to an end! 'I wonder how\\n\", \"many miles I've fallen by this time?' she said aloud. 'I must be getting\\n\", 'somewhere near the centre of the earth. Let me see: that would be four\\n', \"thousand miles down, I think--' (for, you see, Alice had learnt several\\n\", 'things of this sort in her lessons in the schoolroom, and though this\\n', 'was not a VERY good opportunity for showing off her knowledge, as there\\n', 'was no one to listen to her, still it was good practice to say it over)\\n', \"'--yes, that's about the right distance--but then I wonder what Latitude\\n\", \"or Longitude I've got to?' (Alice had no idea what Latitude was, or\\n\", 'Longitude either, but thought they were nice grand words to say.)\\n', \"Presently she began again. 'I wonder if I shall fall right THROUGH the\\n\", \"earth! How funny it'll seem to come out among the people that walk with\\n\", \"their heads downward! The Antipathies, I think--' (she was rather glad\\n\", \"there WAS no one listening, this time, as it didn't sound at all the\\n\", \"right word) '--but I shall have to ask them what the name of the country\\n\", \"is, you know. Please, Ma'am, is this New Zealand or Australia?' (and\\n\", \"she tried to curtsey as she spoke--fancy CURTSEYING as you're falling\\n\", \"through the air! Do you think you could manage it?) 'And what an\\n\", \"ignorant little girl she'll think me for asking! No, it'll never do to\\n\", \"ask: perhaps I shall see it written up somewhere.'\\n\", 'Down, down, down. There was nothing else to do, so Alice soon began\\n', \"talking again. 'Dinah'll miss me very much to-night, I should think!'\\n\", \"(Dinah was the cat.) 'I hope they'll remember her saucer of milk at\\n\", 'tea-time. Dinah my dear! I wish you were down here with me! There are no\\n', \"mice in the air, I'm afraid, but you might catch a bat, and that's very\\n\", \"like a mouse, you know. But do cats eat bats, I wonder?' And here Alice\\n\", 'began to get rather sleepy, and went on saying to herself, in a dreamy\\n', \"sort of way, 'Do cats eat bats? Do cats eat bats?' and sometimes, 'Do\\n\", \"bats eat cats?' for, you see, as she couldn't answer either question,\\n\", \"it didn't much matter which way she put it. She felt that she was dozing\\n\", 'off, and had just begun to dream that she was walking hand in hand with\\n', \"Dinah, and saying to her very earnestly, 'Now, Dinah, tell me the truth:\\n\", \"did you ever eat a bat?' when suddenly, thump! thump! down she came upon\\n\", 'a heap of sticks and dry leaves, and the fall was over.\\n', 'Alice was not a bit hurt, and she jumped up on to her feet in a moment:\\n', 'she looked up, but it was all dark overhead; before her was another\\n', 'long passage, and the White Rabbit was still in sight, hurrying down it.\\n', 'There was not a moment to be lost: away went Alice like the wind, and\\n', \"was just in time to hear it say, as it turned a corner, 'Oh my ears\\n\", \"and whiskers, how late it's getting!' She was close behind it when she\\n\", 'turned the corner, but the Rabbit was no longer to be seen: she found\\n', 'herself in a long, low hall, which was lit up by a row of lamps hanging\\n', 'from the roof.\\n', 'There were doors all round the hall, but they were all locked; and when\\n', 'Alice had been all the way down one side and up the other, trying every\\n', 'door, she walked sadly down the middle, wondering how she was ever to\\n', 'get out again.\\n', 'Suddenly she came upon a little three-legged table, all made of solid\\n', \"glass; there was nothing on it except a tiny golden key, and Alice's\\n\", 'first thought was that it might belong to one of the doors of the hall;\\n', 'but, alas! either the locks were too large, or the key was too small,\\n', 'but at any rate it would not open any of them. However, on the second\\n', 'time round, she came upon a low curtain she had not noticed before, and\\n', 'behind it was a little door about fifteen inches high: she tried the\\n', 'little golden key in the lock, and to her great delight it fitted!\\n', 'Alice opened the door and found that it led into a small passage, not\\n', 'much larger than a rat-hole: she knelt down and looked along the passage\\n', 'into the loveliest garden you ever saw. How she longed to get out of\\n', 'that dark hall, and wander about among those beds of bright flowers and\\n', 'those cool fountains, but she could not even get her head through the\\n', \"doorway; 'and even if my head would go through,' thought poor Alice, 'it\\n\", 'would be of very little use without my shoulders. Oh, how I wish I could\\n', \"shut up like a telescope! I think I could, if I only knew how to begin.'\\n\", 'For, you see, so many out-of-the-way things had happened lately,\\n', 'that Alice had begun to think that very few things indeed were really\\n', 'There seemed to be no use in waiting by the little door, so she went\\n', 'back to the table, half hoping she might find another key on it, or at\\n', 'any rate a book of rules for shutting people up like telescopes: this\\n', \"time she found a little bottle on it, ('which certainly was not here\\n\", \"before,' said Alice,) and round the neck of the bottle was a paper\\n\", \"label, with the words 'DRINK ME' beautifully printed on it in large\\n\", \"It was all very well to say 'Drink me,' but the wise little Alice was\\n\", \"not going to do THAT in a hurry. 'No, I'll look first,' she said, 'and\\n\", 'see whether it\\'s marked \"poison\" or not\\'; for she had read several nice\\n', 'little histories about children who had got burnt, and eaten up by wild\\n', 'beasts and other unpleasant things, all because they WOULD not remember\\n', 'the simple rules their friends had taught them: such as, that a red-hot\\n', 'poker will burn you if you hold it too long; and that if you cut your\\n', 'finger VERY deeply with a knife, it usually bleeds; and she had never\\n', \"forgotten that, if you drink much from a bottle marked 'poison,' it is\\n\", 'almost certain to disagree with you, sooner or later.\\n', \"However, this bottle was NOT marked 'poison,' so Alice ventured to taste\\n\", 'it, and finding it very nice, (it had, in fact, a sort of mixed flavour\\n', 'of cherry-tart, custard, pine-apple, roast turkey, toffee, and hot\\n', 'buttered toast,) she very soon finished it off.\\n', '  *    *    *    *    *    *    *\\n', '    *    *    *    *    *    *\\n', '  *    *    *    *    *    *    *\\n', \"'What a curious feeling!' said Alice; 'I must be shutting up like a\\n\", 'And so it was indeed: she was now only ten inches high, and her face\\n', 'brightened up at the thought that she was now the right size for going\\n', 'through the little door into that lovely garden. First, however, she\\n', 'waited for a few minutes to see if she was going to shrink any further:\\n', \"she felt a little nervous about this; 'for it might end, you know,' said\\n\", \"Alice to herself, 'in my going out altogether, like a candle. I wonder\\n\", \"what I should be like then?' And she tried to fancy what the flame of a\\n\", 'candle is like after the candle is blown out, for she could not remember\\n', 'ever having seen such a thing.\\n', 'After a while, finding that nothing more happened, she decided on going\\n', 'into the garden at once; but, alas for poor Alice! when she got to the\\n', 'door, she found she had forgotten the little golden key, and when she\\n', 'went back to the table for it, she found she could not possibly reach\\n', 'it: she could see it quite plainly through the glass, and she tried her\\n', 'best to climb up one of the legs of the table, but it was too slippery;\\n', 'and when she had tired herself out with trying, the poor little thing\\n', 'sat down and cried.\\n', \"'Come, there's no use in crying like that!' said Alice to herself,\\n\", \"rather sharply; 'I advise you to leave off this minute!' She generally\\n\", 'gave herself very good advice, (though she very seldom followed it),\\n', 'and sometimes she scolded herself so severely as to bring tears into\\n', 'her eyes; and once she remembered trying to box her own ears for having\\n', 'cheated herself in a game of croquet she was playing against herself,\\n', 'for this curious child was very fond of pretending to be two people.\\n', \"'But it's no use now,' thought poor Alice, 'to pretend to be two people!\\n\", \"Why, there's hardly enough of me left to make ONE respectable person!'\\n\", 'Soon her eye fell on a little glass box that was lying under the table:\\n', 'she opened it, and found in it a very small cake, on which the words\\n', \"'EAT ME' were beautifully marked in currants. 'Well, I'll eat it,' said\\n\", \"Alice, 'and if it makes me grow larger, I can reach the key; and if it\\n\", \"makes me grow smaller, I can creep under the door; so either way I'll\\n\", \"get into the garden, and I don't care which happens!'\\n\", \"She ate a little bit, and said anxiously to herself, 'Which way? Which\\n\", \"way?', holding her hand on the top of her head to feel which way it was\\n\", 'growing, and she was quite surprised to find that she remained the same\\n', 'size: to be sure, this generally happens when one eats cake, but Alice\\n', 'had got so much into the way of expecting nothing but out-of-the-way\\n', 'things to happen, that it seemed quite dull and stupid for life to go on\\n', 'in the common way.\\n', 'So she set to work, and very soon finished off the cake.\\n', '  *    *    *    *    *    *    *\\n', '    *    *    *    *    *    *\\n', '  *    *    *    *    *    *    *\\n', 'CHAPTER II. The Pool of Tears\\n', \"'Curiouser and curiouser!' cried Alice (she was so much surprised, that\\n\", \"for the moment she quite forgot how to speak good English); 'now I'm\\n\", \"opening out like the largest telescope that ever was! Good-bye, feet!'\\n\", '(for when she looked down at her feet, they seemed to be almost out of\\n', \"sight, they were getting so far off). 'Oh, my poor little feet, I wonder\\n\", \"who will put on your shoes and stockings for you now, dears? I'm sure\\n\", \"_I_ shan't be able! I shall be a great deal too far off to trouble\\n\", 'myself about you: you must manage the best way you can;--but I must be\\n', \"kind to them,' thought Alice, 'or perhaps they won't walk the way I want\\n\", \"to go! Let me see: I'll give them a new pair of boots every Christmas.'\\n\", \"And she went on planning to herself how she would manage it. 'They must\\n\", \"go by the carrier,' she thought; 'and how funny it'll seem, sending\\n\", \"presents to one's own feet! And how odd the directions will look!\\n\", \"     ALICE'S RIGHT FOOT, ESQ.\\n\", '       HEARTHRUG,\\n', '         NEAR THE FENDER,\\n', \"           (WITH ALICE'S LOVE).\\n\", \"Oh dear, what nonsense I'm talking!'\\n\", 'Just then her head struck against the roof of the hall: in fact she was\\n', 'now more than nine feet high, and she at once took up the little golden\\n', 'key and hurried off to the garden door.\\n', 'Poor Alice! It was as much as she could do, lying down on one side, to\\n', 'look through into the garden with one eye; but to get through was more\\n', 'hopeless than ever: she sat down and began to cry again.\\n', \"'You ought to be ashamed of yourself,' said Alice, 'a great girl like\\n\", \"you,' (she might well say this), 'to go on crying in this way! Stop this\\n\", \"moment, I tell you!' But she went on all the same, shedding gallons of\\n\", 'tears, until there was a large pool all round her, about four inches\\n', 'deep and reaching half down the hall.\\n', 'After a time she heard a little pattering of feet in the distance, and\\n', 'she hastily dried her eyes to see what was coming. It was the White\\n', 'Rabbit returning, splendidly dressed, with a pair of white kid gloves in\\n', 'one hand and a large fan in the other: he came trotting along in a great\\n', \"hurry, muttering to himself as he came, 'Oh! the Duchess, the Duchess!\\n\", \"Oh! won't she be savage if I've kept her waiting!' Alice felt so\\n\", 'desperate that she was ready to ask help of any one; so, when the Rabbit\\n', \"came near her, she began, in a low, timid voice, 'If you please, sir--'\\n\", 'The Rabbit started violently, dropped the white kid gloves and the fan,\\n', 'and skurried away into the darkness as hard as he could go.\\n', 'Alice took up the fan and gloves, and, as the hall was very hot, she\\n', \"kept fanning herself all the time she went on talking: 'Dear, dear! How\\n\", 'queer everything is to-day! And yesterday things went on just as usual.\\n', \"I wonder if I've been changed in the night? Let me think: was I the\\n\", 'same when I got up this morning? I almost think I can remember feeling a\\n', \"little different. But if I'm not the same, the next question is, Who\\n\", \"in the world am I? Ah, THAT'S the great puzzle!' And she began thinking\\n\", 'over all the children she knew that were of the same age as herself, to\\n', 'see if she could have been changed for any of them.\\n', \"'I'm sure I'm not Ada,' she said, 'for her hair goes in such long\\n\", \"ringlets, and mine doesn't go in ringlets at all; and I'm sure I can't\\n\", 'be Mabel, for I know all sorts of things, and she, oh! she knows such a\\n', \"very little! Besides, SHE'S she, and I'm I, and--oh dear, how puzzling\\n\", \"it all is! I'll try if I know all the things I used to know. Let me\\n\", 'see: four times five is twelve, and four times six is thirteen, and\\n', 'four times seven is--oh dear! I shall never get to twenty at that rate!\\n', \"However, the Multiplication Table doesn't signify: let's try Geography.\\n\", 'London is the capital of Paris, and Paris is the capital of Rome, and\\n', \"Rome--no, THAT'S all wrong, I'm certain! I must have been changed for\\n\", 'Mabel! I\\'ll try and say \"How doth the little--\"\\' and she crossed her\\n', 'hands on her lap as if she were saying lessons, and began to repeat it,\\n', 'but her voice sounded hoarse and strange, and the words did not come the\\n', 'same as they used to do:--\\n', \"     'How doth the little crocodile\\n\", '      Improve his shining tail,\\n', '     And pour the waters of the Nile\\n', '      On every golden scale!\\n', \"     'How cheerfully he seems to grin,\\n\", '      How neatly spread his claws,\\n', '     And welcome little fishes in\\n', \"      With gently smiling jaws!'\\n\", \"'I'm sure those are not the right words,' said poor Alice, and her eyes\\n\", \"filled with tears again as she went on, 'I must be Mabel after all, and\\n\", 'I shall have to go and live in that poky little house, and have next to\\n', \"no toys to play with, and oh! ever so many lessons to learn! No, I've\\n\", \"made up my mind about it; if I'm Mabel, I'll stay down here! It'll be no\\n\", 'use their putting their heads down and saying \"Come up again, dear!\" I\\n', 'shall only look up and say \"Who am I then? Tell me that first, and then,\\n', \"if I like being that person, I'll come up: if not, I'll stay down here\\n\", 'till I\\'m somebody else\"--but, oh dear!\\' cried Alice, with a sudden burst\\n', \"of tears, 'I do wish they WOULD put their heads down! I am so VERY tired\\n\", \"of being all alone here!'\\n\", 'As she said this she looked down at her hands, and was surprised to see\\n', \"that she had put on one of the Rabbit's little white kid gloves while\\n\", \"she was talking. 'How CAN I have done that?' she thought. 'I must\\n\", \"be growing small again.' She got up and went to the table to measure\\n\", 'herself by it, and found that, as nearly as she could guess, she was now\\n', 'about two feet high, and was going on shrinking rapidly: she soon found\\n', 'out that the cause of this was the fan she was holding, and she dropped\\n', 'it hastily, just in time to avoid shrinking away altogether.\\n', \"'That WAS a narrow escape!' said Alice, a good deal frightened at the\\n\", \"sudden change, but very glad to find herself still in existence; 'and\\n\", \"now for the garden!' and she ran with all speed back to the little door:\\n\", 'but, alas! the little door was shut again, and the little golden key was\\n', \"lying on the glass table as before, 'and things are worse than ever,'\\n\", \"thought the poor child, 'for I never was so small as this before, never!\\n\", \"And I declare it's too bad, that it is!'\\n\", 'As she said these words her foot slipped, and in another moment, splash!\\n', 'she was up to her chin in salt water. Her first idea was that she\\n', \"had somehow fallen into the sea, 'and in that case I can go back by\\n\", \"railway,' she said to herself. (Alice had been to the seaside once in\\n\", 'her life, and had come to the general conclusion, that wherever you go\\n', 'to on the English coast you find a number of bathing machines in the\\n', 'sea, some children digging in the sand with wooden spades, then a row\\n', 'of lodging houses, and behind them a railway station.) However, she soon\\n', 'made out that she was in the pool of tears which she had wept when she\\n', 'was nine feet high.\\n', \"'I wish I hadn't cried so much!' said Alice, as she swam about, trying\\n\", \"to find her way out. 'I shall be punished for it now, I suppose, by\\n\", 'being drowned in my own tears! That WILL be a queer thing, to be sure!\\n', \"However, everything is queer to-day.'\\n\", 'Just then she heard something splashing about in the pool a little way\\n', 'off, and she swam nearer to make out what it was: at first she thought\\n', 'it must be a walrus or hippopotamus, but then she remembered how small\\n', 'she was now, and she soon made out that it was only a mouse that had\\n', 'slipped in like herself.\\n', \"'Would it be of any use, now,' thought Alice, 'to speak to this mouse?\\n\", 'Everything is so out-of-the-way down here, that I should think very\\n', \"likely it can talk: at any rate, there's no harm in trying.' So she\\n\", \"began: 'O Mouse, do you know the way out of this pool? I am very tired\\n\", \"of swimming about here, O Mouse!' (Alice thought this must be the right\\n\", 'way of speaking to a mouse: she had never done such a thing before, but\\n', \"she remembered having seen in her brother's Latin Grammar, 'A mouse--of\\n\", \"a mouse--to a mouse--a mouse--O mouse!') The Mouse looked at her rather\\n\", 'inquisitively, and seemed to her to wink with one of its little eyes,\\n', 'but it said nothing.\\n', \"'Perhaps it doesn't understand English,' thought Alice; 'I daresay it's\\n\", \"a French mouse, come over with William the Conqueror.' (For, with all\\n\", 'her knowledge of history, Alice had no very clear notion how long ago\\n', \"anything had happened.) So she began again: 'Ou est ma chatte?' which\\n\", 'was the first sentence in her French lesson-book. The Mouse gave a\\n', 'sudden leap out of the water, and seemed to quiver all over with fright.\\n', \"'Oh, I beg your pardon!' cried Alice hastily, afraid that she had hurt\\n\", \"the poor animal's feelings. 'I quite forgot you didn't like cats.'\\n\", \"'Not like cats!' cried the Mouse, in a shrill, passionate voice. 'Would\\n\", \"YOU like cats if you were me?'\\n\", \"'Well, perhaps not,' said Alice in a soothing tone: 'don't be angry\\n\", \"about it. And yet I wish I could show you our cat Dinah: I think you'd\\n\", 'take a fancy to cats if you could only see her. She is such a dear quiet\\n', \"thing,' Alice went on, half to herself, as she swam lazily about in the\\n\", \"pool, 'and she sits purring so nicely by the fire, licking her paws and\\n\", \"washing her face--and she is such a nice soft thing to nurse--and she's\\n\", \"such a capital one for catching mice--oh, I beg your pardon!' cried\\n\", 'Alice again, for this time the Mouse was bristling all over, and she\\n', \"felt certain it must be really offended. 'We won't talk about her any\\n\", \"more if you'd rather not.'\\n\", \"'We indeed!' cried the Mouse, who was trembling down to the end of his\\n\", \"tail. 'As if I would talk on such a subject! Our family always HATED\\n\", \"cats: nasty, low, vulgar things! Don't let me hear the name again!'\\n\", \"'I won't indeed!' said Alice, in a great hurry to change the subject of\\n\", \"conversation. 'Are you--are you fond--of--of dogs?' The Mouse did not\\n\", \"answer, so Alice went on eagerly: 'There is such a nice little dog near\\n\", 'our house I should like to show you! A little bright-eyed terrier, you\\n', \"know, with oh, such long curly brown hair! And it'll fetch things when\\n\", \"you throw them, and it'll sit up and beg for its dinner, and all sorts\\n\", \"of things--I can't remember half of them--and it belongs to a farmer,\\n\", \"you know, and he says it's so useful, it's worth a hundred pounds! He\\n\", \"says it kills all the rats and--oh dear!' cried Alice in a sorrowful\\n\", \"tone, 'I'm afraid I've offended it again!' For the Mouse was swimming\\n\", 'away from her as hard as it could go, and making quite a commotion in\\n', 'the pool as it went.\\n', \"So she called softly after it, 'Mouse dear! Do come back again, and we\\n\", \"won't talk about cats or dogs either, if you don't like them!' When the\\n\", 'Mouse heard this, it turned round and swam slowly back to her: its\\n', 'face was quite pale (with passion, Alice thought), and it said in a low\\n', \"trembling voice, 'Let us get to the shore, and then I'll tell you my\\n\", \"history, and you'll understand why it is I hate cats and dogs.'\\n\", 'It was high time to go, for the pool was getting quite crowded with the\\n', 'birds and animals that had fallen into it: there were a Duck and a Dodo,\\n', 'a Lory and an Eaglet, and several other curious creatures. Alice led the\\n', 'way, and the whole party swam to the shore.\\n', 'CHAPTER III. A Caucus-Race and a Long Tale\\n', 'They were indeed a queer-looking party that assembled on the bank--the\\n', 'birds with draggled feathers, the animals with their fur clinging close\\n', 'to them, and all dripping wet, cross, and uncomfortable.\\n', 'The first question of course was, how to get dry again: they had a\\n', 'consultation about this, and after a few minutes it seemed quite natural\\n', 'to Alice to find herself talking familiarly with them, as if she had\\n', 'known them all her life. Indeed, she had quite a long argument with the\\n', \"Lory, who at last turned sulky, and would only say, 'I am older than\\n\", \"you, and must know better'; and this Alice would not allow without\\n\", 'knowing how old it was, and, as the Lory positively refused to tell its\\n', 'age, there was no more to be said.\\n', 'At last the Mouse, who seemed to be a person of authority among them,\\n', \"called out, 'Sit down, all of you, and listen to me! I'LL soon make you\\n\", \"dry enough!' They all sat down at once, in a large ring, with the Mouse\\n\", 'in the middle. Alice kept her eyes anxiously fixed on it, for she felt\\n', 'sure she would catch a bad cold if she did not get dry very soon.\\n', \"'Ahem!' said the Mouse with an important air, 'are you all ready? This\\n\", 'is the driest thing I know. Silence all round, if you please! \"William\\n', 'the Conqueror, whose cause was favoured by the pope, was soon submitted\\n', 'to by the English, who wanted leaders, and had been of late much\\n', 'accustomed to usurpation and conquest. Edwin and Morcar, the earls of\\n', 'Mercia and Northumbria--\"\\'\\n', \"'Ugh!' said the Lory, with a shiver.\\n\", \"'I beg your pardon!' said the Mouse, frowning, but very politely: 'Did\\n\", \"'Not I!' said the Lory hastily.\\n\", '\\'I thought you did,\\' said the Mouse. \\'--I proceed. \"Edwin and Morcar,\\n', 'the earls of Mercia and Northumbria, declared for him: and even Stigand,\\n', 'the patriotic archbishop of Canterbury, found it advisable--\"\\'\\n', \"'Found WHAT?' said the Duck.\\n\", \"'Found IT,' the Mouse replied rather crossly: 'of course you know what\\n\", '\\'I know what \"it\" means well enough, when I find a thing,\\' said the\\n', \"Duck: 'it's generally a frog or a worm. The question is, what did the\\n\", 'The Mouse did not notice this question, but hurriedly went on, \\'\"--found\\n', 'it advisable to go with Edgar Atheling to meet William and offer him the\\n', \"crown. William's conduct at first was moderate. But the insolence of his\\n\", 'Normans--\" How are you getting on now, my dear?\\' it continued, turning\\n', 'to Alice as it spoke.\\n', \"'As wet as ever,' said Alice in a melancholy tone: 'it doesn't seem to\\n\", \"dry me at all.'\\n\", \"'In that case,' said the Dodo solemnly, rising to its feet, 'I move\\n\", 'that the meeting adjourn, for the immediate adoption of more energetic\\n', \"'Speak English!' said the Eaglet. 'I don't know the meaning of half\\n\", \"those long words, and, what's more, I don't believe you do either!' And\\n\", 'the Eaglet bent down its head to hide a smile: some of the other birds\\n', \"'What I was going to say,' said the Dodo in an offended tone, 'was, that\\n\", \"the best thing to get us dry would be a Caucus-race.'\\n\", \"'What IS a Caucus-race?' said Alice; not that she wanted much to know,\\n\", 'but the Dodo had paused as if it thought that SOMEBODY ought to speak,\\n', 'and no one else seemed inclined to say anything.\\n', \"'Why,' said the Dodo, 'the best way to explain it is to do it.' (And, as\\n\", 'you might like to try the thing yourself, some winter day, I will tell\\n', 'you how the Dodo managed it.)\\n', \"First it marked out a race-course, in a sort of circle, ('the exact\\n\", \"shape doesn't matter,' it said,) and then all the party were placed\\n\", \"along the course, here and there. There was no 'One, two, three, and\\n\", \"away,' but they began running when they liked, and left off when they\\n\", 'liked, so that it was not easy to know when the race was over. However,\\n', 'when they had been running half an hour or so, and were quite dry again,\\n', \"the Dodo suddenly called out 'The race is over!' and they all crowded\\n\", \"round it, panting, and asking, 'But who has won?'\\n\", 'This question the Dodo could not answer without a great deal of thought,\\n', 'and it sat for a long time with one finger pressed upon its forehead\\n', '(the position in which you usually see Shakespeare, in the pictures\\n', 'of him), while the rest waited in silence. At last the Dodo said,\\n', \"'EVERYBODY has won, and all must have prizes.'\\n\", \"'But who is to give the prizes?' quite a chorus of voices asked.\\n\", \"'Why, SHE, of course,' said the Dodo, pointing to Alice with one finger;\\n\", 'and the whole party at once crowded round her, calling out in a confused\\n', \"way, 'Prizes! Prizes!'\\n\", 'Alice had no idea what to do, and in despair she put her hand in her\\n', 'pocket, and pulled out a box of comfits, (luckily the salt water had\\n', 'not got into it), and handed them round as prizes. There was exactly one\\n', 'a-piece all round.\\n', \"'But she must have a prize herself, you know,' said the Mouse.\\n\", \"'Of course,' the Dodo replied very gravely. 'What else have you got in\\n\", \"your pocket?' he went on, turning to Alice.\\n\", \"'Only a thimble,' said Alice sadly.\\n\", \"'Hand it over here,' said the Dodo.\\n\", 'Then they all crowded round her once more, while the Dodo solemnly\\n', \"presented the thimble, saying 'We beg your acceptance of this elegant\\n\", \"thimble'; and, when it had finished this short speech, they all cheered.\\n\", 'Alice thought the whole thing very absurd, but they all looked so grave\\n', 'that she did not dare to laugh; and, as she could not think of anything\\n', 'to say, she simply bowed, and took the thimble, looking as solemn as she\\n', 'The next thing was to eat the comfits: this caused some noise and\\n', 'confusion, as the large birds complained that they could not taste\\n', 'theirs, and the small ones choked and had to be patted on the back.\\n', 'However, it was over at last, and they sat down again in a ring, and\\n', 'begged the Mouse to tell them something more.\\n', \"'You promised to tell me your history, you know,' said Alice, 'and why\\n\", \"it is you hate--C and D,' she added in a whisper, half afraid that it\\n\", 'would be offended again.\\n', \"'Mine is a long and a sad tale!' said the Mouse, turning to Alice, and\\n\", \"'It IS a long tail, certainly,' said Alice, looking down with wonder at\\n\", \"the Mouse's tail; 'but why do you call it sad?' And she kept on puzzling\\n\", 'about it while the Mouse was speaking, so that her idea of the tale was\\n', 'something like this:--\\n', \"         'Fury said to a\\n\", '         mouse, That he\\n', '        met in the\\n', '       house,\\n', '     \"Let us\\n', '      both go to\\n', '       law: I will\\n', '        prosecute\\n', '         YOU.--Come,\\n', \"           I'll take no\\n\", '           denial; We\\n', '          must have a\\n', '        trial: For\\n', '      really this\\n', \"     morning I've\\n\", '    nothing\\n', '    to do.\"\\n', '     Said the\\n', '      mouse to the\\n', '       cur, \"Such\\n', '        a trial,\\n', '         dear Sir,\\n', '            With\\n', '          no jury\\n', '        or judge,\\n', '       would be\\n', '      wasting\\n', '      our\\n', '      breath.\"\\n', '       \"I\\'ll be\\n', \"        judge, I'll\\n\", '         be jury,\"\\n', '            Said\\n', '         cunning\\n', '          old Fury:\\n', '          \"I\\'ll\\n', '          try the\\n', '            whole\\n', '            cause,\\n', '              and\\n', '           condemn\\n', '           you\\n', '          to\\n', '           death.\"\\'\\n', \"'You are not attending!' said the Mouse to Alice severely. 'What are you\\n\", \"'I beg your pardon,' said Alice very humbly: 'you had got to the fifth\\n\", \"bend, I think?'\\n\", \"'I had NOT!' cried the Mouse, sharply and very angrily.\\n\", \"'A knot!' said Alice, always ready to make herself useful, and looking\\n\", \"anxiously about her. 'Oh, do let me help to undo it!'\\n\", \"'I shall do nothing of the sort,' said the Mouse, getting up and walking\\n\", \"away. 'You insult me by talking such nonsense!'\\n\", \"'I didn't mean it!' pleaded poor Alice. 'But you're so easily offended,\\n\", 'The Mouse only growled in reply.\\n', \"'Please come back and finish your story!' Alice called after it; and the\\n\", \"others all joined in chorus, 'Yes, please do!' but the Mouse only shook\\n\", 'its head impatiently, and walked a little quicker.\\n', \"'What a pity it wouldn't stay!' sighed the Lory, as soon as it was quite\\n\", 'out of sight; and an old Crab took the opportunity of saying to her\\n', \"daughter 'Ah, my dear! Let this be a lesson to you never to lose\\n\", \"YOUR temper!' 'Hold your tongue, Ma!' said the young Crab, a little\\n\", \"snappishly. 'You're enough to try the patience of an oyster!'\\n\", \"'I wish I had our Dinah here, I know I do!' said Alice aloud, addressing\\n\", \"nobody in particular. 'She'd soon fetch it back!'\\n\", \"'And who is Dinah, if I might venture to ask the question?' said the\\n\", 'Alice replied eagerly, for she was always ready to talk about her pet:\\n', \"'Dinah's our cat. And she's such a capital one for catching mice you\\n\", \"can't think! And oh, I wish you could see her after the birds! Why,\\n\", \"she'll eat a little bird as soon as look at it!'\\n\", 'This speech caused a remarkable sensation among the party. Some of the\\n', 'birds hurried off at once: one old Magpie began wrapping itself up very\\n', \"carefully, remarking, 'I really must be getting home; the night-air\\n\", \"doesn't suit my throat!' and a Canary called out in a trembling voice to\\n\", \"its children, 'Come away, my dears! It's high time you were all in bed!'\\n\", 'On various pretexts they all moved off, and Alice was soon left alone.\\n', \"'I wish I hadn't mentioned Dinah!' she said to herself in a melancholy\\n\", \"tone. 'Nobody seems to like her, down here, and I'm sure she's the best\\n\", 'cat in the world! Oh, my dear Dinah! I wonder if I shall ever see you\\n', \"any more!' And here poor Alice began to cry again, for she felt very\\n\", 'lonely and low-spirited. In a little while, however, she again heard\\n', 'a little pattering of footsteps in the distance, and she looked up\\n', 'eagerly, half hoping that the Mouse had changed his mind, and was coming\\n', 'back to finish his story.\\n', 'CHAPTER IV. The Rabbit Sends in a Little Bill\\n', 'It was the White Rabbit, trotting slowly back again, and looking\\n', 'anxiously about as it went, as if it had lost something; and she heard\\n', \"it muttering to itself 'The Duchess! The Duchess! Oh my dear paws! Oh\\n\", \"my fur and whiskers! She'll get me executed, as sure as ferrets are\\n\", \"ferrets! Where CAN I have dropped them, I wonder?' Alice guessed in a\\n\", 'moment that it was looking for the fan and the pair of white kid gloves,\\n', 'and she very good-naturedly began hunting about for them, but they were\\n', 'nowhere to be seen--everything seemed to have changed since her swim in\\n', 'the pool, and the great hall, with the glass table and the little door,\\n', 'had vanished completely.\\n', 'Very soon the Rabbit noticed Alice, as she went hunting about, and\\n', \"called out to her in an angry tone, 'Why, Mary Ann, what ARE you doing\\n\", 'out here? Run home this moment, and fetch me a pair of gloves and a fan!\\n', \"Quick, now!' And Alice was so much frightened that she ran off at once\\n\", 'in the direction it pointed to, without trying to explain the mistake it\\n', \"'He took me for his housemaid,' she said to herself as she ran. 'How\\n\", \"surprised he'll be when he finds out who I am! But I'd better take him\\n\", \"his fan and gloves--that is, if I can find them.' As she said this, she\\n\", 'came upon a neat little house, on the door of which was a bright brass\\n', \"plate with the name 'W. RABBIT' engraved upon it. She went in without\\n\", 'knocking, and hurried upstairs, in great fear lest she should meet the\\n', 'real Mary Ann, and be turned out of the house before she had found the\\n', 'fan and gloves.\\n', \"'How queer it seems,' Alice said to herself, 'to be going messages for\\n\", \"a rabbit! I suppose Dinah'll be sending me on messages next!' And she\\n\", 'began fancying the sort of thing that would happen: \\'\"Miss Alice! Come\\n', 'here directly, and get ready for your walk!\" \"Coming in a minute,\\n', 'nurse! But I\\'ve got to see that the mouse doesn\\'t get out.\" Only I don\\'t\\n', \"think,' Alice went on, 'that they'd let Dinah stop in the house if it\\n\", \"began ordering people about like that!'\\n\", 'By this time she had found her way into a tidy little room with a table\\n', 'in the window, and on it (as she had hoped) a fan and two or three pairs\\n', 'of tiny white kid gloves: she took up the fan and a pair of the gloves,\\n', 'and was just going to leave the room, when her eye fell upon a little\\n']\n"
     ]
    }
   ],
   "source": [
    "# DO NOT Modify the lines in this cell\n",
    "path = 'alice.txt'\n",
    "corpus = open(path).readlines()[0:700]\n",
    "\n",
    "corpus = [sentence for sentence in corpus if sentence.count(\" \") >= 2]\n",
    "tokenizer = Tokenizer(filters='!\"#$%&()*+,-./:;<=>?@[\\\\]^_`{|}~\\t\\n'+\"'\")\n",
    "tokenizer.fit_on_texts(corpus)\n",
    "print(corpus)\n",
    "corpus = tokenizer.texts_to_sequences(corpus)\n",
    "nb_samples = sum(len(s) for s in corpus)\n",
    "V = len(tokenizer.word_index) + 1\n",
    "\n",
    "# Is this something they need to change?\n",
    "dim = 100\n",
    "window_size = 2\n",
    "window_size_corpus = 4"
   ]
  },
  {
   "cell_type": "markdown",
   "metadata": {
    "collapsed": true
   },
   "source": [
    "###### Word co-occurrence matrix for _The dog chased the cat away from the garden_\n",
    "---------------------------------------------------------\n",
    "|     | The | dog | chased | cat | away | from | garden |\n",
    "|-----|-----|-----|--------|-----|------|------|--------|\n",
    "| The | 0 | 2 | 2 | 3 | 2 | 2 | 1 |\n",
    "|dog | 2 | 0 | 1 | 1 | 1 | 0 | 0 |\n",
    "|chased | 2 | 1 | 0 | 1 | 1 | 1 | 0 |\n",
    "|cat | 3 | 1 | 1 | 0 | 1 | 1 | 1 |\n",
    "|away | 2 | 1 | 1 | 1 | 0 | 1 | 1 |\n",
    "|from | 2 | 0 | 1 | 1 | 1 | 0 | 1 |\n",
    "|garden | 1 | 0 | 0 | 1 | 1 | 1 | 0 |\n",
    "\n",
    "This is an example of a word co-occurence matrix of only one sentence. Create a word co-occurrence matrix for Alice in Wonderland"
   ]
  },
  {
   "cell_type": "code",
   "execution_count": 7,
   "metadata": {},
   "outputs": [],
   "source": [
    "#co-occurrence matrix\n",
    "np.set_printoptions(threshold=np.nan)\n",
    "coMatrix=np.zeros((V+1, V+1), np.int8)\n",
    "    \n",
    "def processSentence(sentence):\n",
    "    # Run over the sentence from all words as a co-occurrence\n",
    "    for w1 in range(0, len(sentence)):\n",
    "        word1 = sentence[w1]\n",
    "        window = [w1-2, w1-1, w1+1, w1+2]\n",
    "        for w2 in window:\n",
    "            if w2 >= 0 and w2 < len(sentence):\n",
    "                word2 = sentence[w2]\n",
    "                if(word1 != word2):\n",
    "                    coMatrix[word1][word2] += 1\n",
    "\n",
    "for sentence in corpus:\n",
    "    processSentence(sentence)"
   ]
  },
  {
   "cell_type": "code",
   "execution_count": 8,
   "metadata": {},
   "outputs": [
    {
     "name": "stdout",
     "output_type": "stream",
     "text": [
      "[[0.26397443]]\n",
      "[[0.25959354]]\n",
      "[[0.16871245]]\n"
     ]
    }
   ],
   "source": [
    "#Compute similarity between the words Alice, Rabbit and Dinah\n",
    "dictionary = tokenizer.word_index\n",
    "alice = dictionary['alice']\n",
    "rabbit = dictionary['rabbit']\n",
    "dinah = dictionary['dinah']\n",
    "\n",
    "print(cosine_similarity(coMatrix[alice].reshape(1, -1), coMatrix[rabbit].reshape(1, -1)))\n",
    "print(cosine_similarity(coMatrix[alice].reshape(1, -1), coMatrix[dinah].reshape(1, -1)))\n",
    "print(cosine_similarity(coMatrix[dinah].reshape(1, -1), coMatrix[rabbit].reshape(1, -1)))"
   ]
  },
  {
   "cell_type": "code",
   "execution_count": 9,
   "metadata": {},
   "outputs": [
    {
     "name": "stdout",
     "output_type": "stream",
     "text": [
      "alice\n",
      "herself\n",
      "very\n",
      "that\n",
      "do\n",
      "her\n"
     ]
    },
    {
     "name": "stderr",
     "output_type": "stream",
     "text": [
      "/Users/daphne/anaconda/lib/python3.6/site-packages/sklearn/utils/validation.py:395: DeprecationWarning: Passing 1d arrays as data is deprecated in 0.17 and will raise ValueError in 0.19. Reshape your data either using X.reshape(-1, 1) if your data has a single feature or X.reshape(1, -1) if it contains a single sample.\n",
      "  DeprecationWarning)\n"
     ]
    }
   ],
   "source": [
    "#Retrieve the five most similar words to Alice with nearest neighbors\n",
    "\n",
    "neighbors = nn(n_neighbors=6)\n",
    "neighbors.fit(coMatrix) \n",
    "similars = (neighbors.kneighbors(coMatrix[alice])[1])[0]\n",
    "#translate ids back into words:\n",
    "for word in similars:\n",
    "    print(list(dictionary.keys())[list(dictionary.values()).index(word)])"
   ]
  },
  {
   "cell_type": "markdown",
   "metadata": {},
   "source": [
    "## Example 2:\n",
    "Word embedding (dense) comparisons\n",
    "- Load the pre-trained word embeddings of word2vec\n",
    "- See whether the differences between the following word pairs are similar:\n",
    "    - _A king is to a queen as a man is to a woman_\n",
    "    - _A cat is to a kitten as a dog is to a puppy_\n",
    "    - _Cats are to a cat as dogs are to a dog_\n",
    "- Compare the following synonyms and antonyms:\n",
    "    - Unhappy and happy\n",
    "    - Happy and cheerful\n",
    "    - Unhappy and cheerful\n",
    "    - Synonym and equivalence\n",
    "    - Synonym and antonym\n",
    "    \n",
    "\n",
    "Download word2vec here: https://drive.google.com/file/d/0B7XkCwpI5KDYNlNUTTlSS21pQmM/edit\n"
   ]
  },
  {
   "cell_type": "code",
   "execution_count": 10,
   "metadata": {
    "collapsed": true
   },
   "outputs": [],
   "source": [
    "#load word2vec\n",
    "path = '/Users/daphne/Desktop/GoogleNews-vectors-negative300.bin'\n",
    "word2vec = KeyedVectors.load_word2vec_format(path, binary=True)"
   ]
  },
  {
   "cell_type": "code",
   "execution_count": 11,
   "metadata": {
    "collapsed": true
   },
   "outputs": [],
   "source": [
    "#perform gensim tasks"
   ]
  },
  {
   "cell_type": "code",
   "execution_count": 12,
   "metadata": {},
   "outputs": [
    {
     "name": "stdout",
     "output_type": "stream",
     "text": [
      "A king is to a queen [[0.6510958]]\n",
      "as a man is to a woman [[0.7664013]] \n",
      "\n",
      "A cat is to a kitten [[0.7464985]]\n",
      "as a dog is to a puppy [[0.81064284]] \n",
      "\n",
      "Cats are to a cat [[0.8099379]]\n",
      "as dogs are to a dog [[0.8680489]]\n"
     ]
    }
   ],
   "source": [
    "#A king is to a queen as a man is to a woman\n",
    "print('A king is to a queen', cosine_similarity(word2vec['king'].reshape(1,-1), word2vec['queen'].reshape(1, -1)))\n",
    "print('as a man is to a woman', cosine_similarity(word2vec['man'].reshape(1,-1), word2vec['woman'].reshape(1,-1)), '\\n')\n",
    "\n",
    "#A cat is to a kitten as a dog is to a puppy\n",
    "print('A cat is to a kitten', cosine_similarity(word2vec['cat'].reshape(1,-1), word2vec['kitten'].reshape(1,-1)))\n",
    "print('as a dog is to a puppy', cosine_similarity(word2vec['dog'].reshape(1,-1), word2vec['puppy'].reshape(1,-1)), '\\n')\n",
    "\n",
    "#Cats are to a cat as dogs are to a dog\n",
    "print('Cats are to a cat', cosine_similarity(word2vec['cats'].reshape(1,-1), word2vec['cat'].reshape(1,-1)))\n",
    "print('as dogs are to a dog', cosine_similarity(word2vec['dogs'].reshape(1,-1), word2vec['dog'].reshape(1,-1)))\n"
   ]
  },
  {
   "cell_type": "code",
   "execution_count": 13,
   "metadata": {},
   "outputs": [
    {
     "name": "stdout",
     "output_type": "stream",
     "text": [
      "[[0.6128039]]\n",
      "[[0.38377392]]\n",
      "[[0.2091079]]\n",
      "[[0.16996254]]\n",
      "[[0.5681054]]\n"
     ]
    }
   ],
   "source": [
    "# Unhappy and happy\n",
    "print(cosine_similarity(word2vec['unhappy'].reshape(1,-1), word2vec['happy'].reshape(1,-1)))\n",
    "\n",
    "# Happy and cheerful\n",
    "print(cosine_similarity(word2vec['happy'].reshape(1,-1), word2vec['cheerful'].reshape(1,-1)))\n",
    "\n",
    "# Unhappy and cheerful\n",
    "print(cosine_similarity(word2vec['unhappy'].reshape(1,-1), word2vec['cheerful'].reshape(1,-1)))\n",
    "\n",
    "# Synonym and equivalence\n",
    "print(cosine_similarity(word2vec['synonym'].reshape(1,-1), word2vec['equivalence'].reshape(1,-1)))\n",
    "\n",
    "# Synonym and antonym\n",
    "print(cosine_similarity(word2vec['synonym'].reshape(1,-1), word2vec['antonym'].reshape(1,-1)))"
   ]
  }
 ],
 "metadata": {
  "kernelspec": {
   "display_name": "Python 3",
   "language": "python",
   "name": "python3"
  },
  "language_info": {
   "codemirror_mode": {
    "name": "ipython",
    "version": 3
   },
   "file_extension": ".py",
   "mimetype": "text/x-python",
   "name": "python",
   "nbconvert_exporter": "python",
   "pygments_lexer": "ipython3",
   "version": "3.6.1"
  }
 },
 "nbformat": 4,
 "nbformat_minor": 2
}
